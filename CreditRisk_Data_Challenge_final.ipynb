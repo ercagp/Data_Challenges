{
 "cells": [
  {
   "cell_type": "markdown",
   "id": "c250aea9-c5b0-4571-824b-6962abfacdfb",
   "metadata": {},
   "source": [
    "# Credit Risk Assessment: A Data Challenge"
   ]
  },
  {
   "cell_type": "markdown",
   "id": "cee8c9a3-e61b-4feb-a0a6-8c62c6595a64",
   "metadata": {},
   "source": [
    "## Objective \n",
    "We would like to assess the risk of credit borrowers' default based on the payment trends and their public records. The goal of data challenge is to find a viable method to detect individuals with a tendency to make late payment and/or default, and develop a model for predicting late payments. "
   ]
  },
  {
   "cell_type": "markdown",
   "id": "a70f2ddd-9f3a-481e-adf7-079c6c84b69f",
   "metadata": {},
   "source": [
    "We will start by importing the csv files as the main data. Then, the data dictionaries. "
   ]
  },
  {
   "cell_type": "code",
   "execution_count": 1,
   "id": "d0042312-2de5-4fb1-b3f3-a406cfa85c07",
   "metadata": {
    "tags": []
   },
   "outputs": [],
   "source": [
    "import numpy as np \n",
    "import pandas as pd \n",
    "import seaborn as sns \n",
    "import matplotlib.pyplot as plt\n",
    "import sklearn"
   ]
  },
  {
   "cell_type": "code",
   "execution_count": 2,
   "id": "e07bf0d7-d5b8-446c-8def-248d46d82306",
   "metadata": {
    "tags": []
   },
   "outputs": [],
   "source": [
    "#Import the data \n",
    "Home = '/Users/ercagpince/Documents/Data_Challenges/'\n",
    "Loan_File = 'Credit_Risk_Loan_performance.csv'\n",
    "Public_File = 'Credit_Risk_Public_records.csv'\n",
    "\n",
    "Loan_Data = pd.read_csv(r'' + Home + Loan_File)"
   ]
  },
  {
   "cell_type": "code",
   "execution_count": 3,
   "id": "08587c54-0d0f-444d-bdee-3da9004d25c5",
   "metadata": {
    "tags": []
   },
   "outputs": [
    {
     "data": {
      "text/html": [
       "<div>\n",
       "<style scoped>\n",
       "    .dataframe tbody tr th:only-of-type {\n",
       "        vertical-align: middle;\n",
       "    }\n",
       "\n",
       "    .dataframe tbody tr th {\n",
       "        vertical-align: top;\n",
       "    }\n",
       "\n",
       "    .dataframe thead th {\n",
       "        text-align: right;\n",
       "    }\n",
       "</style>\n",
       "<table border=\"1\" class=\"dataframe\">\n",
       "  <thead>\n",
       "    <tr style=\"text-align: right;\">\n",
       "      <th></th>\n",
       "      <th>analytics_matchkey</th>\n",
       "      <th>max_loan_amount</th>\n",
       "      <th>late_30_days</th>\n",
       "      <th>late_60_days</th>\n",
       "      <th>late_90_days</th>\n",
       "    </tr>\n",
       "  </thead>\n",
       "  <tbody>\n",
       "    <tr>\n",
       "      <th>0</th>\n",
       "      <td>1346745</td>\n",
       "      <td>2500</td>\n",
       "      <td>0</td>\n",
       "      <td>0</td>\n",
       "      <td>0</td>\n",
       "    </tr>\n",
       "    <tr>\n",
       "      <th>1</th>\n",
       "      <td>1346746</td>\n",
       "      <td>1000</td>\n",
       "      <td>0</td>\n",
       "      <td>0</td>\n",
       "      <td>0</td>\n",
       "    </tr>\n",
       "    <tr>\n",
       "      <th>2</th>\n",
       "      <td>1346747</td>\n",
       "      <td>1002</td>\n",
       "      <td>0</td>\n",
       "      <td>0</td>\n",
       "      <td>0</td>\n",
       "    </tr>\n",
       "    <tr>\n",
       "      <th>3</th>\n",
       "      <td>1346748</td>\n",
       "      <td>1500</td>\n",
       "      <td>0</td>\n",
       "      <td>0</td>\n",
       "      <td>0</td>\n",
       "    </tr>\n",
       "    <tr>\n",
       "      <th>4</th>\n",
       "      <td>1346749</td>\n",
       "      <td>1675</td>\n",
       "      <td>0</td>\n",
       "      <td>0</td>\n",
       "      <td>0</td>\n",
       "    </tr>\n",
       "  </tbody>\n",
       "</table>\n",
       "</div>"
      ],
      "text/plain": [
       "   analytics_matchkey  max_loan_amount  late_30_days  late_60_days  \\\n",
       "0             1346745             2500             0             0   \n",
       "1             1346746             1000             0             0   \n",
       "2             1346747             1002             0             0   \n",
       "3             1346748             1500             0             0   \n",
       "4             1346749             1675             0             0   \n",
       "\n",
       "   late_90_days  \n",
       "0             0  \n",
       "1             0  \n",
       "2             0  \n",
       "3             0  \n",
       "4             0  "
      ]
     },
     "execution_count": 3,
     "metadata": {},
     "output_type": "execute_result"
    }
   ],
   "source": [
    "#An initial look on the loan data \n",
    "Loan_Data.head()"
   ]
  },
  {
   "cell_type": "code",
   "execution_count": 4,
   "id": "c657bca6-cf6d-457d-be64-d911937f3f5a",
   "metadata": {
    "tags": []
   },
   "outputs": [],
   "source": [
    "#Import the public records data \n",
    "Public_Rec = pd.read_csv(r'' + Home + Public_File)"
   ]
  },
  {
   "cell_type": "code",
   "execution_count": 5,
   "id": "a859a234-1cce-4de2-992c-e24298b630d0",
   "metadata": {
    "tags": []
   },
   "outputs": [
    {
     "data": {
      "text/html": [
       "<div>\n",
       "<style scoped>\n",
       "    .dataframe tbody tr th:only-of-type {\n",
       "        vertical-align: middle;\n",
       "    }\n",
       "\n",
       "    .dataframe tbody tr th {\n",
       "        vertical-align: top;\n",
       "    }\n",
       "\n",
       "    .dataframe thead th {\n",
       "        text-align: right;\n",
       "    }\n",
       "</style>\n",
       "<table border=\"1\" class=\"dataframe\">\n",
       "  <thead>\n",
       "    <tr style=\"text-align: right;\">\n",
       "      <th></th>\n",
       "      <th>analytics_matchkey</th>\n",
       "      <th>industry_code_kind_of_business</th>\n",
       "      <th>reporting_subscriber_code</th>\n",
       "      <th>public_record_type_code</th>\n",
       "      <th>effective_date_date_verified</th>\n",
       "      <th>filed_date</th>\n",
       "      <th>paid_date</th>\n",
       "      <th>amount</th>\n",
       "      <th>public_record_source_type_code</th>\n",
       "      <th>equal_credit_opportunity_act_code</th>\n",
       "      <th>legislative_prohibited_code</th>\n",
       "      <th>plaintiff_name</th>\n",
       "      <th>attorney_name</th>\n",
       "      <th>docket_number</th>\n",
       "    </tr>\n",
       "  </thead>\n",
       "  <tbody>\n",
       "    <tr>\n",
       "      <th>0</th>\n",
       "      <td>1346747</td>\n",
       "      <td>ZP</td>\n",
       "      <td>99</td>\n",
       "      <td>CJ</td>\n",
       "      <td>20130604.0</td>\n",
       "      <td>20130129</td>\n",
       "      <td>NaN</td>\n",
       "      <td>1209.0</td>\n",
       "      <td>CI</td>\n",
       "      <td>I</td>\n",
       "      <td>1</td>\n",
       "      <td>NaN</td>\n",
       "      <td>NaN</td>\n",
       "      <td>NaN</td>\n",
       "    </tr>\n",
       "    <tr>\n",
       "      <th>1</th>\n",
       "      <td>1346748</td>\n",
       "      <td>ZP</td>\n",
       "      <td>485</td>\n",
       "      <td>7X</td>\n",
       "      <td>20140925.0</td>\n",
       "      <td>20140506</td>\n",
       "      <td>20140924.0</td>\n",
       "      <td>NaN</td>\n",
       "      <td>FE</td>\n",
       "      <td>I</td>\n",
       "      <td>1</td>\n",
       "      <td>NaN</td>\n",
       "      <td>NaN</td>\n",
       "      <td>NaN</td>\n",
       "    </tr>\n",
       "    <tr>\n",
       "      <th>2</th>\n",
       "      <td>1346754</td>\n",
       "      <td>Z</td>\n",
       "      <td>11R</td>\n",
       "      <td>SL</td>\n",
       "      <td>20120124.0</td>\n",
       "      <td>20110405</td>\n",
       "      <td>NaN</td>\n",
       "      <td>2248.0</td>\n",
       "      <td>RD</td>\n",
       "      <td>I</td>\n",
       "      <td>1</td>\n",
       "      <td>NaN</td>\n",
       "      <td>NaN</td>\n",
       "      <td>NaN</td>\n",
       "    </tr>\n",
       "    <tr>\n",
       "      <th>3</th>\n",
       "      <td>1346754</td>\n",
       "      <td>ZP</td>\n",
       "      <td>1</td>\n",
       "      <td>7X</td>\n",
       "      <td>20130129.0</td>\n",
       "      <td>20120928</td>\n",
       "      <td>20130128.0</td>\n",
       "      <td>NaN</td>\n",
       "      <td>FE</td>\n",
       "      <td>C</td>\n",
       "      <td>1</td>\n",
       "      <td>NaN</td>\n",
       "      <td>NaN</td>\n",
       "      <td>NaN</td>\n",
       "    </tr>\n",
       "    <tr>\n",
       "      <th>4</th>\n",
       "      <td>1346756</td>\n",
       "      <td>ZP</td>\n",
       "      <td>1</td>\n",
       "      <td>RL</td>\n",
       "      <td>20140913.0</td>\n",
       "      <td>20070202</td>\n",
       "      <td>20140801.0</td>\n",
       "      <td>406.0</td>\n",
       "      <td>RD</td>\n",
       "      <td>I</td>\n",
       "      <td>1</td>\n",
       "      <td>NaN</td>\n",
       "      <td>NaN</td>\n",
       "      <td>NaN</td>\n",
       "    </tr>\n",
       "  </tbody>\n",
       "</table>\n",
       "</div>"
      ],
      "text/plain": [
       "   analytics_matchkey industry_code_kind_of_business  \\\n",
       "0             1346747                             ZP   \n",
       "1             1346748                             ZP   \n",
       "2             1346754                              Z   \n",
       "3             1346754                             ZP   \n",
       "4             1346756                             ZP   \n",
       "\n",
       "  reporting_subscriber_code public_record_type_code  \\\n",
       "0                        99                      CJ   \n",
       "1                       485                      7X   \n",
       "2                       11R                      SL   \n",
       "3                         1                      7X   \n",
       "4                         1                      RL   \n",
       "\n",
       "   effective_date_date_verified  filed_date   paid_date  amount  \\\n",
       "0                    20130604.0    20130129         NaN  1209.0   \n",
       "1                    20140925.0    20140506  20140924.0     NaN   \n",
       "2                    20120124.0    20110405         NaN  2248.0   \n",
       "3                    20130129.0    20120928  20130128.0     NaN   \n",
       "4                    20140913.0    20070202  20140801.0   406.0   \n",
       "\n",
       "  public_record_source_type_code equal_credit_opportunity_act_code  \\\n",
       "0                             CI                                 I   \n",
       "1                             FE                                 I   \n",
       "2                             RD                                 I   \n",
       "3                             FE                                 C   \n",
       "4                             RD                                 I   \n",
       "\n",
       "   legislative_prohibited_code  plaintiff_name  attorney_name  docket_number  \n",
       "0                            1             NaN            NaN            NaN  \n",
       "1                            1             NaN            NaN            NaN  \n",
       "2                            1             NaN            NaN            NaN  \n",
       "3                            1             NaN            NaN            NaN  \n",
       "4                            1             NaN            NaN            NaN  "
      ]
     },
     "execution_count": 5,
     "metadata": {},
     "output_type": "execute_result"
    }
   ],
   "source": [
    "#An initial look on the public records data\n",
    "Public_Rec.head()"
   ]
  },
  {
   "cell_type": "code",
   "execution_count": 6,
   "id": "a95fb515-e520-4af9-80c3-c8821439ed30",
   "metadata": {
    "tags": []
   },
   "outputs": [],
   "source": [
    "#Importing all the tabs in the Excel file (\"Data_Dictionary\") \n",
    "\n",
    "xls_metadata = pd.ExcelFile(r'' + Home + 'Credit_Risk_Data_dictionary.xlsx')\n",
    "\n",
    "Dicts = list()\n",
    "for sheet in xls_metadata.sheet_names[0:2]:\n",
    "    Dicts.append(pd.read_excel(r'' + Home + 'Credit_Risk_Data_dictionary.xlsx', sheet))\n",
    "\n",
    "Codes = list()\n",
    "for sheet in xls_metadata.sheet_names[2:]:\n",
    "    Codes.append(pd.read_excel(r'' + Home + 'Credit_Risk_Data_dictionary.xlsx', sheet))"
   ]
  },
  {
   "cell_type": "code",
   "execution_count": 7,
   "id": "c19bb342-453f-45d6-a398-e84d9f8c39ec",
   "metadata": {
    "tags": []
   },
   "outputs": [],
   "source": [
    "Public_Dict = Dicts[0]\n",
    "Loan_Dict = Dicts[1]\n",
    "\n",
    "PublicRec_Codes = Codes[0]\n",
    "PublicSourceRec_Codes = Codes[1]"
   ]
  },
  {
   "cell_type": "code",
   "execution_count": 8,
   "id": "201fd1bb-32a1-411a-9be2-66f6419c3b83",
   "metadata": {
    "tags": []
   },
   "outputs": [
    {
     "name": "stdout",
     "output_type": "stream",
     "text": [
      "{'AS': 'Associate Court', 'BK': 'U.S. Bankruptcy Court', 'CA': 'County Auditor', 'CC': 'County Clerk', 'CI': 'Circuit Court', 'CL': 'County Court at Law', 'CN': 'Conciliation Court', 'CP': 'Common Pleas', 'CR': 'County Recorder', 'CT': 'County Court', 'CY': 'City Court', 'DC': 'District Court', 'FE': 'Federal District', 'JU': 'Justice of the PeaceCourt type', 'MA': 'Magistrate Court', 'MU': 'Municipal Court', 'PC': 'Parish Court', 'RD': 'Recorder of Deeds', 'SC': 'Small Claims', 'SU': 'Superior Court'}\n",
      "{'1D': 'Chapter 11 Bankruptcy Dismissed', '1F': 'Chapter 11 Bankruptcy Filing', '1X': 'Chapter 11 Bankruptcy Discharged', '2D': 'Chapter 12 Bankruptcy Dismissed', '2F': 'Chapter 12 Bankruptcy Filing', '2X': 'Chapter 12 Bankruptcy Discharged', '3D': 'Chapter 13 Bankruptcy Dismissed', 'CJ': 'Civil Judgment', 'CP': 'Child Support', 'FC': 'Foreclosure', 'FT': 'Federal Tax Lien', 'JL': 'Judicial Lien', 'PC': 'Paid Civil Jugment'}\n"
     ]
    }
   ],
   "source": [
    "PRS_Codes = PublicSourceRec_Codes.set_index('Public Record Source Type Code:')['Description:'].to_dict()\n",
    "PR_Codes = PublicRec_Codes.set_index('Public Record Type Code:')['Description:'].to_dict()\n",
    "print(PRS_Codes)\n",
    "print(PR_Codes)"
   ]
  },
  {
   "cell_type": "markdown",
   "id": "60e5be6d-e2e2-4303-aca5-6d67c40edc75",
   "metadata": {},
   "source": [
    "## Exploratory Data analysis\n",
    "\n",
    "We converted the dictionaries and codes into Pandas dataframes, and codes to Python dictionaries.\n",
    "\n",
    "It looks like some of the columns' format should be rendered to datetime and boolean. What are those? \n",
    "- late_30_days, late_60_days & late_90_days in Loan_Data should be cast Boolean\n",
    "- effective_date_date_verified, filed_date, paid_date should be cast datetime "
   ]
  },
  {
   "cell_type": "code",
   "execution_count": 9,
   "id": "47ea3a44-9aee-48f0-ab0d-e1cce648e838",
   "metadata": {
    "tags": []
   },
   "outputs": [
    {
     "data": {
      "text/html": [
       "<div>\n",
       "<style scoped>\n",
       "    .dataframe tbody tr th:only-of-type {\n",
       "        vertical-align: middle;\n",
       "    }\n",
       "\n",
       "    .dataframe tbody tr th {\n",
       "        vertical-align: top;\n",
       "    }\n",
       "\n",
       "    .dataframe thead th {\n",
       "        text-align: right;\n",
       "    }\n",
       "</style>\n",
       "<table border=\"1\" class=\"dataframe\">\n",
       "  <thead>\n",
       "    <tr style=\"text-align: right;\">\n",
       "      <th></th>\n",
       "      <th>analytics_matchkey</th>\n",
       "      <th>industry_code_kind_of_business</th>\n",
       "      <th>reporting_subscriber_code</th>\n",
       "      <th>public_record_type_code</th>\n",
       "      <th>effective_date_date_verified</th>\n",
       "      <th>filed_date</th>\n",
       "      <th>paid_date</th>\n",
       "      <th>amount</th>\n",
       "      <th>public_record_source_type_code</th>\n",
       "      <th>equal_credit_opportunity_act_code</th>\n",
       "      <th>legislative_prohibited_code</th>\n",
       "      <th>plaintiff_name</th>\n",
       "      <th>attorney_name</th>\n",
       "      <th>docket_number</th>\n",
       "    </tr>\n",
       "  </thead>\n",
       "  <tbody>\n",
       "    <tr>\n",
       "      <th>0</th>\n",
       "      <td>1346747</td>\n",
       "      <td>ZP</td>\n",
       "      <td>99</td>\n",
       "      <td>CJ</td>\n",
       "      <td>20130604.0</td>\n",
       "      <td>20130129</td>\n",
       "      <td>NaN</td>\n",
       "      <td>1209.0</td>\n",
       "      <td>CI</td>\n",
       "      <td>I</td>\n",
       "      <td>1</td>\n",
       "      <td>NaN</td>\n",
       "      <td>NaN</td>\n",
       "      <td>NaN</td>\n",
       "    </tr>\n",
       "    <tr>\n",
       "      <th>1</th>\n",
       "      <td>1346748</td>\n",
       "      <td>ZP</td>\n",
       "      <td>485</td>\n",
       "      <td>7X</td>\n",
       "      <td>20140925.0</td>\n",
       "      <td>20140506</td>\n",
       "      <td>20140924.0</td>\n",
       "      <td>NaN</td>\n",
       "      <td>FE</td>\n",
       "      <td>I</td>\n",
       "      <td>1</td>\n",
       "      <td>NaN</td>\n",
       "      <td>NaN</td>\n",
       "      <td>NaN</td>\n",
       "    </tr>\n",
       "    <tr>\n",
       "      <th>2</th>\n",
       "      <td>1346754</td>\n",
       "      <td>Z</td>\n",
       "      <td>11R</td>\n",
       "      <td>SL</td>\n",
       "      <td>20120124.0</td>\n",
       "      <td>20110405</td>\n",
       "      <td>NaN</td>\n",
       "      <td>2248.0</td>\n",
       "      <td>RD</td>\n",
       "      <td>I</td>\n",
       "      <td>1</td>\n",
       "      <td>NaN</td>\n",
       "      <td>NaN</td>\n",
       "      <td>NaN</td>\n",
       "    </tr>\n",
       "    <tr>\n",
       "      <th>3</th>\n",
       "      <td>1346754</td>\n",
       "      <td>ZP</td>\n",
       "      <td>1</td>\n",
       "      <td>7X</td>\n",
       "      <td>20130129.0</td>\n",
       "      <td>20120928</td>\n",
       "      <td>20130128.0</td>\n",
       "      <td>NaN</td>\n",
       "      <td>FE</td>\n",
       "      <td>C</td>\n",
       "      <td>1</td>\n",
       "      <td>NaN</td>\n",
       "      <td>NaN</td>\n",
       "      <td>NaN</td>\n",
       "    </tr>\n",
       "    <tr>\n",
       "      <th>4</th>\n",
       "      <td>1346756</td>\n",
       "      <td>ZP</td>\n",
       "      <td>1</td>\n",
       "      <td>RL</td>\n",
       "      <td>20140913.0</td>\n",
       "      <td>20070202</td>\n",
       "      <td>20140801.0</td>\n",
       "      <td>406.0</td>\n",
       "      <td>RD</td>\n",
       "      <td>I</td>\n",
       "      <td>1</td>\n",
       "      <td>NaN</td>\n",
       "      <td>NaN</td>\n",
       "      <td>NaN</td>\n",
       "    </tr>\n",
       "  </tbody>\n",
       "</table>\n",
       "</div>"
      ],
      "text/plain": [
       "   analytics_matchkey industry_code_kind_of_business  \\\n",
       "0             1346747                             ZP   \n",
       "1             1346748                             ZP   \n",
       "2             1346754                              Z   \n",
       "3             1346754                             ZP   \n",
       "4             1346756                             ZP   \n",
       "\n",
       "  reporting_subscriber_code public_record_type_code  \\\n",
       "0                        99                      CJ   \n",
       "1                       485                      7X   \n",
       "2                       11R                      SL   \n",
       "3                         1                      7X   \n",
       "4                         1                      RL   \n",
       "\n",
       "   effective_date_date_verified  filed_date   paid_date  amount  \\\n",
       "0                    20130604.0    20130129         NaN  1209.0   \n",
       "1                    20140925.0    20140506  20140924.0     NaN   \n",
       "2                    20120124.0    20110405         NaN  2248.0   \n",
       "3                    20130129.0    20120928  20130128.0     NaN   \n",
       "4                    20140913.0    20070202  20140801.0   406.0   \n",
       "\n",
       "  public_record_source_type_code equal_credit_opportunity_act_code  \\\n",
       "0                             CI                                 I   \n",
       "1                             FE                                 I   \n",
       "2                             RD                                 I   \n",
       "3                             FE                                 C   \n",
       "4                             RD                                 I   \n",
       "\n",
       "   legislative_prohibited_code  plaintiff_name  attorney_name  docket_number  \n",
       "0                            1             NaN            NaN            NaN  \n",
       "1                            1             NaN            NaN            NaN  \n",
       "2                            1             NaN            NaN            NaN  \n",
       "3                            1             NaN            NaN            NaN  \n",
       "4                            1             NaN            NaN            NaN  "
      ]
     },
     "execution_count": 9,
     "metadata": {},
     "output_type": "execute_result"
    }
   ],
   "source": [
    "Public_Rec.head()"
   ]
  },
  {
   "cell_type": "code",
   "execution_count": 10,
   "id": "add245f7-9936-4e5b-9bb7-3aeb3ccd43d0",
   "metadata": {
    "tags": []
   },
   "outputs": [],
   "source": [
    "#Dates\n",
    "Public_Rec['filed_date'] = pd.to_datetime(Public_Rec['filed_date'], format = '%Y%m%d')\n",
    "Public_Rec['effective_date_date_verified'] = pd.to_datetime(Public_Rec['effective_date_date_verified'], format = '%Y%m%d')\n",
    "Public_Rec['paid_date'] = pd.to_datetime(Public_Rec['paid_date'], format = '%Y%m%d')"
   ]
  },
  {
   "cell_type": "code",
   "execution_count": 11,
   "id": "6fc34646-2faf-4872-bc9e-fedabeb75771",
   "metadata": {
    "tags": []
   },
   "outputs": [],
   "source": [
    "#Booleans in Loan Performance data \n",
    "Loan_Data['late_30_days'] = Loan_Data['late_30_days'].map({1: True, 0: False})\n",
    "Loan_Data['late_60_days'] = Loan_Data['late_60_days'].map({1: True, 0: False})\n",
    "Loan_Data['late_90_days'] = Loan_Data['late_90_days'].map({1: True, 0: False})"
   ]
  },
  {
   "cell_type": "code",
   "execution_count": 12,
   "id": "25153245-345e-4ddc-97fb-b3291206a8ca",
   "metadata": {
    "tags": []
   },
   "outputs": [
    {
     "data": {
      "text/html": [
       "<div>\n",
       "<style scoped>\n",
       "    .dataframe tbody tr th:only-of-type {\n",
       "        vertical-align: middle;\n",
       "    }\n",
       "\n",
       "    .dataframe tbody tr th {\n",
       "        vertical-align: top;\n",
       "    }\n",
       "\n",
       "    .dataframe thead th {\n",
       "        text-align: right;\n",
       "    }\n",
       "</style>\n",
       "<table border=\"1\" class=\"dataframe\">\n",
       "  <thead>\n",
       "    <tr style=\"text-align: right;\">\n",
       "      <th></th>\n",
       "      <th>analytics_matchkey</th>\n",
       "      <th>max_loan_amount</th>\n",
       "      <th>late_30_days</th>\n",
       "      <th>late_60_days</th>\n",
       "      <th>late_90_days</th>\n",
       "    </tr>\n",
       "  </thead>\n",
       "  <tbody>\n",
       "    <tr>\n",
       "      <th>0</th>\n",
       "      <td>1346745</td>\n",
       "      <td>2500</td>\n",
       "      <td>False</td>\n",
       "      <td>False</td>\n",
       "      <td>False</td>\n",
       "    </tr>\n",
       "    <tr>\n",
       "      <th>1</th>\n",
       "      <td>1346746</td>\n",
       "      <td>1000</td>\n",
       "      <td>False</td>\n",
       "      <td>False</td>\n",
       "      <td>False</td>\n",
       "    </tr>\n",
       "    <tr>\n",
       "      <th>2</th>\n",
       "      <td>1346747</td>\n",
       "      <td>1002</td>\n",
       "      <td>False</td>\n",
       "      <td>False</td>\n",
       "      <td>False</td>\n",
       "    </tr>\n",
       "    <tr>\n",
       "      <th>3</th>\n",
       "      <td>1346748</td>\n",
       "      <td>1500</td>\n",
       "      <td>False</td>\n",
       "      <td>False</td>\n",
       "      <td>False</td>\n",
       "    </tr>\n",
       "    <tr>\n",
       "      <th>4</th>\n",
       "      <td>1346749</td>\n",
       "      <td>1675</td>\n",
       "      <td>False</td>\n",
       "      <td>False</td>\n",
       "      <td>False</td>\n",
       "    </tr>\n",
       "  </tbody>\n",
       "</table>\n",
       "</div>"
      ],
      "text/plain": [
       "   analytics_matchkey  max_loan_amount  late_30_days  late_60_days  \\\n",
       "0             1346745             2500         False         False   \n",
       "1             1346746             1000         False         False   \n",
       "2             1346747             1002         False         False   \n",
       "3             1346748             1500         False         False   \n",
       "4             1346749             1675         False         False   \n",
       "\n",
       "   late_90_days  \n",
       "0         False  \n",
       "1         False  \n",
       "2         False  \n",
       "3         False  \n",
       "4         False  "
      ]
     },
     "execution_count": 12,
     "metadata": {},
     "output_type": "execute_result"
    }
   ],
   "source": [
    "Loan_Data.head()"
   ]
  },
  {
   "cell_type": "markdown",
   "id": "0daf1cf2-bc69-45e4-bc8b-708bc7da0955",
   "metadata": {},
   "source": [
    "Some of the public record codes popping up in the dataframe are missing in the dictionaries from the XLSX file."
   ]
  },
  {
   "cell_type": "code",
   "execution_count": 13,
   "id": "04fe0420-2012-44c1-a330-23dbd46c76ff",
   "metadata": {
    "tags": []
   },
   "outputs": [
    {
     "ename": "KeyError",
     "evalue": "'PF'",
     "output_type": "error",
     "traceback": [
      "\u001b[0;31m---------------------------------------------------------------------------\u001b[0m",
      "\u001b[0;31mKeyError\u001b[0m                                  Traceback (most recent call last)",
      "\u001b[0;32m/var/folders/sk/bsq_5f_n7x5ff60h6p8h2vq00000gn/T/ipykernel_21731/857834324.py\u001b[0m in \u001b[0;36m<cell line: 1>\u001b[0;34m()\u001b[0m\n\u001b[0;32m----> 1\u001b[0;31m \u001b[0mPR_Codes\u001b[0m\u001b[0;34m[\u001b[0m\u001b[0;34m'PF'\u001b[0m\u001b[0;34m]\u001b[0m\u001b[0;34m\u001b[0m\u001b[0;34m\u001b[0m\u001b[0m\n\u001b[0m",
      "\u001b[0;31mKeyError\u001b[0m: 'PF'"
     ]
    }
   ],
   "source": [
    "PR_Codes['PF']"
   ]
  },
  {
   "cell_type": "code",
   "execution_count": 14,
   "id": "919b94ea-6996-4923-b59b-f9d968eb726b",
   "metadata": {
    "tags": []
   },
   "outputs": [],
   "source": [
    "PR_allcodes = list(pd.unique(Public_Rec['public_record_type_code']))"
   ]
  },
  {
   "cell_type": "code",
   "execution_count": 15,
   "id": "b502d9e0-78ee-43b1-8e63-ff5efb2be3a6",
   "metadata": {
    "tags": []
   },
   "outputs": [],
   "source": [
    "PR_codes_rest = [i for i in PR_allcodes if i not in list(PR_Codes.keys())]"
   ]
  },
  {
   "cell_type": "markdown",
   "id": "c0cf3a17-1008-42f8-85d8-cc354ffecca0",
   "metadata": {},
   "source": [
    "The codes that were not included to the dictionary are now stored in the list \"PR_codes_rest\"."
   ]
  },
  {
   "cell_type": "markdown",
   "id": "f065a51e-d7d8-463d-a81a-465c7c8fce0e",
   "metadata": {},
   "source": [
    "Let's find out if the customers who are 30 days late were also late for 60 and 90 days <u>in other instances of loaning</u>. "
   ]
  },
  {
   "cell_type": "code",
   "execution_count": 16,
   "id": "d35cf4fc-7e09-48dd-b6a7-963ca6c2a5af",
   "metadata": {
    "tags": []
   },
   "outputs": [],
   "source": [
    "#Customers late for 30, 60 & 90 days\n",
    "All_three_cond = (Loan_Data[['late_30_days','late_60_days', 'late_90_days']].all(axis = 1))\n",
    "All_three_late = Loan_Data[All_three_cond] "
   ]
  },
  {
   "cell_type": "code",
   "execution_count": 17,
   "id": "9b0148b8-e576-4a05-b8b5-6dd65fc9ff4c",
   "metadata": {
    "tags": []
   },
   "outputs": [],
   "source": [
    "#Customers late in only two time lines\n",
    "First_condition = (Loan_Data['late_30_days'] == True) & (Loan_Data['late_60_days'] == True) & (Loan_Data['late_90_days'] == False) \n",
    "Second_condition = (Loan_Data['late_30_days'] == True) & (Loan_Data['late_60_days'] == False) & (Loan_Data['late_90_days'] == True)\n",
    "Third_condition = (Loan_Data['late_30_days'] == False) & (Loan_Data['late_60_days'] == True) & (Loan_Data['late_90_days'] == True)\n",
    "\n",
    "Two_late_cond = First_condition | Second_condition | Third_condition \n",
    "Only_two_late = Loan_Data[Two_late_cond]"
   ]
  },
  {
   "cell_type": "code",
   "execution_count": 18,
   "id": "60d83824-2f40-435c-bd67-bf6ad7bbfd3d",
   "metadata": {
    "tags": []
   },
   "outputs": [
    {
     "data": {
      "text/plain": [
       "6434"
      ]
     },
     "execution_count": 18,
     "metadata": {},
     "output_type": "execute_result"
    }
   ],
   "source": [
    "len(Only_two_late)"
   ]
  },
  {
   "cell_type": "markdown",
   "id": "05bc33f7-0460-4a2d-9070-987351534983",
   "metadata": {},
   "source": [
    "Some customers returned their loans at least 30 days and 60 days later in two separate instances. Next, we'll calculate the total numbers of customers who paid a loan late in all three categories. "
   ]
  },
  {
   "cell_type": "code",
   "execution_count": 19,
   "id": "8e713d81-a997-434f-9be0-42775958f617",
   "metadata": {
    "tags": []
   },
   "outputs": [
    {
     "data": {
      "text/html": [
       "<div>\n",
       "<style scoped>\n",
       "    .dataframe tbody tr th:only-of-type {\n",
       "        vertical-align: middle;\n",
       "    }\n",
       "\n",
       "    .dataframe tbody tr th {\n",
       "        vertical-align: top;\n",
       "    }\n",
       "\n",
       "    .dataframe thead th {\n",
       "        text-align: right;\n",
       "    }\n",
       "</style>\n",
       "<table border=\"1\" class=\"dataframe\">\n",
       "  <thead>\n",
       "    <tr style=\"text-align: right;\">\n",
       "      <th></th>\n",
       "      <th>analytics_matchkey</th>\n",
       "      <th>max_loan_amount</th>\n",
       "      <th>late_30_days</th>\n",
       "      <th>late_60_days</th>\n",
       "      <th>late_90_days</th>\n",
       "    </tr>\n",
       "  </thead>\n",
       "  <tbody>\n",
       "    <tr>\n",
       "      <th>177957</th>\n",
       "      <td>1524713</td>\n",
       "      <td>3770</td>\n",
       "      <td>True</td>\n",
       "      <td>True</td>\n",
       "      <td>False</td>\n",
       "    </tr>\n",
       "    <tr>\n",
       "      <th>435278</th>\n",
       "      <td>1782051</td>\n",
       "      <td>1390</td>\n",
       "      <td>True</td>\n",
       "      <td>True</td>\n",
       "      <td>False</td>\n",
       "    </tr>\n",
       "    <tr>\n",
       "      <th>597426</th>\n",
       "      <td>1944203</td>\n",
       "      <td>1039</td>\n",
       "      <td>True</td>\n",
       "      <td>True</td>\n",
       "      <td>False</td>\n",
       "    </tr>\n",
       "    <tr>\n",
       "      <th>311275</th>\n",
       "      <td>1658042</td>\n",
       "      <td>2500</td>\n",
       "      <td>True</td>\n",
       "      <td>True</td>\n",
       "      <td>False</td>\n",
       "    </tr>\n",
       "    <tr>\n",
       "      <th>373870</th>\n",
       "      <td>1720639</td>\n",
       "      <td>1354</td>\n",
       "      <td>True</td>\n",
       "      <td>True</td>\n",
       "      <td>False</td>\n",
       "    </tr>\n",
       "  </tbody>\n",
       "</table>\n",
       "</div>"
      ],
      "text/plain": [
       "        analytics_matchkey  max_loan_amount  late_30_days  late_60_days  \\\n",
       "177957             1524713             3770          True          True   \n",
       "435278             1782051             1390          True          True   \n",
       "597426             1944203             1039          True          True   \n",
       "311275             1658042             2500          True          True   \n",
       "373870             1720639             1354          True          True   \n",
       "\n",
       "        late_90_days  \n",
       "177957         False  \n",
       "435278         False  \n",
       "597426         False  \n",
       "311275         False  \n",
       "373870         False  "
      ]
     },
     "execution_count": 19,
     "metadata": {},
     "output_type": "execute_result"
    }
   ],
   "source": [
    "Only_two_late.sample(5)"
   ]
  },
  {
   "cell_type": "markdown",
   "id": "5d33aaec-f7a2-41df-b6d0-ca65f9bb37b5",
   "metadata": {},
   "source": [
    "The customers who never paid 30 days late do not show up in multiple samplings. This might mean that someone who has never paid 30 days late is very unlikely to be 60 days or 90 days late in their loan payments. We'll define a third condition to check this case. "
   ]
  },
  {
   "cell_type": "code",
   "execution_count": 20,
   "id": "a900d445-b909-4a86-8cd7-031257f585f7",
   "metadata": {
    "tags": []
   },
   "outputs": [],
   "source": [
    "Third_condition = (Loan_Data['late_30_days'] == False) & (Loan_Data['late_60_days'] == True) & (Loan_Data['late_90_days'] == True)"
   ]
  },
  {
   "cell_type": "code",
   "execution_count": 21,
   "id": "a849704c-9953-4d25-8164-0d5eb5875fde",
   "metadata": {
    "tags": []
   },
   "outputs": [
    {
     "data": {
      "text/html": [
       "<div>\n",
       "<style scoped>\n",
       "    .dataframe tbody tr th:only-of-type {\n",
       "        vertical-align: middle;\n",
       "    }\n",
       "\n",
       "    .dataframe tbody tr th {\n",
       "        vertical-align: top;\n",
       "    }\n",
       "\n",
       "    .dataframe thead th {\n",
       "        text-align: right;\n",
       "    }\n",
       "</style>\n",
       "<table border=\"1\" class=\"dataframe\">\n",
       "  <thead>\n",
       "    <tr style=\"text-align: right;\">\n",
       "      <th></th>\n",
       "      <th>analytics_matchkey</th>\n",
       "      <th>max_loan_amount</th>\n",
       "      <th>late_30_days</th>\n",
       "      <th>late_60_days</th>\n",
       "      <th>late_90_days</th>\n",
       "    </tr>\n",
       "  </thead>\n",
       "  <tbody>\n",
       "  </tbody>\n",
       "</table>\n",
       "</div>"
      ],
      "text/plain": [
       "Empty DataFrame\n",
       "Columns: [analytics_matchkey, max_loan_amount, late_30_days, late_60_days, late_90_days]\n",
       "Index: []"
      ]
     },
     "execution_count": 21,
     "metadata": {},
     "output_type": "execute_result"
    }
   ],
   "source": [
    "Loan_Data[Third_condition]"
   ]
  },
  {
   "cell_type": "markdown",
   "id": "b4f3e18f-405f-40df-adc0-0bed76bf1947",
   "metadata": {},
   "source": [
    "Indeed, no customer fails to pay a loan in 60 and 90 days after having paid another one less than 30 days later. This is an indicator of consistency on the customers who are paying on time or in less than 30 days. \n",
    "\n",
    "Next, we'll investigate the rates of these classes. First, we’ll identify the customers who had a delayed payment only once. "
   ]
  },
  {
   "cell_type": "code",
   "execution_count": 22,
   "id": "20f7b091-1303-4db8-b242-0c137d0380c9",
   "metadata": {
    "tags": []
   },
   "outputs": [
    {
     "data": {
      "text/html": [
       "<div>\n",
       "<style scoped>\n",
       "    .dataframe tbody tr th:only-of-type {\n",
       "        vertical-align: middle;\n",
       "    }\n",
       "\n",
       "    .dataframe tbody tr th {\n",
       "        vertical-align: top;\n",
       "    }\n",
       "\n",
       "    .dataframe thead th {\n",
       "        text-align: right;\n",
       "    }\n",
       "</style>\n",
       "<table border=\"1\" class=\"dataframe\">\n",
       "  <thead>\n",
       "    <tr style=\"text-align: right;\">\n",
       "      <th></th>\n",
       "      <th>analytics_matchkey</th>\n",
       "      <th>max_loan_amount</th>\n",
       "      <th>late_30_days</th>\n",
       "      <th>late_60_days</th>\n",
       "      <th>late_90_days</th>\n",
       "    </tr>\n",
       "  </thead>\n",
       "  <tbody>\n",
       "    <tr>\n",
       "      <th>8</th>\n",
       "      <td>1346753</td>\n",
       "      <td>1439</td>\n",
       "      <td>True</td>\n",
       "      <td>False</td>\n",
       "      <td>False</td>\n",
       "    </tr>\n",
       "    <tr>\n",
       "      <th>45</th>\n",
       "      <td>1346790</td>\n",
       "      <td>1282</td>\n",
       "      <td>True</td>\n",
       "      <td>False</td>\n",
       "      <td>False</td>\n",
       "    </tr>\n",
       "    <tr>\n",
       "      <th>58</th>\n",
       "      <td>1346803</td>\n",
       "      <td>3500</td>\n",
       "      <td>True</td>\n",
       "      <td>False</td>\n",
       "      <td>False</td>\n",
       "    </tr>\n",
       "    <tr>\n",
       "      <th>65</th>\n",
       "      <td>1346810</td>\n",
       "      <td>2600</td>\n",
       "      <td>True</td>\n",
       "      <td>False</td>\n",
       "      <td>False</td>\n",
       "    </tr>\n",
       "    <tr>\n",
       "      <th>72</th>\n",
       "      <td>1346817</td>\n",
       "      <td>2000</td>\n",
       "      <td>True</td>\n",
       "      <td>False</td>\n",
       "      <td>False</td>\n",
       "    </tr>\n",
       "  </tbody>\n",
       "</table>\n",
       "</div>"
      ],
      "text/plain": [
       "    analytics_matchkey  max_loan_amount  late_30_days  late_60_days  \\\n",
       "8              1346753             1439          True         False   \n",
       "45             1346790             1282          True         False   \n",
       "58             1346803             3500          True         False   \n",
       "65             1346810             2600          True         False   \n",
       "72             1346817             2000          True         False   \n",
       "\n",
       "    late_90_days  \n",
       "8          False  \n",
       "45         False  \n",
       "58         False  \n",
       "65         False  \n",
       "72         False  "
      ]
     },
     "execution_count": 22,
     "metadata": {},
     "output_type": "execute_result"
    }
   ],
   "source": [
    "#Customers late only in single timeline \n",
    "\n",
    "First_only_one = (Loan_Data[['late_30_days','late_60_days', 'late_90_days']].any(axis = 1)) \n",
    "\n",
    "Only_one_cond = First_only_one & ~(Two_late_cond) & ~(All_three_cond)\n",
    "Only_one_late = Loan_Data[Only_one_cond]\n",
    "Only_one_late.head()"
   ]
  },
  {
   "cell_type": "code",
   "execution_count": 23,
   "id": "a19d754f-aeeb-44d1-9b92-e48f32fff5d1",
   "metadata": {
    "tags": []
   },
   "outputs": [
    {
     "data": {
      "text/html": [
       "<div>\n",
       "<style scoped>\n",
       "    .dataframe tbody tr th:only-of-type {\n",
       "        vertical-align: middle;\n",
       "    }\n",
       "\n",
       "    .dataframe tbody tr th {\n",
       "        vertical-align: top;\n",
       "    }\n",
       "\n",
       "    .dataframe thead th {\n",
       "        text-align: right;\n",
       "    }\n",
       "</style>\n",
       "<table border=\"1\" class=\"dataframe\">\n",
       "  <thead>\n",
       "    <tr style=\"text-align: right;\">\n",
       "      <th></th>\n",
       "      <th>analytics_matchkey</th>\n",
       "      <th>max_loan_amount</th>\n",
       "      <th>late_30_days</th>\n",
       "      <th>late_60_days</th>\n",
       "      <th>late_90_days</th>\n",
       "    </tr>\n",
       "  </thead>\n",
       "  <tbody>\n",
       "    <tr>\n",
       "      <th>0</th>\n",
       "      <td>1346745</td>\n",
       "      <td>2500</td>\n",
       "      <td>False</td>\n",
       "      <td>False</td>\n",
       "      <td>False</td>\n",
       "    </tr>\n",
       "    <tr>\n",
       "      <th>1</th>\n",
       "      <td>1346746</td>\n",
       "      <td>1000</td>\n",
       "      <td>False</td>\n",
       "      <td>False</td>\n",
       "      <td>False</td>\n",
       "    </tr>\n",
       "    <tr>\n",
       "      <th>2</th>\n",
       "      <td>1346747</td>\n",
       "      <td>1002</td>\n",
       "      <td>False</td>\n",
       "      <td>False</td>\n",
       "      <td>False</td>\n",
       "    </tr>\n",
       "    <tr>\n",
       "      <th>3</th>\n",
       "      <td>1346748</td>\n",
       "      <td>1500</td>\n",
       "      <td>False</td>\n",
       "      <td>False</td>\n",
       "      <td>False</td>\n",
       "    </tr>\n",
       "    <tr>\n",
       "      <th>4</th>\n",
       "      <td>1346749</td>\n",
       "      <td>1675</td>\n",
       "      <td>False</td>\n",
       "      <td>False</td>\n",
       "      <td>False</td>\n",
       "    </tr>\n",
       "  </tbody>\n",
       "</table>\n",
       "</div>"
      ],
      "text/plain": [
       "   analytics_matchkey  max_loan_amount  late_30_days  late_60_days  \\\n",
       "0             1346745             2500         False         False   \n",
       "1             1346746             1000         False         False   \n",
       "2             1346747             1002         False         False   \n",
       "3             1346748             1500         False         False   \n",
       "4             1346749             1675         False         False   \n",
       "\n",
       "   late_90_days  \n",
       "0         False  \n",
       "1         False  \n",
       "2         False  \n",
       "3         False  \n",
       "4         False  "
      ]
     },
     "execution_count": 23,
     "metadata": {},
     "output_type": "execute_result"
    }
   ],
   "source": [
    "#Customers who paid on time \n",
    "All_clear_cond = ~First_only_one \n",
    "All_clear = Loan_Data[All_clear_cond]\n",
    "\n",
    "All_clear.head()"
   ]
  },
  {
   "cell_type": "code",
   "execution_count": 24,
   "id": "90c0950a-15c2-4e2f-a16c-7a728fa94c2a",
   "metadata": {
    "tags": []
   },
   "outputs": [],
   "source": [
    "#Let's find out the rates for late payments \n",
    "\n",
    "n_one = len(Only_one_late)\n",
    "n_two = len(Only_two_late)\n",
    "n_three = len(All_three_late)\n",
    "n_none = len(All_clear)\n",
    "\n",
    "sum_lates = n_one + n_two + n_three + n_none\n",
    "\n",
    "n_all = len(Loan_Data) \n",
    "\n",
    "# print(n_one)\n",
    "# print(n_two)\n",
    "# print(n_three)\n",
    "# print(n_none)\n",
    "\n",
    "# print(n_all)\n",
    "# print(sum_lates) # The number checks out! \n",
    "\n",
    "rate_one = n_one / n_all \n",
    "rate_two = n_two / n_all \n",
    "rate_three = n_three / n_all \n",
    "rate_none = n_none / n_all \n",
    "\n",
    "rates = [rate_one, rate_two, rate_three, rate_none]"
   ]
  },
  {
   "cell_type": "code",
   "execution_count": 40,
   "id": "10ca0dda-2b5e-4d21-b6e6-c1eb2056ef93",
   "metadata": {
    "tags": []
   },
   "outputs": [
    {
     "data": {
      "image/png": "[encoded data removed]",
      "text/plain": [
       "<Figure size 576x288 with 1 Axes>"
      ]
     },
     "metadata": {},
     "output_type": "display_data"
    }
   ],
   "source": [
    "plot_labels = ('late once', 'late twice', 'late thrice', 'on-time') \n",
    "plt.figure(figsize = (8, 4)) \n",
    "y_pos = np.arange(len(plot_labels))\n",
    "plt.barh(y_pos, rates, align = 'center', alpha = 0.8)\n",
    "plt.yticks(y_pos, plot_labels)\n",
    "\n",
    "plt.xlabel('Fraction')\n",
    "plt.title('Fraction of customers with various loan performances') \n",
    "plt.show()"
   ]
  },
  {
   "cell_type": "markdown",
   "id": "c5bd6c4a-5a07-47b5-9d95-223535fa5fc6",
   "metadata": {},
   "source": [
    "The majority of customers pays their loans on time or less than 30 days later, as expected. Interestingly, the fraction of those who are late in payment for twice is significantly lower than the two other categories. "
   ]
  },
  {
   "cell_type": "markdown",
   "id": "7186f7cf-6daf-4f1f-81f3-14f9a8da81c3",
   "metadata": {},
   "source": [
    "### General Questions \n",
    "1. Is there a correlation between the maximum amount of loan and delayed payment? \n",
    "2. Which ones of these \"late\" categories were sued?\n",
    "3. What fraction of the late payers did file for bankruptcy?\n",
    "\n",
    "### Model Questions \n",
    "1. What’s the probability that a customer filed for bankruptcy will have a delayed payment? \n",
    "2. Same question goes for other categories.  \n",
    "\n",
    "We should start by binning these people by their PRT codes and check if they have delayed a payment before. "
   ]
  },
  {
   "cell_type": "code",
   "execution_count": 27,
   "id": "7ca68d14-5cd3-4b39-a0f8-04cd02241b4f",
   "metadata": {
    "tags": []
   },
   "outputs": [
    {
     "data": {
      "text/html": [
       "<div>\n",
       "<style scoped>\n",
       "    .dataframe tbody tr th:only-of-type {\n",
       "        vertical-align: middle;\n",
       "    }\n",
       "\n",
       "    .dataframe tbody tr th {\n",
       "        vertical-align: top;\n",
       "    }\n",
       "\n",
       "    .dataframe thead th {\n",
       "        text-align: right;\n",
       "    }\n",
       "</style>\n",
       "<table border=\"1\" class=\"dataframe\">\n",
       "  <thead>\n",
       "    <tr style=\"text-align: right;\">\n",
       "      <th></th>\n",
       "      <th>analytics_matchkey</th>\n",
       "      <th>industry_code_kind_of_business</th>\n",
       "      <th>reporting_subscriber_code</th>\n",
       "      <th>public_record_type_code</th>\n",
       "      <th>effective_date_date_verified</th>\n",
       "      <th>filed_date</th>\n",
       "      <th>paid_date</th>\n",
       "      <th>amount</th>\n",
       "      <th>public_record_source_type_code</th>\n",
       "      <th>equal_credit_opportunity_act_code</th>\n",
       "      <th>legislative_prohibited_code</th>\n",
       "      <th>plaintiff_name</th>\n",
       "      <th>attorney_name</th>\n",
       "      <th>docket_number</th>\n",
       "    </tr>\n",
       "  </thead>\n",
       "  <tbody>\n",
       "    <tr>\n",
       "      <th>176499</th>\n",
       "      <td>1868239</td>\n",
       "      <td>ZP</td>\n",
       "      <td>37</td>\n",
       "      <td>PC</td>\n",
       "      <td>2015-01-29</td>\n",
       "      <td>2013-03-27</td>\n",
       "      <td>2014-12-29</td>\n",
       "      <td>1041.0</td>\n",
       "      <td>CI</td>\n",
       "      <td>C</td>\n",
       "      <td>2</td>\n",
       "      <td>NaN</td>\n",
       "      <td>NaN</td>\n",
       "      <td>NaN</td>\n",
       "    </tr>\n",
       "    <tr>\n",
       "      <th>181092</th>\n",
       "      <td>1882112</td>\n",
       "      <td>ZP</td>\n",
       "      <td>13V</td>\n",
       "      <td>7X</td>\n",
       "      <td>2009-12-05</td>\n",
       "      <td>2009-08-10</td>\n",
       "      <td>2009-12-03</td>\n",
       "      <td>NaN</td>\n",
       "      <td>FE</td>\n",
       "      <td>C</td>\n",
       "      <td>1</td>\n",
       "      <td>NaN</td>\n",
       "      <td>NaN</td>\n",
       "      <td>NaN</td>\n",
       "    </tr>\n",
       "    <tr>\n",
       "      <th>35619</th>\n",
       "      <td>1452412</td>\n",
       "      <td>ZP</td>\n",
       "      <td>157</td>\n",
       "      <td>PC</td>\n",
       "      <td>2011-09-16</td>\n",
       "      <td>2010-12-08</td>\n",
       "      <td>2011-08-30</td>\n",
       "      <td>656.0</td>\n",
       "      <td>CI</td>\n",
       "      <td>I</td>\n",
       "      <td>2</td>\n",
       "      <td>NaN</td>\n",
       "      <td>NaN</td>\n",
       "      <td>NaN</td>\n",
       "    </tr>\n",
       "    <tr>\n",
       "      <th>144537</th>\n",
       "      <td>1775631</td>\n",
       "      <td>ZP</td>\n",
       "      <td>632</td>\n",
       "      <td>7X</td>\n",
       "      <td>2014-04-09</td>\n",
       "      <td>2014-01-06</td>\n",
       "      <td>2014-04-08</td>\n",
       "      <td>NaN</td>\n",
       "      <td>FE</td>\n",
       "      <td>I</td>\n",
       "      <td>1</td>\n",
       "      <td>NaN</td>\n",
       "      <td>NaN</td>\n",
       "      <td>NaN</td>\n",
       "    </tr>\n",
       "    <tr>\n",
       "      <th>171247</th>\n",
       "      <td>1853172</td>\n",
       "      <td>ZP</td>\n",
       "      <td>25N</td>\n",
       "      <td>RL</td>\n",
       "      <td>2013-04-24</td>\n",
       "      <td>2012-11-14</td>\n",
       "      <td>2013-04-05</td>\n",
       "      <td>1109.0</td>\n",
       "      <td>RD</td>\n",
       "      <td>I</td>\n",
       "      <td>1</td>\n",
       "      <td>NaN</td>\n",
       "      <td>NaN</td>\n",
       "      <td>NaN</td>\n",
       "    </tr>\n",
       "  </tbody>\n",
       "</table>\n",
       "</div>"
      ],
      "text/plain": [
       "        analytics_matchkey industry_code_kind_of_business  \\\n",
       "176499             1868239                             ZP   \n",
       "181092             1882112                             ZP   \n",
       "35619              1452412                             ZP   \n",
       "144537             1775631                             ZP   \n",
       "171247             1853172                             ZP   \n",
       "\n",
       "       reporting_subscriber_code public_record_type_code  \\\n",
       "176499                        37                      PC   \n",
       "181092                       13V                      7X   \n",
       "35619                        157                      PC   \n",
       "144537                       632                      7X   \n",
       "171247                       25N                      RL   \n",
       "\n",
       "       effective_date_date_verified filed_date  paid_date  amount  \\\n",
       "176499                   2015-01-29 2013-03-27 2014-12-29  1041.0   \n",
       "181092                   2009-12-05 2009-08-10 2009-12-03     NaN   \n",
       "35619                    2011-09-16 2010-12-08 2011-08-30   656.0   \n",
       "144537                   2014-04-09 2014-01-06 2014-04-08     NaN   \n",
       "171247                   2013-04-24 2012-11-14 2013-04-05  1109.0   \n",
       "\n",
       "       public_record_source_type_code equal_credit_opportunity_act_code  \\\n",
       "176499                             CI                                 C   \n",
       "181092                             FE                                 C   \n",
       "35619                              CI                                 I   \n",
       "144537                             FE                                 I   \n",
       "171247                             RD                                 I   \n",
       "\n",
       "        legislative_prohibited_code  plaintiff_name  attorney_name  \\\n",
       "176499                            2             NaN            NaN   \n",
       "181092                            1             NaN            NaN   \n",
       "35619                             2             NaN            NaN   \n",
       "144537                            1             NaN            NaN   \n",
       "171247                            1             NaN            NaN   \n",
       "\n",
       "        docket_number  \n",
       "176499            NaN  \n",
       "181092            NaN  \n",
       "35619             NaN  \n",
       "144537            NaN  \n",
       "171247            NaN  "
      ]
     },
     "execution_count": 27,
     "metadata": {},
     "output_type": "execute_result"
    }
   ],
   "source": [
    "Public_Rec.sample(5)"
   ]
  },
  {
   "cell_type": "code",
   "execution_count": 28,
   "id": "fa62252d-f137-479d-a33d-fac5ae9326f8",
   "metadata": {
    "tags": []
   },
   "outputs": [
    {
     "data": {
      "text/html": [
       "<div>\n",
       "<style scoped>\n",
       "    .dataframe tbody tr th:only-of-type {\n",
       "        vertical-align: middle;\n",
       "    }\n",
       "\n",
       "    .dataframe tbody tr th {\n",
       "        vertical-align: top;\n",
       "    }\n",
       "\n",
       "    .dataframe thead th {\n",
       "        text-align: right;\n",
       "    }\n",
       "</style>\n",
       "<table border=\"1\" class=\"dataframe\">\n",
       "  <thead>\n",
       "    <tr style=\"text-align: right;\">\n",
       "      <th></th>\n",
       "      <th>analytics_matchkey</th>\n",
       "      <th>industry_code_kind_of_business</th>\n",
       "      <th>reporting_subscriber_code</th>\n",
       "      <th>effective_date_date_verified</th>\n",
       "      <th>filed_date</th>\n",
       "      <th>paid_date</th>\n",
       "      <th>amount</th>\n",
       "      <th>public_record_source_type_code</th>\n",
       "      <th>equal_credit_opportunity_act_code</th>\n",
       "      <th>legislative_prohibited_code</th>\n",
       "      <th>plaintiff_name</th>\n",
       "      <th>attorney_name</th>\n",
       "      <th>docket_number</th>\n",
       "    </tr>\n",
       "    <tr>\n",
       "      <th>public_record_type_code</th>\n",
       "      <th></th>\n",
       "      <th></th>\n",
       "      <th></th>\n",
       "      <th></th>\n",
       "      <th></th>\n",
       "      <th></th>\n",
       "      <th></th>\n",
       "      <th></th>\n",
       "      <th></th>\n",
       "      <th></th>\n",
       "      <th></th>\n",
       "      <th></th>\n",
       "      <th></th>\n",
       "    </tr>\n",
       "  </thead>\n",
       "  <tbody>\n",
       "    <tr>\n",
       "      <th>1D</th>\n",
       "      <td>14</td>\n",
       "      <td>14</td>\n",
       "      <td>14</td>\n",
       "      <td>14</td>\n",
       "      <td>14</td>\n",
       "      <td>14</td>\n",
       "      <td>0</td>\n",
       "      <td>14</td>\n",
       "      <td>14</td>\n",
       "      <td>14</td>\n",
       "      <td>0</td>\n",
       "      <td>0</td>\n",
       "      <td>0</td>\n",
       "    </tr>\n",
       "    <tr>\n",
       "      <th>1F</th>\n",
       "      <td>1</td>\n",
       "      <td>1</td>\n",
       "      <td>1</td>\n",
       "      <td>1</td>\n",
       "      <td>1</td>\n",
       "      <td>0</td>\n",
       "      <td>0</td>\n",
       "      <td>1</td>\n",
       "      <td>1</td>\n",
       "      <td>1</td>\n",
       "      <td>0</td>\n",
       "      <td>0</td>\n",
       "      <td>0</td>\n",
       "    </tr>\n",
       "    <tr>\n",
       "      <th>1X</th>\n",
       "      <td>11</td>\n",
       "      <td>11</td>\n",
       "      <td>11</td>\n",
       "      <td>11</td>\n",
       "      <td>11</td>\n",
       "      <td>11</td>\n",
       "      <td>0</td>\n",
       "      <td>11</td>\n",
       "      <td>11</td>\n",
       "      <td>11</td>\n",
       "      <td>0</td>\n",
       "      <td>0</td>\n",
       "      <td>0</td>\n",
       "    </tr>\n",
       "    <tr>\n",
       "      <th>2D</th>\n",
       "      <td>2</td>\n",
       "      <td>2</td>\n",
       "      <td>2</td>\n",
       "      <td>2</td>\n",
       "      <td>2</td>\n",
       "      <td>2</td>\n",
       "      <td>0</td>\n",
       "      <td>2</td>\n",
       "      <td>2</td>\n",
       "      <td>2</td>\n",
       "      <td>0</td>\n",
       "      <td>0</td>\n",
       "      <td>0</td>\n",
       "    </tr>\n",
       "    <tr>\n",
       "      <th>2F</th>\n",
       "      <td>2</td>\n",
       "      <td>2</td>\n",
       "      <td>2</td>\n",
       "      <td>2</td>\n",
       "      <td>2</td>\n",
       "      <td>0</td>\n",
       "      <td>0</td>\n",
       "      <td>2</td>\n",
       "      <td>2</td>\n",
       "      <td>2</td>\n",
       "      <td>0</td>\n",
       "      <td>0</td>\n",
       "      <td>0</td>\n",
       "    </tr>\n",
       "    <tr>\n",
       "      <th>2X</th>\n",
       "      <td>3</td>\n",
       "      <td>3</td>\n",
       "      <td>3</td>\n",
       "      <td>3</td>\n",
       "      <td>3</td>\n",
       "      <td>3</td>\n",
       "      <td>0</td>\n",
       "      <td>3</td>\n",
       "      <td>3</td>\n",
       "      <td>3</td>\n",
       "      <td>0</td>\n",
       "      <td>0</td>\n",
       "      <td>0</td>\n",
       "    </tr>\n",
       "    <tr>\n",
       "      <th>3D</th>\n",
       "      <td>4356</td>\n",
       "      <td>4356</td>\n",
       "      <td>4356</td>\n",
       "      <td>4356</td>\n",
       "      <td>4356</td>\n",
       "      <td>4356</td>\n",
       "      <td>0</td>\n",
       "      <td>4356</td>\n",
       "      <td>4356</td>\n",
       "      <td>4356</td>\n",
       "      <td>0</td>\n",
       "      <td>0</td>\n",
       "      <td>0</td>\n",
       "    </tr>\n",
       "    <tr>\n",
       "      <th>3F</th>\n",
       "      <td>2184</td>\n",
       "      <td>2184</td>\n",
       "      <td>2184</td>\n",
       "      <td>2162</td>\n",
       "      <td>2184</td>\n",
       "      <td>1</td>\n",
       "      <td>0</td>\n",
       "      <td>2184</td>\n",
       "      <td>2184</td>\n",
       "      <td>2184</td>\n",
       "      <td>0</td>\n",
       "      <td>0</td>\n",
       "      <td>0</td>\n",
       "    </tr>\n",
       "    <tr>\n",
       "      <th>3X</th>\n",
       "      <td>3500</td>\n",
       "      <td>3500</td>\n",
       "      <td>3500</td>\n",
       "      <td>3500</td>\n",
       "      <td>3500</td>\n",
       "      <td>3498</td>\n",
       "      <td>0</td>\n",
       "      <td>3500</td>\n",
       "      <td>3500</td>\n",
       "      <td>3500</td>\n",
       "      <td>0</td>\n",
       "      <td>0</td>\n",
       "      <td>0</td>\n",
       "    </tr>\n",
       "    <tr>\n",
       "      <th>7D</th>\n",
       "      <td>1109</td>\n",
       "      <td>1109</td>\n",
       "      <td>1109</td>\n",
       "      <td>1108</td>\n",
       "      <td>1109</td>\n",
       "      <td>1109</td>\n",
       "      <td>0</td>\n",
       "      <td>1109</td>\n",
       "      <td>1109</td>\n",
       "      <td>1109</td>\n",
       "      <td>0</td>\n",
       "      <td>0</td>\n",
       "      <td>0</td>\n",
       "    </tr>\n",
       "    <tr>\n",
       "      <th>7F</th>\n",
       "      <td>487</td>\n",
       "      <td>487</td>\n",
       "      <td>487</td>\n",
       "      <td>477</td>\n",
       "      <td>487</td>\n",
       "      <td>8</td>\n",
       "      <td>0</td>\n",
       "      <td>487</td>\n",
       "      <td>487</td>\n",
       "      <td>487</td>\n",
       "      <td>0</td>\n",
       "      <td>0</td>\n",
       "      <td>0</td>\n",
       "    </tr>\n",
       "    <tr>\n",
       "      <th>7X</th>\n",
       "      <td>49842</td>\n",
       "      <td>49842</td>\n",
       "      <td>49842</td>\n",
       "      <td>49833</td>\n",
       "      <td>49842</td>\n",
       "      <td>49841</td>\n",
       "      <td>0</td>\n",
       "      <td>49841</td>\n",
       "      <td>49842</td>\n",
       "      <td>49842</td>\n",
       "      <td>0</td>\n",
       "      <td>0</td>\n",
       "      <td>0</td>\n",
       "    </tr>\n",
       "    <tr>\n",
       "      <th>CB</th>\n",
       "      <td>10266</td>\n",
       "      <td>10266</td>\n",
       "      <td>10266</td>\n",
       "      <td>10266</td>\n",
       "      <td>10266</td>\n",
       "      <td>10240</td>\n",
       "      <td>10266</td>\n",
       "      <td>10266</td>\n",
       "      <td>10266</td>\n",
       "      <td>10266</td>\n",
       "      <td>0</td>\n",
       "      <td>0</td>\n",
       "      <td>0</td>\n",
       "    </tr>\n",
       "    <tr>\n",
       "      <th>CJ</th>\n",
       "      <td>61425</td>\n",
       "      <td>61425</td>\n",
       "      <td>61425</td>\n",
       "      <td>61425</td>\n",
       "      <td>61425</td>\n",
       "      <td>13</td>\n",
       "      <td>61425</td>\n",
       "      <td>61425</td>\n",
       "      <td>61425</td>\n",
       "      <td>61425</td>\n",
       "      <td>0</td>\n",
       "      <td>0</td>\n",
       "      <td>0</td>\n",
       "    </tr>\n",
       "    <tr>\n",
       "      <th>CP</th>\n",
       "      <td>301</td>\n",
       "      <td>301</td>\n",
       "      <td>301</td>\n",
       "      <td>301</td>\n",
       "      <td>301</td>\n",
       "      <td>0</td>\n",
       "      <td>301</td>\n",
       "      <td>301</td>\n",
       "      <td>301</td>\n",
       "      <td>301</td>\n",
       "      <td>0</td>\n",
       "      <td>0</td>\n",
       "      <td>0</td>\n",
       "    </tr>\n",
       "    <tr>\n",
       "      <th>FT</th>\n",
       "      <td>6511</td>\n",
       "      <td>6511</td>\n",
       "      <td>6511</td>\n",
       "      <td>6458</td>\n",
       "      <td>6511</td>\n",
       "      <td>6</td>\n",
       "      <td>6511</td>\n",
       "      <td>6511</td>\n",
       "      <td>6511</td>\n",
       "      <td>6511</td>\n",
       "      <td>0</td>\n",
       "      <td>0</td>\n",
       "      <td>0</td>\n",
       "    </tr>\n",
       "    <tr>\n",
       "      <th>PC</th>\n",
       "      <td>30449</td>\n",
       "      <td>30449</td>\n",
       "      <td>30449</td>\n",
       "      <td>30449</td>\n",
       "      <td>30449</td>\n",
       "      <td>30449</td>\n",
       "      <td>30449</td>\n",
       "      <td>30449</td>\n",
       "      <td>30449</td>\n",
       "      <td>30449</td>\n",
       "      <td>0</td>\n",
       "      <td>0</td>\n",
       "      <td>0</td>\n",
       "    </tr>\n",
       "    <tr>\n",
       "      <th>PF</th>\n",
       "      <td>3591</td>\n",
       "      <td>3591</td>\n",
       "      <td>3591</td>\n",
       "      <td>3591</td>\n",
       "      <td>3591</td>\n",
       "      <td>3591</td>\n",
       "      <td>3591</td>\n",
       "      <td>3591</td>\n",
       "      <td>3591</td>\n",
       "      <td>3591</td>\n",
       "      <td>0</td>\n",
       "      <td>0</td>\n",
       "      <td>0</td>\n",
       "    </tr>\n",
       "    <tr>\n",
       "      <th>PL</th>\n",
       "      <td>6172</td>\n",
       "      <td>6172</td>\n",
       "      <td>6172</td>\n",
       "      <td>6171</td>\n",
       "      <td>6172</td>\n",
       "      <td>6172</td>\n",
       "      <td>6172</td>\n",
       "      <td>6172</td>\n",
       "      <td>6172</td>\n",
       "      <td>6172</td>\n",
       "      <td>0</td>\n",
       "      <td>0</td>\n",
       "      <td>0</td>\n",
       "    </tr>\n",
       "    <tr>\n",
       "      <th>RL</th>\n",
       "      <td>20099</td>\n",
       "      <td>20099</td>\n",
       "      <td>20099</td>\n",
       "      <td>20096</td>\n",
       "      <td>20099</td>\n",
       "      <td>20099</td>\n",
       "      <td>20099</td>\n",
       "      <td>20099</td>\n",
       "      <td>20099</td>\n",
       "      <td>20099</td>\n",
       "      <td>0</td>\n",
       "      <td>0</td>\n",
       "      <td>0</td>\n",
       "    </tr>\n",
       "    <tr>\n",
       "      <th>SL</th>\n",
       "      <td>16205</td>\n",
       "      <td>16205</td>\n",
       "      <td>16205</td>\n",
       "      <td>16039</td>\n",
       "      <td>16205</td>\n",
       "      <td>8</td>\n",
       "      <td>16205</td>\n",
       "      <td>16205</td>\n",
       "      <td>16205</td>\n",
       "      <td>16205</td>\n",
       "      <td>0</td>\n",
       "      <td>0</td>\n",
       "      <td>0</td>\n",
       "    </tr>\n",
       "    <tr>\n",
       "      <th>TB</th>\n",
       "      <td>9</td>\n",
       "      <td>9</td>\n",
       "      <td>9</td>\n",
       "      <td>9</td>\n",
       "      <td>9</td>\n",
       "      <td>0</td>\n",
       "      <td>9</td>\n",
       "      <td>9</td>\n",
       "      <td>9</td>\n",
       "      <td>9</td>\n",
       "      <td>0</td>\n",
       "      <td>0</td>\n",
       "      <td>0</td>\n",
       "    </tr>\n",
       "    <tr>\n",
       "      <th>TL</th>\n",
       "      <td>1764</td>\n",
       "      <td>1764</td>\n",
       "      <td>1764</td>\n",
       "      <td>1744</td>\n",
       "      <td>1764</td>\n",
       "      <td>0</td>\n",
       "      <td>1764</td>\n",
       "      <td>1764</td>\n",
       "      <td>1764</td>\n",
       "      <td>1764</td>\n",
       "      <td>0</td>\n",
       "      <td>0</td>\n",
       "      <td>0</td>\n",
       "    </tr>\n",
       "  </tbody>\n",
       "</table>\n",
       "</div>"
      ],
      "text/plain": [
       "                         analytics_matchkey  industry_code_kind_of_business  \\\n",
       "public_record_type_code                                                       \n",
       "1D                                       14                              14   \n",
       "1F                                        1                               1   \n",
       "1X                                       11                              11   \n",
       "2D                                        2                               2   \n",
       "2F                                        2                               2   \n",
       "2X                                        3                               3   \n",
       "3D                                     4356                            4356   \n",
       "3F                                     2184                            2184   \n",
       "3X                                     3500                            3500   \n",
       "7D                                     1109                            1109   \n",
       "7F                                      487                             487   \n",
       "7X                                    49842                           49842   \n",
       "CB                                    10266                           10266   \n",
       "CJ                                    61425                           61425   \n",
       "CP                                      301                             301   \n",
       "FT                                     6511                            6511   \n",
       "PC                                    30449                           30449   \n",
       "PF                                     3591                            3591   \n",
       "PL                                     6172                            6172   \n",
       "RL                                    20099                           20099   \n",
       "SL                                    16205                           16205   \n",
       "TB                                        9                               9   \n",
       "TL                                     1764                            1764   \n",
       "\n",
       "                         reporting_subscriber_code  \\\n",
       "public_record_type_code                              \n",
       "1D                                              14   \n",
       "1F                                               1   \n",
       "1X                                              11   \n",
       "2D                                               2   \n",
       "2F                                               2   \n",
       "2X                                               3   \n",
       "3D                                            4356   \n",
       "3F                                            2184   \n",
       "3X                                            3500   \n",
       "7D                                            1109   \n",
       "7F                                             487   \n",
       "7X                                           49842   \n",
       "CB                                           10266   \n",
       "CJ                                           61425   \n",
       "CP                                             301   \n",
       "FT                                            6511   \n",
       "PC                                           30449   \n",
       "PF                                            3591   \n",
       "PL                                            6172   \n",
       "RL                                           20099   \n",
       "SL                                           16205   \n",
       "TB                                               9   \n",
       "TL                                            1764   \n",
       "\n",
       "                         effective_date_date_verified  filed_date  paid_date  \\\n",
       "public_record_type_code                                                        \n",
       "1D                                                 14          14         14   \n",
       "1F                                                  1           1          0   \n",
       "1X                                                 11          11         11   \n",
       "2D                                                  2           2          2   \n",
       "2F                                                  2           2          0   \n",
       "2X                                                  3           3          3   \n",
       "3D                                               4356        4356       4356   \n",
       "3F                                               2162        2184          1   \n",
       "3X                                               3500        3500       3498   \n",
       "7D                                               1108        1109       1109   \n",
       "7F                                                477         487          8   \n",
       "7X                                              49833       49842      49841   \n",
       "CB                                              10266       10266      10240   \n",
       "CJ                                              61425       61425         13   \n",
       "CP                                                301         301          0   \n",
       "FT                                               6458        6511          6   \n",
       "PC                                              30449       30449      30449   \n",
       "PF                                               3591        3591       3591   \n",
       "PL                                               6171        6172       6172   \n",
       "RL                                              20096       20099      20099   \n",
       "SL                                              16039       16205          8   \n",
       "TB                                                  9           9          0   \n",
       "TL                                               1744        1764          0   \n",
       "\n",
       "                         amount  public_record_source_type_code  \\\n",
       "public_record_type_code                                           \n",
       "1D                            0                              14   \n",
       "1F                            0                               1   \n",
       "1X                            0                              11   \n",
       "2D                            0                               2   \n",
       "2F                            0                               2   \n",
       "2X                            0                               3   \n",
       "3D                            0                            4356   \n",
       "3F                            0                            2184   \n",
       "3X                            0                            3500   \n",
       "7D                            0                            1109   \n",
       "7F                            0                             487   \n",
       "7X                            0                           49841   \n",
       "CB                        10266                           10266   \n",
       "CJ                        61425                           61425   \n",
       "CP                          301                             301   \n",
       "FT                         6511                            6511   \n",
       "PC                        30449                           30449   \n",
       "PF                         3591                            3591   \n",
       "PL                         6172                            6172   \n",
       "RL                        20099                           20099   \n",
       "SL                        16205                           16205   \n",
       "TB                            9                               9   \n",
       "TL                         1764                            1764   \n",
       "\n",
       "                         equal_credit_opportunity_act_code  \\\n",
       "public_record_type_code                                      \n",
       "1D                                                      14   \n",
       "1F                                                       1   \n",
       "1X                                                      11   \n",
       "2D                                                       2   \n",
       "2F                                                       2   \n",
       "2X                                                       3   \n",
       "3D                                                    4356   \n",
       "3F                                                    2184   \n",
       "3X                                                    3500   \n",
       "7D                                                    1109   \n",
       "7F                                                     487   \n",
       "7X                                                   49842   \n",
       "CB                                                   10266   \n",
       "CJ                                                   61425   \n",
       "CP                                                     301   \n",
       "FT                                                    6511   \n",
       "PC                                                   30449   \n",
       "PF                                                    3591   \n",
       "PL                                                    6172   \n",
       "RL                                                   20099   \n",
       "SL                                                   16205   \n",
       "TB                                                       9   \n",
       "TL                                                    1764   \n",
       "\n",
       "                         legislative_prohibited_code  plaintiff_name  \\\n",
       "public_record_type_code                                                \n",
       "1D                                                14               0   \n",
       "1F                                                 1               0   \n",
       "1X                                                11               0   \n",
       "2D                                                 2               0   \n",
       "2F                                                 2               0   \n",
       "2X                                                 3               0   \n",
       "3D                                              4356               0   \n",
       "3F                                              2184               0   \n",
       "3X                                              3500               0   \n",
       "7D                                              1109               0   \n",
       "7F                                               487               0   \n",
       "7X                                             49842               0   \n",
       "CB                                             10266               0   \n",
       "CJ                                             61425               0   \n",
       "CP                                               301               0   \n",
       "FT                                              6511               0   \n",
       "PC                                             30449               0   \n",
       "PF                                              3591               0   \n",
       "PL                                              6172               0   \n",
       "RL                                             20099               0   \n",
       "SL                                             16205               0   \n",
       "TB                                                 9               0   \n",
       "TL                                              1764               0   \n",
       "\n",
       "                         attorney_name  docket_number  \n",
       "public_record_type_code                                \n",
       "1D                                   0              0  \n",
       "1F                                   0              0  \n",
       "1X                                   0              0  \n",
       "2D                                   0              0  \n",
       "2F                                   0              0  \n",
       "2X                                   0              0  \n",
       "3D                                   0              0  \n",
       "3F                                   0              0  \n",
       "3X                                   0              0  \n",
       "7D                                   0              0  \n",
       "7F                                   0              0  \n",
       "7X                                   0              0  \n",
       "CB                                   0              0  \n",
       "CJ                                   0              0  \n",
       "CP                                   0              0  \n",
       "FT                                   0              0  \n",
       "PC                                   0              0  \n",
       "PF                                   0              0  \n",
       "PL                                   0              0  \n",
       "RL                                   0              0  \n",
       "SL                                   0              0  \n",
       "TB                                   0              0  \n",
       "TL                                   0              0  "
      ]
     },
     "execution_count": 28,
     "metadata": {},
     "output_type": "execute_result"
    }
   ],
   "source": [
    "#Aggregate the public record type codes and count them \n",
    "Public_Rec.groupby(['public_record_type_code']).count()"
   ]
  },
  {
   "cell_type": "code",
   "execution_count": 29,
   "id": "b8a459e6-fe2b-4d0d-960f-fe80171d6b9e",
   "metadata": {
    "tags": []
   },
   "outputs": [
    {
     "data": {
      "text/plain": [
       "analytics_matchkey\n",
       "1452992    87\n",
       "1366619    86\n",
       "1470959    46\n",
       "1976457    41\n",
       "1913669    34\n",
       "           ..\n",
       "1604791     1\n",
       "1604789     1\n",
       "1604781     1\n",
       "1604779     1\n",
       "1670218     1\n",
       "Name: public_record_type_code, Length: 134717, dtype: int64"
      ]
     },
     "execution_count": 29,
     "metadata": {},
     "output_type": "execute_result"
    }
   ],
   "source": [
    "#Query the count of separate entries per customer and sort them\n",
    "Public_Rec.groupby(['analytics_matchkey'])['public_record_type_code'].count().sort_values(ascending = False)"
   ]
  },
  {
   "cell_type": "code",
   "execution_count": 30,
   "id": "2a65c8f4-6946-402b-8fd7-9a359853992d",
   "metadata": {
    "tags": []
   },
   "outputs": [
    {
     "data": {
      "text/html": [
       "<div>\n",
       "<style scoped>\n",
       "    .dataframe tbody tr th:only-of-type {\n",
       "        vertical-align: middle;\n",
       "    }\n",
       "\n",
       "    .dataframe tbody tr th {\n",
       "        vertical-align: top;\n",
       "    }\n",
       "\n",
       "    .dataframe thead th {\n",
       "        text-align: right;\n",
       "    }\n",
       "</style>\n",
       "<table border=\"1\" class=\"dataframe\">\n",
       "  <thead>\n",
       "    <tr style=\"text-align: right;\">\n",
       "      <th></th>\n",
       "      <th>analytics_matchkey</th>\n",
       "      <th>industry_code_kind_of_business</th>\n",
       "      <th>reporting_subscriber_code</th>\n",
       "      <th>effective_date_date_verified</th>\n",
       "      <th>filed_date</th>\n",
       "      <th>paid_date</th>\n",
       "      <th>amount</th>\n",
       "      <th>public_record_source_type_code</th>\n",
       "      <th>equal_credit_opportunity_act_code</th>\n",
       "      <th>legislative_prohibited_code</th>\n",
       "      <th>plaintiff_name</th>\n",
       "      <th>attorney_name</th>\n",
       "      <th>docket_number</th>\n",
       "    </tr>\n",
       "    <tr>\n",
       "      <th>public_record_type_code</th>\n",
       "      <th></th>\n",
       "      <th></th>\n",
       "      <th></th>\n",
       "      <th></th>\n",
       "      <th></th>\n",
       "      <th></th>\n",
       "      <th></th>\n",
       "      <th></th>\n",
       "      <th></th>\n",
       "      <th></th>\n",
       "      <th></th>\n",
       "      <th></th>\n",
       "      <th></th>\n",
       "    </tr>\n",
       "  </thead>\n",
       "  <tbody>\n",
       "    <tr>\n",
       "      <th>FT</th>\n",
       "      <td>1</td>\n",
       "      <td>1</td>\n",
       "      <td>1</td>\n",
       "      <td>1</td>\n",
       "      <td>1</td>\n",
       "      <td>0</td>\n",
       "      <td>1</td>\n",
       "      <td>1</td>\n",
       "      <td>1</td>\n",
       "      <td>1</td>\n",
       "      <td>0</td>\n",
       "      <td>0</td>\n",
       "      <td>0</td>\n",
       "    </tr>\n",
       "    <tr>\n",
       "      <th>SL</th>\n",
       "      <td>85</td>\n",
       "      <td>85</td>\n",
       "      <td>85</td>\n",
       "      <td>85</td>\n",
       "      <td>85</td>\n",
       "      <td>0</td>\n",
       "      <td>85</td>\n",
       "      <td>85</td>\n",
       "      <td>85</td>\n",
       "      <td>85</td>\n",
       "      <td>0</td>\n",
       "      <td>0</td>\n",
       "      <td>0</td>\n",
       "    </tr>\n",
       "  </tbody>\n",
       "</table>\n",
       "</div>"
      ],
      "text/plain": [
       "                         analytics_matchkey  industry_code_kind_of_business  \\\n",
       "public_record_type_code                                                       \n",
       "FT                                        1                               1   \n",
       "SL                                       85                              85   \n",
       "\n",
       "                         reporting_subscriber_code  \\\n",
       "public_record_type_code                              \n",
       "FT                                               1   \n",
       "SL                                              85   \n",
       "\n",
       "                         effective_date_date_verified  filed_date  paid_date  \\\n",
       "public_record_type_code                                                        \n",
       "FT                                                  1           1          0   \n",
       "SL                                                 85          85          0   \n",
       "\n",
       "                         amount  public_record_source_type_code  \\\n",
       "public_record_type_code                                           \n",
       "FT                            1                               1   \n",
       "SL                           85                              85   \n",
       "\n",
       "                         equal_credit_opportunity_act_code  \\\n",
       "public_record_type_code                                      \n",
       "FT                                                       1   \n",
       "SL                                                      85   \n",
       "\n",
       "                         legislative_prohibited_code  plaintiff_name  \\\n",
       "public_record_type_code                                                \n",
       "FT                                                 1               0   \n",
       "SL                                                85               0   \n",
       "\n",
       "                         attorney_name  docket_number  \n",
       "public_record_type_code                                \n",
       "FT                                   0              0  \n",
       "SL                                   0              0  "
      ]
     },
     "execution_count": 30,
     "metadata": {},
     "output_type": "execute_result"
    }
   ],
   "source": [
    "Public_Rec[Public_Rec['analytics_matchkey'] == 1366619].groupby(['public_record_type_code']).count()"
   ]
  },
  {
   "cell_type": "markdown",
   "id": "47cff512-74ed-4d9e-a1bf-e693414b1271",
   "metadata": {},
   "source": [
    "Some customers have more than one public record entries in multiple categories (i.e, public record source type code). Next, we'll query the PRT code counts to obtain the number of cases per public record category."
   ]
  },
  {
   "cell_type": "code",
   "execution_count": 31,
   "id": "c69a0216-f5aa-428e-b47d-cab2972dc75b",
   "metadata": {},
   "outputs": [],
   "source": [
    "PRT_codes_binned = Public_Rec.groupby(['public_record_type_code'])['analytics_matchkey'].count()"
   ]
  },
  {
   "cell_type": "code",
   "execution_count": 32,
   "id": "436cf4fb-c1b2-423a-8351-dac3923adf4e",
   "metadata": {
    "tags": []
   },
   "outputs": [
    {
     "data": {
      "text/plain": [
       "public_record_type_code\n",
       "1D       14\n",
       "1F        1\n",
       "1X       11\n",
       "2D        2\n",
       "2F        2\n",
       "2X        3\n",
       "3D     4356\n",
       "3F     2184\n",
       "3X     3500\n",
       "7D     1109\n",
       "7F      487\n",
       "7X    49842\n",
       "CB    10266\n",
       "CJ    61425\n",
       "CP      301\n",
       "FT     6511\n",
       "PC    30449\n",
       "PF     3591\n",
       "PL     6172\n",
       "RL    20099\n",
       "SL    16205\n",
       "TB        9\n",
       "TL     1764\n",
       "Name: analytics_matchkey, dtype: int64"
      ]
     },
     "execution_count": 32,
     "metadata": {},
     "output_type": "execute_result"
    }
   ],
   "source": [
    "PRT_codes_binned"
   ]
  },
  {
   "cell_type": "code",
   "execution_count": 33,
   "id": "0d611978-6956-48f1-b04f-54916f4bbc9e",
   "metadata": {
    "tags": []
   },
   "outputs": [],
   "source": [
    "#Define a cut-off value to bin smaller PRT_codes count in \"others\" \n",
    "bin_cutoff = 1500 \n",
    "\n",
    "PRT_codes_binned['others'] = PRT_codes_binned[PRT_codes_binned < bin_cutoff].sum()\n",
    "index_to_drop =  PRT_codes_binned[PRT_codes_binned < bin_cutoff].index\n",
    "PRT_codes_binned_reduce = PRT_codes_binned.drop(list(index_to_drop))"
   ]
  },
  {
   "cell_type": "code",
   "execution_count": 34,
   "id": "1a9d201e-7ff1-49c2-b242-4fa714ccb63d",
   "metadata": {
    "tags": []
   },
   "outputs": [
    {
     "data": {
      "image/png": "[encoded data removed]",
      "text/plain": [
       "<Figure size 648x864 with 1 Axes>"
      ]
     },
     "metadata": {},
     "output_type": "display_data"
    }
   ],
   "source": [
    "#Pie chart for the PRT_code distribution \n",
    "\n",
    "labels = list(PRT_codes_binned_reduce.index)\n",
    "palette_color = sns.color_palette('bright')\n",
    "sns.set(rc={\"figure.figsize\":(9, 12)}) #width=3, #height=4\n",
    "\n",
    "plt.pie(PRT_codes_binned_reduce, labels = labels, colors = palette_color,autopct='%.0f%%')\n",
    "plt.title('Pie chart for the Public Record Type Codes distribution')\n",
    "\n",
    "plt.show()"
   ]
  },
  {
   "cell_type": "markdown",
   "id": "0866087e-6461-490f-9a2c-da645991258a",
   "metadata": {},
   "source": [
    "Almost half of the cases belongs to either civil judgements or chapter 7 bankruptcy charges. \n",
    "\n",
    "**Q:** What is the mean amount owed per case type? "
   ]
  },
  {
   "cell_type": "code",
   "execution_count": 35,
   "id": "dc316b6b-8c39-4499-936c-da3471f3a064",
   "metadata": {
    "tags": []
   },
   "outputs": [
    {
     "data": {
      "text/plain": [
       "public_record_type_code\n",
       "1D             NaN\n",
       "1F             NaN\n",
       "1X             NaN\n",
       "2D             NaN\n",
       "2F             NaN\n",
       "2X             NaN\n",
       "3D             NaN\n",
       "3F             NaN\n",
       "3X             NaN\n",
       "7D             NaN\n",
       "7F             NaN\n",
       "7X             NaN\n",
       "CB     5245.237386\n",
       "CJ     3156.834481\n",
       "CP     7714.116279\n",
       "FT    33204.594225\n",
       "PC     1792.190745\n",
       "PF    23991.086048\n",
       "PL     1843.071776\n",
       "RL     2582.234987\n",
       "SL     3237.531132\n",
       "TB    11738.777778\n",
       "TL      575.713719\n",
       "Name: amount, dtype: float64"
      ]
     },
     "execution_count": 35,
     "metadata": {},
     "output_type": "execute_result"
    }
   ],
   "source": [
    "Public_Rec.groupby(['public_record_type_code'])['amount'].mean()"
   ]
  },
  {
   "cell_type": "markdown",
   "id": "23454603-c7cd-4190-ac6d-9aaa7a5d3455",
   "metadata": {},
   "source": [
    "Not all the amounts of debt in the bankruptcy cases were disclosed or added to the dataset. "
   ]
  },
  {
   "cell_type": "markdown",
   "id": "cf704750-ea9e-4578-baa0-aa0ad089ddb7",
   "metadata": {},
   "source": [
    "**Q:** What’s the average number of days for a debtor to pay the delinquent amount?"
   ]
  },
  {
   "cell_type": "code",
   "execution_count": 36,
   "id": "6023438e-8dec-4ba5-8e01-4072ede282e8",
   "metadata": {
    "tags": []
   },
   "outputs": [],
   "source": [
    "Public_Rec['days_to_pay'] = (Public_Rec['paid_date'] - Public_Rec['filed_date']).apply(lambda x: x.days)"
   ]
  },
  {
   "cell_type": "code",
   "execution_count": 37,
   "id": "1f1654fd-02ef-4d55-8d6e-9f876379f245",
   "metadata": {
    "tags": []
   },
   "outputs": [
    {
     "data": {
      "text/html": [
       "<div>\n",
       "<style scoped>\n",
       "    .dataframe tbody tr th:only-of-type {\n",
       "        vertical-align: middle;\n",
       "    }\n",
       "\n",
       "    .dataframe tbody tr th {\n",
       "        vertical-align: top;\n",
       "    }\n",
       "\n",
       "    .dataframe thead th {\n",
       "        text-align: right;\n",
       "    }\n",
       "</style>\n",
       "<table border=\"1\" class=\"dataframe\">\n",
       "  <thead>\n",
       "    <tr style=\"text-align: right;\">\n",
       "      <th></th>\n",
       "      <th>analytics_matchkey</th>\n",
       "      <th>days_to_pay</th>\n",
       "    </tr>\n",
       "  </thead>\n",
       "  <tbody>\n",
       "    <tr>\n",
       "      <th>0</th>\n",
       "      <td>1346747</td>\n",
       "      <td>NaN</td>\n",
       "    </tr>\n",
       "    <tr>\n",
       "      <th>1</th>\n",
       "      <td>1346748</td>\n",
       "      <td>141.0</td>\n",
       "    </tr>\n",
       "    <tr>\n",
       "      <th>2</th>\n",
       "      <td>1346754</td>\n",
       "      <td>NaN</td>\n",
       "    </tr>\n",
       "    <tr>\n",
       "      <th>3</th>\n",
       "      <td>1346754</td>\n",
       "      <td>122.0</td>\n",
       "    </tr>\n",
       "    <tr>\n",
       "      <th>4</th>\n",
       "      <td>1346756</td>\n",
       "      <td>2737.0</td>\n",
       "    </tr>\n",
       "  </tbody>\n",
       "</table>\n",
       "</div>"
      ],
      "text/plain": [
       "   analytics_matchkey  days_to_pay\n",
       "0             1346747          NaN\n",
       "1             1346748        141.0\n",
       "2             1346754          NaN\n",
       "3             1346754        122.0\n",
       "4             1346756       2737.0"
      ]
     },
     "execution_count": 37,
     "metadata": {},
     "output_type": "execute_result"
    }
   ],
   "source": [
    "Public_Rec[[\"analytics_matchkey\", \"days_to_pay\"]].head()"
   ]
  },
  {
   "cell_type": "code",
   "execution_count": 38,
   "id": "f0fcf130-ed76-4614-aeb2-6abdde4bb4ae",
   "metadata": {
    "tags": []
   },
   "outputs": [],
   "source": [
    "pd.set_option('display.float_format', lambda x: '%.3f' % x)\n",
    "mean_days_to_pay = Public_Rec.groupby(['public_record_type_code'])['days_to_pay'].mean()"
   ]
  },
  {
   "cell_type": "code",
   "execution_count": 39,
   "id": "9bae9d1f-01c5-40cb-904c-e976711df2c5",
   "metadata": {
    "tags": []
   },
   "outputs": [
    {
     "data": {
      "image/png": "[encoded data removed]",
      "text/plain": [
       "<Figure size 648x432 with 1 Axes>"
      ]
     },
     "metadata": {},
     "output_type": "display_data"
    }
   ],
   "source": [
    "mean_days_fig = sns.barplot(x = mean_days_to_pay.index, y = mean_days_to_pay.values, color ='steelblue')\n",
    "plt.xlabel('Public Record Type Code')\n",
    "plt.ylabel('Number of Days')\n",
    "plt.title('Mean number of days to pay the debt per PRTC')\n",
    "\n",
    "mean_days_fig.figure.set_size_inches(9,6)\n",
    "plt.show()"
   ]
  },
  {
   "cell_type": "markdown",
   "id": "eafe0c30-65ea-420e-b355-e603936e613e",
   "metadata": {},
   "source": [
    "Some bins are missing as a number of rows in the public records dataframe do not contain the dates at which the full amount is paid (i.e., \"paid_date\"). The types 1F & 2F are missing those values as these classes belong to the bankruptcy filings. "
   ]
  },
  {
   "cell_type": "markdown",
   "id": "884fe70d-735d-440e-b60f-1e10a0e24857",
   "metadata": {},
   "source": [
    "**Q**: What is the average amount borrowed per case type? "
   ]
  },
  {
   "cell_type": "code",
   "execution_count": 41,
   "id": "589c9eba-ffd2-4b41-8c1f-e2a6de06299e",
   "metadata": {
    "tags": []
   },
   "outputs": [],
   "source": [
    "## Mean delinquent amount per PRTC\n",
    "pd.set_option('display.float_format', lambda x: '%.2f' % x)\n",
    "mean_amount = Public_Rec.groupby(['public_record_type_code'])['amount'].mean()"
   ]
  },
  {
   "cell_type": "code",
   "execution_count": 42,
   "id": "bae4084d-e710-487b-8f9a-1425c46a4621",
   "metadata": {
    "tags": []
   },
   "outputs": [
    {
     "data": {
      "image/png": "[encoded data removed]",
      "text/plain": [
       "<Figure size 648x432 with 1 Axes>"
      ]
     },
     "metadata": {},
     "output_type": "display_data"
    }
   ],
   "source": [
    "mean_amount_fig = sns.barplot(x = mean_amount.index, y = mean_amount.values, color = 'steelblue')\n",
    "#sns.set(rc={\"figure.figsize\":(3, 4)}) #width=3, #height=4\n",
    "plt.xlabel('Public Record Type Code')\n",
    "plt.ylabel('Amount ($)')\n",
    "plt.title('Mean delinquent amount per PRTC')\n",
    "\n",
    "mean_amount_fig.figure.set_size_inches(9,6)\n",
    "plt.show()"
   ]
  },
  {
   "cell_type": "markdown",
   "id": "026183d5-f5f7-4313-b800-3ac04b1f12fd",
   "metadata": {},
   "source": [
    "The amount on bankruptcy cases were not disclosed . **The Federal Tax Lien is the cause for the highest mean debt owed to the creditors.** "
   ]
  },
  {
   "cell_type": "markdown",
   "id": "46d0e467-1697-401f-8119-3c0fa1281769",
   "metadata": {},
   "source": [
    "## The distribution of debt \n",
    "\n",
    "**Q:** How does the distribution of the amount of debt look? "
   ]
  },
  {
   "cell_type": "code",
   "execution_count": 43,
   "id": "c5a95f42-5ae7-469e-8de6-f9862c727f51",
   "metadata": {
    "tags": []
   },
   "outputs": [
    {
     "data": {
      "image/png": "[encoded data removed]",
      "text/plain": [
       "<Figure size 648x432 with 1 Axes>"
      ]
     },
     "metadata": {},
     "output_type": "display_data"
    }
   ],
   "source": [
    "plt.figure(figsize = (9, 6)) \n",
    "sns.histplot(data = Public_Rec, x = 'amount', bins = 30)\n",
    "plt.title('The distribution of debt') \n",
    "plt.show()"
   ]
  },
  {
   "cell_type": "markdown",
   "id": "bb2302fb-6947-4032-8940-b86fad84949b",
   "metadata": {},
   "source": [
    "The distribution is heavily skewed towards zero, but there may be data points at the tail overshadowed by the peak at 0.0. "
   ]
  },
  {
   "cell_type": "code",
   "execution_count": 44,
   "id": "6f353586-0b9a-41f4-83f2-d726f2a1321f",
   "metadata": {
    "tags": []
   },
   "outputs": [
    {
     "name": "stdout",
     "output_type": "stream",
     "text": [
      "count    156792.00\n",
      "mean       4616.67\n",
      "std       41800.84\n",
      "min           0.00\n",
      "25%         644.00\n",
      "50%        1338.00\n",
      "75%        3174.00\n",
      "max     9999999.00\n",
      "Name: amount, dtype: float64\n"
     ]
    }
   ],
   "source": [
    "#Let's check the statistics \n",
    "amount_summary = Public_Rec['amount'].describe()\n",
    "print(amount_summary)"
   ]
  },
  {
   "cell_type": "code",
   "execution_count": 45,
   "id": "a97041c1-4b6f-4a55-b09a-8398072d1289",
   "metadata": {
    "tags": []
   },
   "outputs": [
    {
     "data": {
      "text/html": [
       "<div>\n",
       "<style scoped>\n",
       "    .dataframe tbody tr th:only-of-type {\n",
       "        vertical-align: middle;\n",
       "    }\n",
       "\n",
       "    .dataframe tbody tr th {\n",
       "        vertical-align: top;\n",
       "    }\n",
       "\n",
       "    .dataframe thead th {\n",
       "        text-align: right;\n",
       "    }\n",
       "</style>\n",
       "<table border=\"1\" class=\"dataframe\">\n",
       "  <thead>\n",
       "    <tr style=\"text-align: right;\">\n",
       "      <th></th>\n",
       "      <th>analytics_matchkey</th>\n",
       "      <th>industry_code_kind_of_business</th>\n",
       "      <th>reporting_subscriber_code</th>\n",
       "      <th>public_record_type_code</th>\n",
       "      <th>effective_date_date_verified</th>\n",
       "      <th>filed_date</th>\n",
       "      <th>paid_date</th>\n",
       "      <th>amount</th>\n",
       "      <th>public_record_source_type_code</th>\n",
       "      <th>equal_credit_opportunity_act_code</th>\n",
       "      <th>legislative_prohibited_code</th>\n",
       "      <th>plaintiff_name</th>\n",
       "      <th>attorney_name</th>\n",
       "      <th>docket_number</th>\n",
       "      <th>days_to_pay</th>\n",
       "    </tr>\n",
       "  </thead>\n",
       "  <tbody>\n",
       "    <tr>\n",
       "      <th>35358</th>\n",
       "      <td>1451690</td>\n",
       "      <td>Z</td>\n",
       "      <td>11J</td>\n",
       "      <td>PF</td>\n",
       "      <td>2012-03-06</td>\n",
       "      <td>2009-09-24</td>\n",
       "      <td>2012-02-28</td>\n",
       "      <td>9999999.00</td>\n",
       "      <td>RD</td>\n",
       "      <td>I</td>\n",
       "      <td>1</td>\n",
       "      <td>NaN</td>\n",
       "      <td>NaN</td>\n",
       "      <td>NaN</td>\n",
       "      <td>887.00</td>\n",
       "    </tr>\n",
       "    <tr>\n",
       "      <th>186714</th>\n",
       "      <td>1898185</td>\n",
       "      <td>ZP</td>\n",
       "      <td>141</td>\n",
       "      <td>RL</td>\n",
       "      <td>2010-07-09</td>\n",
       "      <td>2009-12-28</td>\n",
       "      <td>2010-06-25</td>\n",
       "      <td>9999999.00</td>\n",
       "      <td>RD</td>\n",
       "      <td>I</td>\n",
       "      <td>1</td>\n",
       "      <td>NaN</td>\n",
       "      <td>NaN</td>\n",
       "      <td>NaN</td>\n",
       "      <td>179.00</td>\n",
       "    </tr>\n",
       "  </tbody>\n",
       "</table>\n",
       "</div>"
      ],
      "text/plain": [
       "        analytics_matchkey industry_code_kind_of_business  \\\n",
       "35358              1451690                              Z   \n",
       "186714             1898185                             ZP   \n",
       "\n",
       "       reporting_subscriber_code public_record_type_code  \\\n",
       "35358                        11J                      PF   \n",
       "186714                       141                      RL   \n",
       "\n",
       "       effective_date_date_verified filed_date  paid_date     amount  \\\n",
       "35358                    2012-03-06 2009-09-24 2012-02-28 9999999.00   \n",
       "186714                   2010-07-09 2009-12-28 2010-06-25 9999999.00   \n",
       "\n",
       "       public_record_source_type_code equal_credit_opportunity_act_code  \\\n",
       "35358                              RD                                 I   \n",
       "186714                             RD                                 I   \n",
       "\n",
       "        legislative_prohibited_code  plaintiff_name  attorney_name  \\\n",
       "35358                             1             NaN            NaN   \n",
       "186714                            1             NaN            NaN   \n",
       "\n",
       "        docket_number  days_to_pay  \n",
       "35358             NaN       887.00  \n",
       "186714            NaN       179.00  "
      ]
     },
     "execution_count": 45,
     "metadata": {},
     "output_type": "execute_result"
    }
   ],
   "source": [
    "Public_Rec[Public_Rec.amount == amount_summary['max']]"
   ]
  },
  {
   "cell_type": "markdown",
   "id": "c05367ae-c2b9-45eb-a27a-996e256687c4",
   "metadata": {},
   "source": [
    "Given the large standard deviation and maximum values in the amounts, these two are likely the outliers. Next, we'll sort the values in descending order and look deeper into the peak values."
   ]
  },
  {
   "cell_type": "code",
   "execution_count": 46,
   "id": "8a10840a-ebd9-499f-aab3-6e7a6a0f28fd",
   "metadata": {
    "tags": []
   },
   "outputs": [
    {
     "data": {
      "text/html": [
       "<div>\n",
       "<style scoped>\n",
       "    .dataframe tbody tr th:only-of-type {\n",
       "        vertical-align: middle;\n",
       "    }\n",
       "\n",
       "    .dataframe tbody tr th {\n",
       "        vertical-align: top;\n",
       "    }\n",
       "\n",
       "    .dataframe thead th {\n",
       "        text-align: right;\n",
       "    }\n",
       "</style>\n",
       "<table border=\"1\" class=\"dataframe\">\n",
       "  <thead>\n",
       "    <tr style=\"text-align: right;\">\n",
       "      <th></th>\n",
       "      <th>analytics_matchkey</th>\n",
       "      <th>industry_code_kind_of_business</th>\n",
       "      <th>reporting_subscriber_code</th>\n",
       "      <th>public_record_type_code</th>\n",
       "      <th>effective_date_date_verified</th>\n",
       "      <th>filed_date</th>\n",
       "      <th>paid_date</th>\n",
       "      <th>amount</th>\n",
       "      <th>public_record_source_type_code</th>\n",
       "      <th>equal_credit_opportunity_act_code</th>\n",
       "      <th>legislative_prohibited_code</th>\n",
       "      <th>plaintiff_name</th>\n",
       "      <th>attorney_name</th>\n",
       "      <th>docket_number</th>\n",
       "      <th>days_to_pay</th>\n",
       "    </tr>\n",
       "  </thead>\n",
       "  <tbody>\n",
       "    <tr>\n",
       "      <th>35358</th>\n",
       "      <td>1451690</td>\n",
       "      <td>Z</td>\n",
       "      <td>11J</td>\n",
       "      <td>PF</td>\n",
       "      <td>2012-03-06</td>\n",
       "      <td>2009-09-24</td>\n",
       "      <td>2012-02-28</td>\n",
       "      <td>9999999.00</td>\n",
       "      <td>RD</td>\n",
       "      <td>I</td>\n",
       "      <td>1</td>\n",
       "      <td>NaN</td>\n",
       "      <td>NaN</td>\n",
       "      <td>NaN</td>\n",
       "      <td>887.00</td>\n",
       "    </tr>\n",
       "    <tr>\n",
       "      <th>186714</th>\n",
       "      <td>1898185</td>\n",
       "      <td>ZP</td>\n",
       "      <td>141</td>\n",
       "      <td>RL</td>\n",
       "      <td>2010-07-09</td>\n",
       "      <td>2009-12-28</td>\n",
       "      <td>2010-06-25</td>\n",
       "      <td>9999999.00</td>\n",
       "      <td>RD</td>\n",
       "      <td>I</td>\n",
       "      <td>1</td>\n",
       "      <td>NaN</td>\n",
       "      <td>NaN</td>\n",
       "      <td>NaN</td>\n",
       "      <td>179.00</td>\n",
       "    </tr>\n",
       "    <tr>\n",
       "      <th>126489</th>\n",
       "      <td>1721497</td>\n",
       "      <td>ZP</td>\n",
       "      <td>365</td>\n",
       "      <td>RL</td>\n",
       "      <td>2010-10-13</td>\n",
       "      <td>2008-07-16</td>\n",
       "      <td>2010-09-02</td>\n",
       "      <td>2696174.00</td>\n",
       "      <td>RD</td>\n",
       "      <td>I</td>\n",
       "      <td>1</td>\n",
       "      <td>NaN</td>\n",
       "      <td>NaN</td>\n",
       "      <td>NaN</td>\n",
       "      <td>778.00</td>\n",
       "    </tr>\n",
       "    <tr>\n",
       "      <th>82904</th>\n",
       "      <td>1591558</td>\n",
       "      <td>ZP</td>\n",
       "      <td>447</td>\n",
       "      <td>PF</td>\n",
       "      <td>2007-04-11</td>\n",
       "      <td>2007-04-11</td>\n",
       "      <td>2010-07-01</td>\n",
       "      <td>1912871.00</td>\n",
       "      <td>RD</td>\n",
       "      <td>I</td>\n",
       "      <td>1</td>\n",
       "      <td>NaN</td>\n",
       "      <td>NaN</td>\n",
       "      <td>NaN</td>\n",
       "      <td>1177.00</td>\n",
       "    </tr>\n",
       "    <tr>\n",
       "      <th>196368</th>\n",
       "      <td>1926409</td>\n",
       "      <td>ZP</td>\n",
       "      <td>430</td>\n",
       "      <td>FT</td>\n",
       "      <td>2015-03-31</td>\n",
       "      <td>2014-10-27</td>\n",
       "      <td>NaT</td>\n",
       "      <td>1625836.00</td>\n",
       "      <td>RD</td>\n",
       "      <td>I</td>\n",
       "      <td>1</td>\n",
       "      <td>NaN</td>\n",
       "      <td>NaN</td>\n",
       "      <td>NaN</td>\n",
       "      <td>NaN</td>\n",
       "    </tr>\n",
       "  </tbody>\n",
       "</table>\n",
       "</div>"
      ],
      "text/plain": [
       "        analytics_matchkey industry_code_kind_of_business  \\\n",
       "35358              1451690                              Z   \n",
       "186714             1898185                             ZP   \n",
       "126489             1721497                             ZP   \n",
       "82904              1591558                             ZP   \n",
       "196368             1926409                             ZP   \n",
       "\n",
       "       reporting_subscriber_code public_record_type_code  \\\n",
       "35358                        11J                      PF   \n",
       "186714                       141                      RL   \n",
       "126489                       365                      RL   \n",
       "82904                        447                      PF   \n",
       "196368                       430                      FT   \n",
       "\n",
       "       effective_date_date_verified filed_date  paid_date     amount  \\\n",
       "35358                    2012-03-06 2009-09-24 2012-02-28 9999999.00   \n",
       "186714                   2010-07-09 2009-12-28 2010-06-25 9999999.00   \n",
       "126489                   2010-10-13 2008-07-16 2010-09-02 2696174.00   \n",
       "82904                    2007-04-11 2007-04-11 2010-07-01 1912871.00   \n",
       "196368                   2015-03-31 2014-10-27        NaT 1625836.00   \n",
       "\n",
       "       public_record_source_type_code equal_credit_opportunity_act_code  \\\n",
       "35358                              RD                                 I   \n",
       "186714                             RD                                 I   \n",
       "126489                             RD                                 I   \n",
       "82904                              RD                                 I   \n",
       "196368                             RD                                 I   \n",
       "\n",
       "        legislative_prohibited_code  plaintiff_name  attorney_name  \\\n",
       "35358                             1             NaN            NaN   \n",
       "186714                            1             NaN            NaN   \n",
       "126489                            1             NaN            NaN   \n",
       "82904                             1             NaN            NaN   \n",
       "196368                            1             NaN            NaN   \n",
       "\n",
       "        docket_number  days_to_pay  \n",
       "35358             NaN       887.00  \n",
       "186714            NaN       179.00  \n",
       "126489            NaN       778.00  \n",
       "82904             NaN      1177.00  \n",
       "196368            NaN          NaN  "
      ]
     },
     "execution_count": 46,
     "metadata": {},
     "output_type": "execute_result"
    }
   ],
   "source": [
    "Public_Rec.sort_values(by = ['amount'], ascending = False).head()"
   ]
  },
  {
   "cell_type": "markdown",
   "id": "83e3d43a-5bd5-40cf-89bd-f828565178fd",
   "metadata": {},
   "source": [
    "There are more than 10 debtors with 1M+ balance sheet. The exact number is,  "
   ]
  },
  {
   "cell_type": "code",
   "execution_count": 47,
   "id": "31efe2aa-1de5-428b-ab9e-748cbe65a9b6",
   "metadata": {
    "tags": []
   },
   "outputs": [
    {
     "data": {
      "text/plain": [
       "19"
      ]
     },
     "execution_count": 47,
     "metadata": {},
     "output_type": "execute_result"
    }
   ],
   "source": [
    "Public_Rec[Public_Rec['amount'] >= 1e6]['analytics_matchkey'].count()"
   ]
  },
  {
   "cell_type": "markdown",
   "id": "e8920f44-1bb8-4426-9f4b-7d4f62b17b10",
   "metadata": {},
   "source": [
    "19 people seem to bear larger debt. \n",
    "\n",
    "Below, we build the rank order on the sorted data and visualize how the debt increases from smaller values. "
   ]
  },
  {
   "cell_type": "code",
   "execution_count": 48,
   "id": "0c1656f2-3993-42cf-aaa4-952f52efe15d",
   "metadata": {
    "tags": []
   },
   "outputs": [],
   "source": [
    "Amounts = Public_Rec.sort_values(by = ['amount'], ascending = True)['amount']"
   ]
  },
  {
   "cell_type": "code",
   "execution_count": 49,
   "id": "d449a5cc-2e77-4e17-ae89-e00ecd0a9c5f",
   "metadata": {
    "tags": []
   },
   "outputs": [
    {
     "data": {
      "text/plain": [
       "211822   0.00\n",
       "209291   0.00\n",
       "163310   0.00\n",
       "33979    0.00\n",
       "160479   0.00\n",
       "         ... \n",
       "218295    NaN\n",
       "218298    NaN\n",
       "218300    NaN\n",
       "218301    NaN\n",
       "218302    NaN\n",
       "Name: amount, Length: 218303, dtype: float64"
      ]
     },
     "execution_count": 49,
     "metadata": {},
     "output_type": "execute_result"
    }
   ],
   "source": [
    "Amounts"
   ]
  },
  {
   "cell_type": "code",
   "execution_count": 50,
   "id": "bf6dfc11-e739-480c-8020-534a2f0044df",
   "metadata": {
    "tags": []
   },
   "outputs": [],
   "source": [
    "#Remove NaNs\n",
    "Amounts = Amounts[~np.isnan(Amounts)] "
   ]
  },
  {
   "cell_type": "code",
   "execution_count": 51,
   "id": "32d4bdf8-e82e-4d8a-b7f5-c556e616139e",
   "metadata": {
    "tags": []
   },
   "outputs": [
    {
     "data": {
      "image/png": "[encoded data removed]",
      "text/plain": [
       "<Figure size 720x360 with 1 Axes>"
      ]
     },
     "metadata": {},
     "output_type": "display_data"
    }
   ],
   "source": [
    "plt.figure(figsize = (10, 5)) \n",
    "plt.plot(Amounts.values)\n",
    "plt.xlabel('Index')\n",
    "plt.ylabel('Amount of Debt ($)')\n",
    "plt.title('The rank order for the amount of debt')\n",
    "plt.show()"
   ]
  },
  {
   "cell_type": "markdown",
   "id": "3db580f9-25e4-45ba-ac9f-2af9dffc15d1",
   "metadata": {},
   "source": [
    "The two extreme values for debt peak at around $10M. \n",
    "\n",
    "We shall calculate the mean and standard deviation of the amounts set. Then, we'll check how the statistics changes ignoring these two peak values. "
   ]
  },
  {
   "cell_type": "code",
   "execution_count": 52,
   "id": "368588de-a7df-4a54-89c3-5dee2cf2ec2b",
   "metadata": {
    "tags": []
   },
   "outputs": [
    {
     "data": {
      "text/plain": [
       "count    156792.000\n",
       "mean       4616.669\n",
       "std       41800.839\n",
       "min           0.000\n",
       "25%         644.000\n",
       "50%        1338.000\n",
       "75%        3174.000\n",
       "max     9999999.000\n",
       "Name: amount, dtype: float64"
      ]
     },
     "execution_count": 52,
     "metadata": {},
     "output_type": "execute_result"
    }
   ],
   "source": [
    "#Change the Pandas output format\n",
    "pd.set_option('display.float_format', lambda x: '%.3f' % x)\n",
    "\n",
    "#Gather stastistics of the debts\n",
    "Amounts.describe()"
   ]
  },
  {
   "cell_type": "code",
   "execution_count": 53,
   "id": "7117c8ea-54c9-4992-ac09-3523fde34b0a",
   "metadata": {
    "tags": []
   },
   "outputs": [
    {
     "name": "stdout",
     "output_type": "stream",
     "text": [
      "Mean, median and std of the amounts set\n",
      "Mean = 4616.669\n",
      "Median = 1338.000\n",
      "STD = 41800.839\n"
     ]
    }
   ],
   "source": [
    "#The mean and std of the sorted amounts with the last two max values \n",
    "print(\"Mean, median and std of the amounts set\") \n",
    "print(\"Mean = %.3f\" % Amounts.mean()) \n",
    "print(\"Median = %.3f\" % Amounts.median()) \n",
    "print(\"STD = %.3f\" % Amounts.std())"
   ]
  },
  {
   "cell_type": "code",
   "execution_count": 54,
   "id": "14425205-699f-472c-8683-2daa207bafd5",
   "metadata": {
    "tags": []
   },
   "outputs": [
    {
     "name": "stdout",
     "output_type": "stream",
     "text": [
      "Mean, median and std of the amounts set without two max values\n",
      "Mean = 4489.169\n",
      "Median = 1338.000\n",
      "STD = 21746.133\n"
     ]
    }
   ],
   "source": [
    "#The mean and std of the sorted amounts without the last two max values \n",
    "print(\"Mean, median and std of the amounts set without two max values\") \n",
    "print(\"Mean = %.3f\" % Amounts[:-2].mean()) \n",
    "print(\"Median = %.3f\" % Amounts[:-2].median()) \n",
    "print(\"STD = %.3f\" % Amounts[:-2].std())"
   ]
  },
  {
   "cell_type": "markdown",
   "id": "a42d7197-d622-40fb-bf11-275821cc3ce8",
   "metadata": {},
   "source": [
    "The standard deviation value dropped nearly by half after removal of the two extreme values . They are good candidates to be outliers. \n",
    "\n",
    "In the following cell, we find out how the data is binned from 0 to the maximum value (i.e., 9999999.0)."
   ]
  },
  {
   "cell_type": "code",
   "execution_count": 55,
   "id": "e158394e-0dd6-4c6d-9051-69bc23123285",
   "metadata": {
    "tags": []
   },
   "outputs": [
    {
     "data": {
      "text/plain": [
       "(array([156708,     58,      7,     12,      3,      1,      0,      0,\n",
       "             1,      0,      0,      0,      0,      0,      0,      0,\n",
       "             0,      0,      0,      0,      0,      0,      0,      0,\n",
       "             0,      0,      0,      0,      0,      2]),\n",
       " array([      0. ,  333333.3,  666666.6,  999999.9, 1333333.2, 1666666.5,\n",
       "        1999999.8, 2333333.1, 2666666.4, 2999999.7, 3333333. , 3666666.3,\n",
       "        3999999.6, 4333332.9, 4666666.2, 4999999.5, 5333332.8, 5666666.1,\n",
       "        5999999.4, 6333332.7, 6666666. , 6999999.3, 7333332.6, 7666665.9,\n",
       "        7999999.2, 8333332.5, 8666665.8, 8999999.1, 9333332.4, 9666665.7,\n",
       "        9999999. ]))"
      ]
     },
     "execution_count": 55,
     "metadata": {},
     "output_type": "execute_result"
    }
   ],
   "source": [
    "#Let's check the individual bins of the initial amount histogram \n",
    "Amount_Hist = np.histogram(Amounts, bins = 30)\n",
    "Amount_Hist"
   ]
  },
  {
   "cell_type": "markdown",
   "id": "2dda9347-5615-4115-baa6-8b7a04579f1c",
   "metadata": {},
   "source": [
    "The binnings show a large cluster of data points between 0 and $333k followed by only 100 data points.\n",
    "\n",
    "Let's plot a box-plot and analyze the interquartile range to describe the behavior at the end of the distribution. This will help us to spot outliers visually. "
   ]
  },
  {
   "cell_type": "code",
   "execution_count": 56,
   "id": "5f4c0432-6657-42b6-96a6-1c81078c383d",
   "metadata": {
    "tags": []
   },
   "outputs": [
    {
     "data": {
      "image/png": "[encoded data removed]",
      "text/plain": [
       "<Figure size 576x288 with 1 Axes>"
      ]
     },
     "metadata": {},
     "output_type": "display_data"
    }
   ],
   "source": [
    "plt.figure(figsize = (8, 4))\n",
    "outlier_dict =  dict(marker='x', markeredgecolor='k', markersize = 8)\n",
    "\n",
    "plt.boxplot(Amounts,vert = False, flierprops = outlier_dict)\n",
    "\n",
    "plt.xlabel('Amount of debt ($)') \n",
    "plt.title('Box-plot for the debt distribution') \n",
    "plt.show()"
   ]
  },
  {
   "cell_type": "markdown",
   "id": "bd3329b4-afd5-4869-ab07-767ac0e1634a",
   "metadata": {},
   "source": [
    "Next, we will calculate the interquartile range for outlier statistics."
   ]
  },
  {
   "cell_type": "code",
   "execution_count": 57,
   "id": "f9172ec0-e4d1-41c3-905b-b6af1ef9c645",
   "metadata": {
    "tags": []
   },
   "outputs": [
    {
     "name": "stdout",
     "output_type": "stream",
     "text": [
      "Lower fence =  -3151.0\n",
      "Upper fence =  6969.0\n",
      "Median = 1338.000\n"
     ]
    }
   ],
   "source": [
    "#Calculate the interquartile range of the amount data \n",
    "Q1 =  Amounts.describe()['25%']\n",
    "Q3 = Amounts.describe()['75%']\n",
    "IQR = Q3 - Q1 \n",
    "\n",
    "#Calculate the upper and lower fences as they are not seen on the box-plot\n",
    "LF = Q1 - (1.5 * IQR)\n",
    "UF = Q3 + (1.5 * IQR)\n",
    "\n",
    "print(\"Lower fence = \", LF) \n",
    "print(\"Upper fence = \", UF) \n",
    "print(\"Median = %.3f\" % Amounts.median()) "
   ]
  },
  {
   "cell_type": "markdown",
   "id": "684a5492-486b-41a8-a9d0-d1e20c7ce7d9",
   "metadata": {},
   "source": [
    "The outliers start even before $10k. The distribution contains some extreme values. \n",
    "\n",
    "We can fit a gamma-distribution to the data once we remove two extreme values by defining a cut-off at $3M. "
   ]
  },
  {
   "cell_type": "code",
   "execution_count": 58,
   "id": "15f12ce0-7886-4c16-9568-dc942cd54e61",
   "metadata": {
    "tags": []
   },
   "outputs": [
    {
     "name": "stdout",
     "output_type": "stream",
     "text": [
      "0.6226129569958788 -125 7410.974982008679\n"
     ]
    }
   ],
   "source": [
    "#Visualize the distribution for the amount of debt below the cutoff value \n",
    "\n",
    "import scipy.stats as stats\n",
    "gamma = stats.gamma\n",
    "\n",
    "cutoff = 3e6 \n",
    "\n",
    "#Fitting a generalized gamma function \n",
    "shape, loc, scale = gamma.fit(Amounts[Amounts <  cutoff], floc = -125)\n",
    "print(shape, loc, scale)\n",
    "\n",
    "x =  np.linspace(0,cutoff,10000)\n",
    "y = gamma.pdf(x, shape, loc, scale)"
   ]
  },
  {
   "cell_type": "code",
   "execution_count": 59,
   "id": "af3bfce9-33c7-48ce-bbf7-a5e6a93fb474",
   "metadata": {
    "tags": []
   },
   "outputs": [
    {
     "data": {
      "image/png": "[encoded data removed]",
      "text/plain": [
       "<Figure size 648x432 with 1 Axes>"
      ]
     },
     "metadata": {},
     "output_type": "display_data"
    }
   ],
   "source": [
    "plt.figure(figsize = (9, 6)) \n",
    "\n",
    "plt.plot(x, y,'r', label = 'gamma PDF')\n",
    "\n",
    "plt.hist(Amounts[Amounts < cutoff], bins = 2500, density = True)\n",
    "plt.xlabel('Amount of debt($)')\n",
    "plt.ylabel('PDF')\n",
    "ax = plt.gca()\n",
    "ax.set_xlim([-1e3, 3e4])\n",
    "ax.legend(loc='best', frameon=False)\n",
    "\n",
    "plt.show()"
   ]
  },
  {
   "cell_type": "markdown",
   "id": "a440a634-eb89-41db-8665-7a23bdbffdc9",
   "metadata": {},
   "source": [
    "The fitted distribution seems to have a long-tail. A distribution with a slow-decaying tail, such as [Benini distribution](https://en.wikipedia.org/wiki/Benini_distribution), might be a better representation of the trend of the amount data in this case. "
   ]
  },
  {
   "cell_type": "markdown",
   "id": "7317ae4a-16c3-4945-839b-00723b760291",
   "metadata": {},
   "source": [
    "## KNN-approach for detecting outliers"
   ]
  },
  {
   "cell_type": "markdown",
   "id": "b0870efd-4f7a-451f-9527-2b391ae38372",
   "metadata": {},
   "source": [
    "To detect the outliers and extreme value more systematically, we'll employ K-nearest neighbors method and calculate mean-k distances.  "
   ]
  },
  {
   "cell_type": "code",
   "execution_count": 60,
   "id": "40cd6325-a402-40b5-b801-a745602954b9",
   "metadata": {
    "tags": []
   },
   "outputs": [],
   "source": [
    "from sklearn.neighbors import NearestNeighbors\n",
    "\n",
    "#Drop None values from the data\n",
    "Amounts_OA = Public_Rec[['analytics_matchkey','amount']].dropna()  \n",
    "\n",
    "nbr = NearestNeighbors(n_neighbors = 4)\n",
    "nbr.fit(Amounts_OA.values) \n",
    "\n",
    "distances, indices = nbr.kneighbors(Amounts_OA.values)"
   ]
  },
  {
   "cell_type": "code",
   "execution_count": 61,
   "id": "0dee9462-6fce-4f77-b193-586531b3479e",
   "metadata": {
    "tags": []
   },
   "outputs": [
    {
     "data": {
      "image/png": "[encoded data removed]",
      "text/plain": [
       "<Figure size 720x360 with 1 Axes>"
      ]
     },
     "metadata": {},
     "output_type": "display_data"
    }
   ],
   "source": [
    "plt.figure(figsize = (10, 5)) \n",
    "plt.scatter(Amounts_OA.values[:,0], Amounts_OA.values[:,1])\n",
    "plt.xlabel('analytics_matchkey') \n",
    "plt.ylabel('amount($)')\n",
    "plt.show()"
   ]
  },
  {
   "cell_type": "code",
   "execution_count": 62,
   "id": "62194560-a096-439e-9c64-198bf6e3b871",
   "metadata": {
    "tags": []
   },
   "outputs": [
    {
     "data": {
      "image/png": "[encoded data removed]",
      "text/plain": [
       "<Figure size 720x360 with 1 Axes>"
      ]
     },
     "metadata": {},
     "output_type": "display_data"
    }
   ],
   "source": [
    "plt.figure(figsize = (10, 5)) \n",
    "plt.plot(distances.mean(axis = 1))\n",
    "plt.xlabel('number')\n",
    "plt.ylabel('mean k-distances') \n",
    "plt.show()"
   ]
  },
  {
   "cell_type": "code",
   "execution_count": 63,
   "id": "98843ed6-bd61-444f-8891-82a900fbe1f0",
   "metadata": {
    "tags": []
   },
   "outputs": [],
   "source": [
    "#I shall define a cut-off distance to isolate outliers \n",
    "d_critical = 2.5e5\n",
    "anomaly_index = np.where(distances.mean(axis = 1) > d_critical)\n",
    "anomaly_index = anomaly_index[0]"
   ]
  },
  {
   "cell_type": "code",
   "execution_count": 64,
   "id": "3f872e94-b4ee-4057-baf2-a182e0431b84",
   "metadata": {
    "tags": []
   },
   "outputs": [
    {
     "data": {
      "text/plain": [
       "Text(0, 0.5, 'amount($)')"
      ]
     },
     "execution_count": 64,
     "metadata": {},
     "output_type": "execute_result"
    },
    {
     "data": {
      "image/png": "[encoded data removed]",
      "text/plain": [
       "<Figure size 720x360 with 1 Axes>"
      ]
     },
     "metadata": {},
     "output_type": "display_data"
    }
   ],
   "source": [
    "plt.figure(figsize = (10, 5)) \n",
    "plt.scatter(Amounts_OA.values[:,0], Amounts_OA.values[:,1])\n",
    "plt.scatter(Amounts_OA.values[anomaly_index,0], Amounts_OA.values[anomaly_index,1], edgecolors = 'r')\n",
    "plt.xlabel('analytics_matchkey') \n",
    "plt.ylabel('amount($)')"
   ]
  },
  {
   "cell_type": "markdown",
   "id": "357f1dc1-3649-4fa8-a7d8-211ebb3fbc22",
   "metadata": {},
   "source": [
    "Let's see the detected outliers on the dataframe."
   ]
  },
  {
   "cell_type": "code",
   "execution_count": 65,
   "id": "e00bd2dc-f549-4d80-bcb6-49a0be714bd9",
   "metadata": {
    "tags": []
   },
   "outputs": [
    {
     "data": {
      "text/html": [
       "<div>\n",
       "<style scoped>\n",
       "    .dataframe tbody tr th:only-of-type {\n",
       "        vertical-align: middle;\n",
       "    }\n",
       "\n",
       "    .dataframe tbody tr th {\n",
       "        vertical-align: top;\n",
       "    }\n",
       "\n",
       "    .dataframe thead th {\n",
       "        text-align: right;\n",
       "    }\n",
       "</style>\n",
       "<table border=\"1\" class=\"dataframe\">\n",
       "  <thead>\n",
       "    <tr style=\"text-align: right;\">\n",
       "      <th></th>\n",
       "      <th>analytics_matchkey</th>\n",
       "      <th>industry_code_kind_of_business</th>\n",
       "      <th>reporting_subscriber_code</th>\n",
       "      <th>public_record_type_code</th>\n",
       "      <th>effective_date_date_verified</th>\n",
       "      <th>filed_date</th>\n",
       "      <th>paid_date</th>\n",
       "      <th>amount</th>\n",
       "      <th>public_record_source_type_code</th>\n",
       "      <th>equal_credit_opportunity_act_code</th>\n",
       "      <th>legislative_prohibited_code</th>\n",
       "      <th>plaintiff_name</th>\n",
       "      <th>attorney_name</th>\n",
       "      <th>docket_number</th>\n",
       "      <th>days_to_pay</th>\n",
       "    </tr>\n",
       "  </thead>\n",
       "  <tbody>\n",
       "    <tr>\n",
       "      <th>35356</th>\n",
       "      <td>1451690</td>\n",
       "      <td>Z</td>\n",
       "      <td>11J</td>\n",
       "      <td>SL</td>\n",
       "      <td>2014-10-01</td>\n",
       "      <td>2014-09-17</td>\n",
       "      <td>NaT</td>\n",
       "      <td>2957.000</td>\n",
       "      <td>RD</td>\n",
       "      <td>I</td>\n",
       "      <td>1</td>\n",
       "      <td>NaN</td>\n",
       "      <td>NaN</td>\n",
       "      <td>NaN</td>\n",
       "      <td>NaN</td>\n",
       "    </tr>\n",
       "    <tr>\n",
       "      <th>35357</th>\n",
       "      <td>1451690</td>\n",
       "      <td>Z</td>\n",
       "      <td>11J</td>\n",
       "      <td>PF</td>\n",
       "      <td>2013-12-18</td>\n",
       "      <td>2010-11-15</td>\n",
       "      <td>2013-12-04</td>\n",
       "      <td>16153.000</td>\n",
       "      <td>RD</td>\n",
       "      <td>I</td>\n",
       "      <td>1</td>\n",
       "      <td>NaN</td>\n",
       "      <td>NaN</td>\n",
       "      <td>NaN</td>\n",
       "      <td>1115.000</td>\n",
       "    </tr>\n",
       "    <tr>\n",
       "      <th>35358</th>\n",
       "      <td>1451690</td>\n",
       "      <td>Z</td>\n",
       "      <td>11J</td>\n",
       "      <td>PF</td>\n",
       "      <td>2012-03-06</td>\n",
       "      <td>2009-09-24</td>\n",
       "      <td>2012-02-28</td>\n",
       "      <td>9999999.000</td>\n",
       "      <td>RD</td>\n",
       "      <td>I</td>\n",
       "      <td>1</td>\n",
       "      <td>NaN</td>\n",
       "      <td>NaN</td>\n",
       "      <td>NaN</td>\n",
       "      <td>887.000</td>\n",
       "    </tr>\n",
       "    <tr>\n",
       "      <th>82904</th>\n",
       "      <td>1591558</td>\n",
       "      <td>ZP</td>\n",
       "      <td>447</td>\n",
       "      <td>PF</td>\n",
       "      <td>2007-04-11</td>\n",
       "      <td>2007-04-11</td>\n",
       "      <td>2010-07-01</td>\n",
       "      <td>1912871.000</td>\n",
       "      <td>RD</td>\n",
       "      <td>I</td>\n",
       "      <td>1</td>\n",
       "      <td>NaN</td>\n",
       "      <td>NaN</td>\n",
       "      <td>NaN</td>\n",
       "      <td>1177.000</td>\n",
       "    </tr>\n",
       "    <tr>\n",
       "      <th>126487</th>\n",
       "      <td>1721497</td>\n",
       "      <td>ZP</td>\n",
       "      <td>381</td>\n",
       "      <td>CJ</td>\n",
       "      <td>2014-09-23</td>\n",
       "      <td>2014-09-16</td>\n",
       "      <td>NaT</td>\n",
       "      <td>9040.000</td>\n",
       "      <td>CI</td>\n",
       "      <td>I</td>\n",
       "      <td>1</td>\n",
       "      <td>NaN</td>\n",
       "      <td>NaN</td>\n",
       "      <td>NaN</td>\n",
       "      <td>NaN</td>\n",
       "    </tr>\n",
       "  </tbody>\n",
       "</table>\n",
       "</div>"
      ],
      "text/plain": [
       "        analytics_matchkey industry_code_kind_of_business  \\\n",
       "35356              1451690                              Z   \n",
       "35357              1451690                              Z   \n",
       "35358              1451690                              Z   \n",
       "82904              1591558                             ZP   \n",
       "126487             1721497                             ZP   \n",
       "\n",
       "       reporting_subscriber_code public_record_type_code  \\\n",
       "35356                        11J                      SL   \n",
       "35357                        11J                      PF   \n",
       "35358                        11J                      PF   \n",
       "82904                        447                      PF   \n",
       "126487                       381                      CJ   \n",
       "\n",
       "       effective_date_date_verified filed_date  paid_date      amount  \\\n",
       "35356                    2014-10-01 2014-09-17        NaT    2957.000   \n",
       "35357                    2013-12-18 2010-11-15 2013-12-04   16153.000   \n",
       "35358                    2012-03-06 2009-09-24 2012-02-28 9999999.000   \n",
       "82904                    2007-04-11 2007-04-11 2010-07-01 1912871.000   \n",
       "126487                   2014-09-23 2014-09-16        NaT    9040.000   \n",
       "\n",
       "       public_record_source_type_code equal_credit_opportunity_act_code  \\\n",
       "35356                              RD                                 I   \n",
       "35357                              RD                                 I   \n",
       "35358                              RD                                 I   \n",
       "82904                              RD                                 I   \n",
       "126487                             CI                                 I   \n",
       "\n",
       "        legislative_prohibited_code  plaintiff_name  attorney_name  \\\n",
       "35356                             1             NaN            NaN   \n",
       "35357                             1             NaN            NaN   \n",
       "35358                             1             NaN            NaN   \n",
       "82904                             1             NaN            NaN   \n",
       "126487                            1             NaN            NaN   \n",
       "\n",
       "        docket_number  days_to_pay  \n",
       "35356             NaN          NaN  \n",
       "35357             NaN     1115.000  \n",
       "35358             NaN      887.000  \n",
       "82904             NaN     1177.000  \n",
       "126487            NaN          NaN  "
      ]
     },
     "execution_count": 65,
     "metadata": {},
     "output_type": "execute_result"
    }
   ],
   "source": [
    "anomaly_matchkey = (Amounts_OA.values[anomaly_index,0]).astype(int)\n",
    "#Select outliers\n",
    "Public_Rec[Public_Rec['analytics_matchkey'].apply(lambda x: np.any(x == anomaly_matchkey))].head(5)"
   ]
  },
  {
   "cell_type": "markdown",
   "id": "302ccc3d-3f0c-47ba-9d6a-b7e2a6302020",
   "metadata": {},
   "source": [
    "The aggregate amount of debt per debtor might be a more robust metric to target the outliers, as shown below."
   ]
  },
  {
   "cell_type": "code",
   "execution_count": 66,
   "id": "96b69735-a427-406f-bd11-46427437710d",
   "metadata": {
    "tags": []
   },
   "outputs": [],
   "source": [
    "Amount_per_debtor = Public_Rec.groupby(['analytics_matchkey'])['amount'].sum()"
   ]
  },
  {
   "cell_type": "code",
   "execution_count": 67,
   "id": "d4f633ed-903b-43c8-9711-16e790592a16",
   "metadata": {
    "tags": []
   },
   "outputs": [
    {
     "data": {
      "image/png": "[encoded data removed]",
      "text/plain": [
       "<Figure size 720x360 with 1 Axes>"
      ]
     },
     "metadata": {},
     "output_type": "display_data"
    }
   ],
   "source": [
    "plt.figure(figsize = (10, 5)) \n",
    "plt.scatter(Amount_per_debtor.index, Amount_per_debtor.values)\n",
    "plt.xlabel('analytics_matchkey') \n",
    "plt.ylabel('amount($)')\n",
    "plt.show()"
   ]
  },
  {
   "cell_type": "code",
   "execution_count": 68,
   "id": "ed4aa01b-c1bb-4b3d-8122-2f89e0880db5",
   "metadata": {
    "tags": []
   },
   "outputs": [],
   "source": [
    "Amount_per_debtor = Amount_per_debtor.reset_index()"
   ]
  },
  {
   "cell_type": "code",
   "execution_count": 69,
   "id": "7d00cda3-d10a-4f84-902d-143fbd8e6e33",
   "metadata": {
    "tags": []
   },
   "outputs": [],
   "source": [
    "#Find the outliers\n",
    "nbr.fit(Amount_per_debtor.values)\n",
    "\n",
    "distances_new, indices_new = nbr.kneighbors(Amount_per_debtor.values)"
   ]
  },
  {
   "cell_type": "code",
   "execution_count": 70,
   "id": "98d79ea5-3c72-409a-b519-8be554c58a83",
   "metadata": {
    "tags": []
   },
   "outputs": [],
   "source": [
    "anomaly_index_per_ind = np.where(distances_new.mean(axis = 1) > 2.5e5)\n",
    "anomaly_index_per_ind = anomaly_index_per_ind[0]"
   ]
  },
  {
   "cell_type": "code",
   "execution_count": 71,
   "id": "a94e46e0-2e70-4448-9238-39a247daf7e3",
   "metadata": {
    "tags": []
   },
   "outputs": [
    {
     "data": {
      "image/png": "[encoded data removed]",
      "text/plain": [
       "<Figure size 720x360 with 1 Axes>"
      ]
     },
     "metadata": {},
     "output_type": "display_data"
    }
   ],
   "source": [
    "plt.figure(figsize = (10, 5)) \n",
    "plt.scatter(Amount_per_debtor.values[:,0], Amount_per_debtor.values[:,1])\n",
    "plt.scatter(Amount_per_debtor.values[anomaly_index_per_ind,0], Amount_per_debtor.values[anomaly_index_per_ind,1], edgecolors = 'r')\n",
    "plt.xlabel('analytics_matchkey') \n",
    "plt.ylabel('amount($)')\n",
    "plt.show()"
   ]
  },
  {
   "cell_type": "code",
   "execution_count": 72,
   "id": "00304023-33c6-498d-9bb7-1a32e23df5d2",
   "metadata": {
    "tags": []
   },
   "outputs": [],
   "source": [
    "#Select the outliers in the public records dataframe\n",
    "anomaly_matchkey = (Amount_per_debtor.values[anomaly_index_per_ind,0]).astype(int)\n",
    "abnormal_debtors = Public_Rec[Public_Rec['analytics_matchkey'].apply(lambda x: np.any(x == anomaly_matchkey))]"
   ]
  },
  {
   "cell_type": "code",
   "execution_count": 73,
   "id": "0ffc710f-abe5-48c0-b872-a74bd743c364",
   "metadata": {
    "tags": []
   },
   "outputs": [],
   "source": [
    "#The total amount of debt per individual as an outlier\n",
    "outliers = abnormal_debtors.groupby('analytics_matchkey')['amount'].sum()\n",
    "outliers.sort_values(ascending = False, inplace = True) #Sort by the amount of debt "
   ]
  },
  {
   "cell_type": "code",
   "execution_count": 74,
   "id": "cf11a2b0-11e0-4486-ad43-4092ea3e4933",
   "metadata": {
    "tags": []
   },
   "outputs": [
    {
     "data": {
      "text/plain": [
       "analytics_matchkey\n",
       "1898185   10051826.000\n",
       "1451690   10019109.000\n",
       "1739808    3297171.000\n",
       "1721497    2727464.000\n",
       "1772271    2195541.000\n",
       "Name: amount, dtype: float64"
      ]
     },
     "execution_count": 74,
     "metadata": {},
     "output_type": "execute_result"
    }
   ],
   "source": [
    "outliers.head()"
   ]
  },
  {
   "cell_type": "markdown",
   "id": "e970893f-632e-4a75-abbd-bfbdbe2a6569",
   "metadata": {
    "tags": []
   },
   "source": [
    "We shall check the individuals with largest debt and see if there are any peculiarities about their records."
   ]
  },
  {
   "cell_type": "code",
   "execution_count": 75,
   "id": "9e385733-23ca-4c35-92e8-dee1344aa410",
   "metadata": {
    "tags": []
   },
   "outputs": [
    {
     "data": {
      "text/html": [
       "<div>\n",
       "<style scoped>\n",
       "    .dataframe tbody tr th:only-of-type {\n",
       "        vertical-align: middle;\n",
       "    }\n",
       "\n",
       "    .dataframe tbody tr th {\n",
       "        vertical-align: top;\n",
       "    }\n",
       "\n",
       "    .dataframe thead th {\n",
       "        text-align: right;\n",
       "    }\n",
       "</style>\n",
       "<table border=\"1\" class=\"dataframe\">\n",
       "  <thead>\n",
       "    <tr style=\"text-align: right;\">\n",
       "      <th></th>\n",
       "      <th>analytics_matchkey</th>\n",
       "      <th>industry_code_kind_of_business</th>\n",
       "      <th>reporting_subscriber_code</th>\n",
       "      <th>public_record_type_code</th>\n",
       "      <th>effective_date_date_verified</th>\n",
       "      <th>filed_date</th>\n",
       "      <th>paid_date</th>\n",
       "      <th>amount</th>\n",
       "      <th>public_record_source_type_code</th>\n",
       "      <th>equal_credit_opportunity_act_code</th>\n",
       "      <th>legislative_prohibited_code</th>\n",
       "      <th>plaintiff_name</th>\n",
       "      <th>attorney_name</th>\n",
       "      <th>docket_number</th>\n",
       "      <th>days_to_pay</th>\n",
       "    </tr>\n",
       "  </thead>\n",
       "  <tbody>\n",
       "    <tr>\n",
       "      <th>186711</th>\n",
       "      <td>1898185</td>\n",
       "      <td>Z</td>\n",
       "      <td>191</td>\n",
       "      <td>CJ</td>\n",
       "      <td>2013-02-26</td>\n",
       "      <td>2012-12-14</td>\n",
       "      <td>NaT</td>\n",
       "      <td>4258.000</td>\n",
       "      <td>CI</td>\n",
       "      <td>C</td>\n",
       "      <td>1</td>\n",
       "      <td>NaN</td>\n",
       "      <td>NaN</td>\n",
       "      <td>NaN</td>\n",
       "      <td>NaN</td>\n",
       "    </tr>\n",
       "    <tr>\n",
       "      <th>186712</th>\n",
       "      <td>1898185</td>\n",
       "      <td>Z</td>\n",
       "      <td>191</td>\n",
       "      <td>PC</td>\n",
       "      <td>2016-02-09</td>\n",
       "      <td>2012-06-19</td>\n",
       "      <td>2013-03-20</td>\n",
       "      <td>8482.000</td>\n",
       "      <td>CI</td>\n",
       "      <td>C</td>\n",
       "      <td>1</td>\n",
       "      <td>NaN</td>\n",
       "      <td>NaN</td>\n",
       "      <td>NaN</td>\n",
       "      <td>274.000</td>\n",
       "    </tr>\n",
       "    <tr>\n",
       "      <th>186713</th>\n",
       "      <td>1898185</td>\n",
       "      <td>ZP</td>\n",
       "      <td>173</td>\n",
       "      <td>CJ</td>\n",
       "      <td>2011-09-16</td>\n",
       "      <td>2011-04-18</td>\n",
       "      <td>NaT</td>\n",
       "      <td>23731.000</td>\n",
       "      <td>CI</td>\n",
       "      <td>I</td>\n",
       "      <td>1</td>\n",
       "      <td>NaN</td>\n",
       "      <td>NaN</td>\n",
       "      <td>NaN</td>\n",
       "      <td>NaN</td>\n",
       "    </tr>\n",
       "    <tr>\n",
       "      <th>186714</th>\n",
       "      <td>1898185</td>\n",
       "      <td>ZP</td>\n",
       "      <td>141</td>\n",
       "      <td>RL</td>\n",
       "      <td>2010-07-09</td>\n",
       "      <td>2009-12-28</td>\n",
       "      <td>2010-06-25</td>\n",
       "      <td>9999999.000</td>\n",
       "      <td>RD</td>\n",
       "      <td>I</td>\n",
       "      <td>1</td>\n",
       "      <td>NaN</td>\n",
       "      <td>NaN</td>\n",
       "      <td>NaN</td>\n",
       "      <td>179.000</td>\n",
       "    </tr>\n",
       "    <tr>\n",
       "      <th>186715</th>\n",
       "      <td>1898185</td>\n",
       "      <td>ZP</td>\n",
       "      <td>173</td>\n",
       "      <td>RL</td>\n",
       "      <td>2013-05-09</td>\n",
       "      <td>2008-08-18</td>\n",
       "      <td>2013-05-02</td>\n",
       "      <td>15356.000</td>\n",
       "      <td>RD</td>\n",
       "      <td>C</td>\n",
       "      <td>1</td>\n",
       "      <td>NaN</td>\n",
       "      <td>NaN</td>\n",
       "      <td>NaN</td>\n",
       "      <td>1718.000</td>\n",
       "    </tr>\n",
       "  </tbody>\n",
       "</table>\n",
       "</div>"
      ],
      "text/plain": [
       "        analytics_matchkey industry_code_kind_of_business  \\\n",
       "186711             1898185                              Z   \n",
       "186712             1898185                              Z   \n",
       "186713             1898185                             ZP   \n",
       "186714             1898185                             ZP   \n",
       "186715             1898185                             ZP   \n",
       "\n",
       "       reporting_subscriber_code public_record_type_code  \\\n",
       "186711                       191                      CJ   \n",
       "186712                       191                      PC   \n",
       "186713                       173                      CJ   \n",
       "186714                       141                      RL   \n",
       "186715                       173                      RL   \n",
       "\n",
       "       effective_date_date_verified filed_date  paid_date      amount  \\\n",
       "186711                   2013-02-26 2012-12-14        NaT    4258.000   \n",
       "186712                   2016-02-09 2012-06-19 2013-03-20    8482.000   \n",
       "186713                   2011-09-16 2011-04-18        NaT   23731.000   \n",
       "186714                   2010-07-09 2009-12-28 2010-06-25 9999999.000   \n",
       "186715                   2013-05-09 2008-08-18 2013-05-02   15356.000   \n",
       "\n",
       "       public_record_source_type_code equal_credit_opportunity_act_code  \\\n",
       "186711                             CI                                 C   \n",
       "186712                             CI                                 C   \n",
       "186713                             CI                                 I   \n",
       "186714                             RD                                 I   \n",
       "186715                             RD                                 C   \n",
       "\n",
       "        legislative_prohibited_code  plaintiff_name  attorney_name  \\\n",
       "186711                            1             NaN            NaN   \n",
       "186712                            1             NaN            NaN   \n",
       "186713                            1             NaN            NaN   \n",
       "186714                            1             NaN            NaN   \n",
       "186715                            1             NaN            NaN   \n",
       "\n",
       "        docket_number  days_to_pay  \n",
       "186711            NaN          NaN  \n",
       "186712            NaN      274.000  \n",
       "186713            NaN          NaN  \n",
       "186714            NaN      179.000  \n",
       "186715            NaN     1718.000  "
      ]
     },
     "execution_count": 75,
     "metadata": {},
     "output_type": "execute_result"
    }
   ],
   "source": [
    "Public_Rec[Public_Rec['analytics_matchkey'] == outliers.index[0]].head()"
   ]
  },
  {
   "cell_type": "markdown",
   "id": "1a51c334-23b3-45eb-9c54-2877181a46a7",
   "metadata": {},
   "source": [
    "This individual (1898185) seems to take an order of magnitude longer to pay <span class=\"tex2jax_ignore\">$15k than $10M</span> (see the days_to_pay column above). Likely, the amount shown on the record filed 2009-12-28 is erroneous. We should discard the two extreme values before feeding the data into the model we shall construct. "
   ]
  },
  {
   "cell_type": "markdown",
   "id": "f33fb3c8-4efb-41dd-b84a-6ee0d6e9eb4d",
   "metadata": {},
   "source": [
    "### Encoding and Feature selection \n",
    "The pre-processing should begin with discarding the irrelevant and incomplete columns out of the public records dataframe."
   ]
  },
  {
   "cell_type": "code",
   "execution_count": 76,
   "id": "d2443033-43a8-4ec9-b36c-75d5917ef052",
   "metadata": {
    "tags": []
   },
   "outputs": [],
   "source": [
    "Public_Rec_subset = Public_Rec.loc[:,('analytics_matchkey',\n",
    "                                'industry_code_kind_of_business',\n",
    "                                'public_record_type_code',\n",
    "                                'public_record_source_type_code',\n",
    "                                'equal_credit_opportunity_act_code',\n",
    "                                'legislative_prohibited_code',\n",
    "                                'amount',\n",
    "                                'days_to_pay'\n",
    "                                     )]"
   ]
  },
  {
   "cell_type": "code",
   "execution_count": 77,
   "id": "9a23fda3-5402-49db-b666-3ec5e7aef722",
   "metadata": {
    "tags": []
   },
   "outputs": [
    {
     "data": {
      "text/plain": [
       "analytics_matchkey                     int64\n",
       "industry_code_kind_of_business        object\n",
       "public_record_type_code               object\n",
       "public_record_source_type_code        object\n",
       "equal_credit_opportunity_act_code     object\n",
       "legislative_prohibited_code            int64\n",
       "amount                               float64\n",
       "days_to_pay                          float64\n",
       "dtype: object"
      ]
     },
     "execution_count": 77,
     "metadata": {},
     "output_type": "execute_result"
    }
   ],
   "source": [
    "Public_Rec_subset.dtypes"
   ]
  },
  {
   "cell_type": "markdown",
   "id": "6143af09-a939-4617-8a7b-1debcd01cc7d",
   "metadata": {},
   "source": [
    "We must encode the object type of data before fitting the model on them. The options for classifier data are, \n",
    "- Basic label encoder\n",
    "- Ordinal encoder \n",
    "- One-hot encoder \n",
    "If we follow the one-hot encoding approach, the problems such as curse of dimensionality and multicolinearity may occur. We could end up with the dummy variable trap. \n",
    "\n",
    "The basic label encoder might be a good starting point. We shall first identify categorical features and then label-encode each. "
   ]
  },
  {
   "cell_type": "code",
   "execution_count": 78,
   "id": "9693235a-28d9-4089-97b8-c04b203cf181",
   "metadata": {
    "tags": []
   },
   "outputs": [
    {
     "name": "stdout",
     "output_type": "stream",
     "text": [
      "industry_code_kind_of_business: [1 0]\n",
      "public_record_type_code: [13 11 20 19 17 12 16  8  6 18 15 10  9  7 22 14  1  0 21  2  5  4  3]\n",
      "public_record_source_type_code: [ 4 12 17 15  1 18 19  8  3 13 14  9 11  5 10 20  2  6  7  0 16]\n",
      "equal_credit_opportunity_act_code: [1 0]\n"
     ]
    }
   ],
   "source": [
    "from sklearn import preprocessing\n",
    "\n",
    "for col in Public_Rec_subset.select_dtypes(include = ['object']).columns:\n",
    "    encoder = preprocessing.LabelEncoder() \n",
    "    \n",
    "    #Fit the object data \n",
    "    encoder.fit(Public_Rec_subset.loc[:,(col)].unique())\n",
    "    \n",
    "    #Transform data and insert into the existing Public Record table (you could've used .fit_transform attribute)\n",
    "    Public_Rec_subset[col] = encoder.transform(Public_Rec_subset.loc[:,(col)])\n",
    "    \n",
    "    #Print out the new labels \n",
    "    print(f\"{col}: {Public_Rec_subset.loc[:,(col)].unique()}\")"
   ]
  },
  {
   "cell_type": "markdown",
   "id": "ef30e530-5c21-42dd-9e84-72433accad3d",
   "metadata": {},
   "source": [
    "Next, we calculate the correlation matrix of all features to see how features are coupling. "
   ]
  },
  {
   "cell_type": "code",
   "execution_count": 79,
   "id": "f28e187a-ccdd-4728-b546-740a48ea69ac",
   "metadata": {
    "tags": []
   },
   "outputs": [
    {
     "data": {
      "image/png": "[encoded data removed]",
      "text/plain": [
       "<Figure size 1080x648 with 2 Axes>"
      ]
     },
     "metadata": {},
     "output_type": "display_data"
    }
   ],
   "source": [
    "plt.figure(figsize = (15, 9)) \n",
    "sns.heatmap(Public_Rec_subset.corr(), fmt = '.2g', annot = True)\n",
    "plt.show()"
   ]
  },
  {
   "cell_type": "markdown",
   "id": "b3d317a8-44a0-4682-bdd5-90904c471f10",
   "metadata": {},
   "source": [
    "Pearson correlation doesn't show any strong signal, as most of these features are categorical.\n",
    "\n",
    "Now, we can select features based on their k-highest scores. For that, we will measure ANOVA-F through f_classif()."
   ]
  },
  {
   "cell_type": "markdown",
   "id": "4c8f724b-d396-4692-be27-d39724ce7624",
   "metadata": {},
   "source": [
    "First, we shall join loan performance table with public records to match unique identifier of each customer and slice the labels out from loan performances."
   ]
  },
  {
   "cell_type": "code",
   "execution_count": 80,
   "id": "04dd5301-855d-49fe-8224-89e52d834774",
   "metadata": {
    "tags": []
   },
   "outputs": [],
   "source": [
    "#Join two tables for labeling \n",
    "\n",
    "final_table = pd.merge(Public_Rec_subset, Loan_Data, on = 'analytics_matchkey', how = 'inner')"
   ]
  },
  {
   "cell_type": "code",
   "execution_count": 81,
   "id": "9cdcdce6-c085-4238-9258-7ac9a30a132f",
   "metadata": {
    "tags": []
   },
   "outputs": [
    {
     "data": {
      "text/html": [
       "<div>\n",
       "<style scoped>\n",
       "    .dataframe tbody tr th:only-of-type {\n",
       "        vertical-align: middle;\n",
       "    }\n",
       "\n",
       "    .dataframe tbody tr th {\n",
       "        vertical-align: top;\n",
       "    }\n",
       "\n",
       "    .dataframe thead th {\n",
       "        text-align: right;\n",
       "    }\n",
       "</style>\n",
       "<table border=\"1\" class=\"dataframe\">\n",
       "  <thead>\n",
       "    <tr style=\"text-align: right;\">\n",
       "      <th></th>\n",
       "      <th>analytics_matchkey</th>\n",
       "      <th>industry_code_kind_of_business</th>\n",
       "      <th>public_record_type_code</th>\n",
       "      <th>public_record_source_type_code</th>\n",
       "      <th>equal_credit_opportunity_act_code</th>\n",
       "      <th>legislative_prohibited_code</th>\n",
       "      <th>amount</th>\n",
       "      <th>days_to_pay</th>\n",
       "      <th>max_loan_amount</th>\n",
       "      <th>late_30_days</th>\n",
       "      <th>late_60_days</th>\n",
       "      <th>late_90_days</th>\n",
       "    </tr>\n",
       "  </thead>\n",
       "  <tbody>\n",
       "    <tr>\n",
       "      <th>0</th>\n",
       "      <td>1346747</td>\n",
       "      <td>1</td>\n",
       "      <td>13</td>\n",
       "      <td>4</td>\n",
       "      <td>1</td>\n",
       "      <td>1</td>\n",
       "      <td>1209.000</td>\n",
       "      <td>NaN</td>\n",
       "      <td>1002</td>\n",
       "      <td>False</td>\n",
       "      <td>False</td>\n",
       "      <td>False</td>\n",
       "    </tr>\n",
       "    <tr>\n",
       "      <th>1</th>\n",
       "      <td>1346748</td>\n",
       "      <td>1</td>\n",
       "      <td>11</td>\n",
       "      <td>12</td>\n",
       "      <td>1</td>\n",
       "      <td>1</td>\n",
       "      <td>NaN</td>\n",
       "      <td>141.000</td>\n",
       "      <td>1500</td>\n",
       "      <td>False</td>\n",
       "      <td>False</td>\n",
       "      <td>False</td>\n",
       "    </tr>\n",
       "    <tr>\n",
       "      <th>2</th>\n",
       "      <td>1346754</td>\n",
       "      <td>0</td>\n",
       "      <td>20</td>\n",
       "      <td>17</td>\n",
       "      <td>1</td>\n",
       "      <td>1</td>\n",
       "      <td>2248.000</td>\n",
       "      <td>NaN</td>\n",
       "      <td>1025</td>\n",
       "      <td>False</td>\n",
       "      <td>False</td>\n",
       "      <td>False</td>\n",
       "    </tr>\n",
       "    <tr>\n",
       "      <th>3</th>\n",
       "      <td>1346754</td>\n",
       "      <td>1</td>\n",
       "      <td>11</td>\n",
       "      <td>12</td>\n",
       "      <td>0</td>\n",
       "      <td>1</td>\n",
       "      <td>NaN</td>\n",
       "      <td>122.000</td>\n",
       "      <td>1025</td>\n",
       "      <td>False</td>\n",
       "      <td>False</td>\n",
       "      <td>False</td>\n",
       "    </tr>\n",
       "    <tr>\n",
       "      <th>4</th>\n",
       "      <td>1346756</td>\n",
       "      <td>1</td>\n",
       "      <td>19</td>\n",
       "      <td>17</td>\n",
       "      <td>1</td>\n",
       "      <td>1</td>\n",
       "      <td>406.000</td>\n",
       "      <td>2737.000</td>\n",
       "      <td>2500</td>\n",
       "      <td>False</td>\n",
       "      <td>False</td>\n",
       "      <td>False</td>\n",
       "    </tr>\n",
       "  </tbody>\n",
       "</table>\n",
       "</div>"
      ],
      "text/plain": [
       "   analytics_matchkey  industry_code_kind_of_business  \\\n",
       "0             1346747                               1   \n",
       "1             1346748                               1   \n",
       "2             1346754                               0   \n",
       "3             1346754                               1   \n",
       "4             1346756                               1   \n",
       "\n",
       "   public_record_type_code  public_record_source_type_code  \\\n",
       "0                       13                               4   \n",
       "1                       11                              12   \n",
       "2                       20                              17   \n",
       "3                       11                              12   \n",
       "4                       19                              17   \n",
       "\n",
       "   equal_credit_opportunity_act_code  legislative_prohibited_code   amount  \\\n",
       "0                                  1                            1 1209.000   \n",
       "1                                  1                            1      NaN   \n",
       "2                                  1                            1 2248.000   \n",
       "3                                  0                            1      NaN   \n",
       "4                                  1                            1  406.000   \n",
       "\n",
       "   days_to_pay  max_loan_amount  late_30_days  late_60_days  late_90_days  \n",
       "0          NaN             1002         False         False         False  \n",
       "1      141.000             1500         False         False         False  \n",
       "2          NaN             1025         False         False         False  \n",
       "3      122.000             1025         False         False         False  \n",
       "4     2737.000             2500         False         False         False  "
      ]
     },
     "execution_count": 81,
     "metadata": {},
     "output_type": "execute_result"
    }
   ],
   "source": [
    "final_table.head()"
   ]
  },
  {
   "cell_type": "code",
   "execution_count": 82,
   "id": "f85a7d15-f5dc-442c-a4f3-dfeebb22bf93",
   "metadata": {
    "tags": []
   },
   "outputs": [
    {
     "data": {
      "text/html": [
       "<div>\n",
       "<style scoped>\n",
       "    .dataframe tbody tr th:only-of-type {\n",
       "        vertical-align: middle;\n",
       "    }\n",
       "\n",
       "    .dataframe tbody tr th {\n",
       "        vertical-align: top;\n",
       "    }\n",
       "\n",
       "    .dataframe thead th {\n",
       "        text-align: right;\n",
       "    }\n",
       "</style>\n",
       "<table border=\"1\" class=\"dataframe\">\n",
       "  <thead>\n",
       "    <tr style=\"text-align: right;\">\n",
       "      <th></th>\n",
       "      <th>analytics_matchkey</th>\n",
       "      <th>industry_code_kind_of_business</th>\n",
       "      <th>public_record_type_code</th>\n",
       "      <th>public_record_source_type_code</th>\n",
       "      <th>equal_credit_opportunity_act_code</th>\n",
       "      <th>legislative_prohibited_code</th>\n",
       "      <th>amount</th>\n",
       "      <th>days_to_pay</th>\n",
       "      <th>max_loan_amount</th>\n",
       "      <th>late_30_days</th>\n",
       "      <th>late_60_days</th>\n",
       "      <th>late_90_days</th>\n",
       "    </tr>\n",
       "  </thead>\n",
       "  <tbody>\n",
       "    <tr>\n",
       "      <th>186711</th>\n",
       "      <td>1898185</td>\n",
       "      <td>0</td>\n",
       "      <td>13</td>\n",
       "      <td>4</td>\n",
       "      <td>0</td>\n",
       "      <td>1</td>\n",
       "      <td>4258.000</td>\n",
       "      <td>NaN</td>\n",
       "      <td>1400</td>\n",
       "      <td>True</td>\n",
       "      <td>True</td>\n",
       "      <td>True</td>\n",
       "    </tr>\n",
       "    <tr>\n",
       "      <th>186712</th>\n",
       "      <td>1898185</td>\n",
       "      <td>0</td>\n",
       "      <td>16</td>\n",
       "      <td>4</td>\n",
       "      <td>0</td>\n",
       "      <td>1</td>\n",
       "      <td>8482.000</td>\n",
       "      <td>274.000</td>\n",
       "      <td>1400</td>\n",
       "      <td>True</td>\n",
       "      <td>True</td>\n",
       "      <td>True</td>\n",
       "    </tr>\n",
       "    <tr>\n",
       "      <th>186713</th>\n",
       "      <td>1898185</td>\n",
       "      <td>1</td>\n",
       "      <td>13</td>\n",
       "      <td>4</td>\n",
       "      <td>1</td>\n",
       "      <td>1</td>\n",
       "      <td>23731.000</td>\n",
       "      <td>NaN</td>\n",
       "      <td>1400</td>\n",
       "      <td>True</td>\n",
       "      <td>True</td>\n",
       "      <td>True</td>\n",
       "    </tr>\n",
       "    <tr>\n",
       "      <th>186714</th>\n",
       "      <td>1898185</td>\n",
       "      <td>1</td>\n",
       "      <td>19</td>\n",
       "      <td>17</td>\n",
       "      <td>1</td>\n",
       "      <td>1</td>\n",
       "      <td>9999999.000</td>\n",
       "      <td>179.000</td>\n",
       "      <td>1400</td>\n",
       "      <td>True</td>\n",
       "      <td>True</td>\n",
       "      <td>True</td>\n",
       "    </tr>\n",
       "    <tr>\n",
       "      <th>186715</th>\n",
       "      <td>1898185</td>\n",
       "      <td>1</td>\n",
       "      <td>19</td>\n",
       "      <td>17</td>\n",
       "      <td>0</td>\n",
       "      <td>1</td>\n",
       "      <td>15356.000</td>\n",
       "      <td>1718.000</td>\n",
       "      <td>1400</td>\n",
       "      <td>True</td>\n",
       "      <td>True</td>\n",
       "      <td>True</td>\n",
       "    </tr>\n",
       "  </tbody>\n",
       "</table>\n",
       "</div>"
      ],
      "text/plain": [
       "        analytics_matchkey  industry_code_kind_of_business  \\\n",
       "186711             1898185                               0   \n",
       "186712             1898185                               0   \n",
       "186713             1898185                               1   \n",
       "186714             1898185                               1   \n",
       "186715             1898185                               1   \n",
       "\n",
       "        public_record_type_code  public_record_source_type_code  \\\n",
       "186711                       13                               4   \n",
       "186712                       16                               4   \n",
       "186713                       13                               4   \n",
       "186714                       19                              17   \n",
       "186715                       19                              17   \n",
       "\n",
       "        equal_credit_opportunity_act_code  legislative_prohibited_code  \\\n",
       "186711                                  0                            1   \n",
       "186712                                  0                            1   \n",
       "186713                                  1                            1   \n",
       "186714                                  1                            1   \n",
       "186715                                  0                            1   \n",
       "\n",
       "            amount  days_to_pay  max_loan_amount  late_30_days  late_60_days  \\\n",
       "186711    4258.000          NaN             1400          True          True   \n",
       "186712    8482.000      274.000             1400          True          True   \n",
       "186713   23731.000          NaN             1400          True          True   \n",
       "186714 9999999.000      179.000             1400          True          True   \n",
       "186715   15356.000     1718.000             1400          True          True   \n",
       "\n",
       "        late_90_days  \n",
       "186711          True  \n",
       "186712          True  \n",
       "186713          True  \n",
       "186714          True  \n",
       "186715          True  "
      ]
     },
     "execution_count": 82,
     "metadata": {},
     "output_type": "execute_result"
    }
   ],
   "source": [
    "#Remove two outliers detected above \n",
    "\n",
    "outlier_one = outliers.index[0]\n",
    "outlier_two = outliers.index[1]\n",
    "\n",
    "final_table[final_table['analytics_matchkey'] == outlier_one]"
   ]
  },
  {
   "cell_type": "code",
   "execution_count": 83,
   "id": "6d4e7c81-8036-4f66-ab79-85e785636fdc",
   "metadata": {
    "tags": []
   },
   "outputs": [],
   "source": [
    "final_table = final_table.drop(186714)"
   ]
  },
  {
   "cell_type": "code",
   "execution_count": 84,
   "id": "dc12e376-9250-473e-aa1c-fd9da1ec09cf",
   "metadata": {
    "tags": []
   },
   "outputs": [
    {
     "data": {
      "text/html": [
       "<div>\n",
       "<style scoped>\n",
       "    .dataframe tbody tr th:only-of-type {\n",
       "        vertical-align: middle;\n",
       "    }\n",
       "\n",
       "    .dataframe tbody tr th {\n",
       "        vertical-align: top;\n",
       "    }\n",
       "\n",
       "    .dataframe thead th {\n",
       "        text-align: right;\n",
       "    }\n",
       "</style>\n",
       "<table border=\"1\" class=\"dataframe\">\n",
       "  <thead>\n",
       "    <tr style=\"text-align: right;\">\n",
       "      <th></th>\n",
       "      <th>analytics_matchkey</th>\n",
       "      <th>industry_code_kind_of_business</th>\n",
       "      <th>public_record_type_code</th>\n",
       "      <th>public_record_source_type_code</th>\n",
       "      <th>equal_credit_opportunity_act_code</th>\n",
       "      <th>legislative_prohibited_code</th>\n",
       "      <th>amount</th>\n",
       "      <th>days_to_pay</th>\n",
       "      <th>max_loan_amount</th>\n",
       "      <th>late_30_days</th>\n",
       "      <th>late_60_days</th>\n",
       "      <th>late_90_days</th>\n",
       "    </tr>\n",
       "  </thead>\n",
       "  <tbody>\n",
       "    <tr>\n",
       "      <th>35356</th>\n",
       "      <td>1451690</td>\n",
       "      <td>0</td>\n",
       "      <td>20</td>\n",
       "      <td>17</td>\n",
       "      <td>1</td>\n",
       "      <td>1</td>\n",
       "      <td>2957.000</td>\n",
       "      <td>NaN</td>\n",
       "      <td>1325</td>\n",
       "      <td>False</td>\n",
       "      <td>False</td>\n",
       "      <td>False</td>\n",
       "    </tr>\n",
       "    <tr>\n",
       "      <th>35357</th>\n",
       "      <td>1451690</td>\n",
       "      <td>0</td>\n",
       "      <td>17</td>\n",
       "      <td>17</td>\n",
       "      <td>1</td>\n",
       "      <td>1</td>\n",
       "      <td>16153.000</td>\n",
       "      <td>1115.000</td>\n",
       "      <td>1325</td>\n",
       "      <td>False</td>\n",
       "      <td>False</td>\n",
       "      <td>False</td>\n",
       "    </tr>\n",
       "    <tr>\n",
       "      <th>35358</th>\n",
       "      <td>1451690</td>\n",
       "      <td>0</td>\n",
       "      <td>17</td>\n",
       "      <td>17</td>\n",
       "      <td>1</td>\n",
       "      <td>1</td>\n",
       "      <td>9999999.000</td>\n",
       "      <td>887.000</td>\n",
       "      <td>1325</td>\n",
       "      <td>False</td>\n",
       "      <td>False</td>\n",
       "      <td>False</td>\n",
       "    </tr>\n",
       "  </tbody>\n",
       "</table>\n",
       "</div>"
      ],
      "text/plain": [
       "       analytics_matchkey  industry_code_kind_of_business  \\\n",
       "35356             1451690                               0   \n",
       "35357             1451690                               0   \n",
       "35358             1451690                               0   \n",
       "\n",
       "       public_record_type_code  public_record_source_type_code  \\\n",
       "35356                       20                              17   \n",
       "35357                       17                              17   \n",
       "35358                       17                              17   \n",
       "\n",
       "       equal_credit_opportunity_act_code  legislative_prohibited_code  \\\n",
       "35356                                  1                            1   \n",
       "35357                                  1                            1   \n",
       "35358                                  1                            1   \n",
       "\n",
       "           amount  days_to_pay  max_loan_amount  late_30_days  late_60_days  \\\n",
       "35356    2957.000          NaN             1325         False         False   \n",
       "35357   16153.000     1115.000             1325         False         False   \n",
       "35358 9999999.000      887.000             1325         False         False   \n",
       "\n",
       "       late_90_days  \n",
       "35356         False  \n",
       "35357         False  \n",
       "35358         False  "
      ]
     },
     "execution_count": 84,
     "metadata": {},
     "output_type": "execute_result"
    }
   ],
   "source": [
    "final_table[final_table['analytics_matchkey'] == outlier_two]"
   ]
  },
  {
   "cell_type": "code",
   "execution_count": 85,
   "id": "3e9cd846-7b88-46dd-b8fd-fc16bb37d3f8",
   "metadata": {
    "tags": []
   },
   "outputs": [],
   "source": [
    "final_table = final_table.drop(35358)"
   ]
  },
  {
   "cell_type": "code",
   "execution_count": 86,
   "id": "4294a94e-9419-4ca4-87d7-51b3a631b39d",
   "metadata": {
    "tags": []
   },
   "outputs": [
    {
     "data": {
      "text/html": [
       "<div>\n",
       "<style scoped>\n",
       "    .dataframe tbody tr th:only-of-type {\n",
       "        vertical-align: middle;\n",
       "    }\n",
       "\n",
       "    .dataframe tbody tr th {\n",
       "        vertical-align: top;\n",
       "    }\n",
       "\n",
       "    .dataframe thead th {\n",
       "        text-align: right;\n",
       "    }\n",
       "</style>\n",
       "<table border=\"1\" class=\"dataframe\">\n",
       "  <thead>\n",
       "    <tr style=\"text-align: right;\">\n",
       "      <th></th>\n",
       "      <th>analytics_matchkey</th>\n",
       "      <th>industry_code_kind_of_business</th>\n",
       "      <th>public_record_type_code</th>\n",
       "      <th>public_record_source_type_code</th>\n",
       "      <th>equal_credit_opportunity_act_code</th>\n",
       "      <th>legislative_prohibited_code</th>\n",
       "      <th>amount</th>\n",
       "      <th>days_to_pay</th>\n",
       "      <th>max_loan_amount</th>\n",
       "      <th>late_30_days</th>\n",
       "      <th>late_60_days</th>\n",
       "      <th>late_90_days</th>\n",
       "    </tr>\n",
       "  </thead>\n",
       "  <tbody>\n",
       "    <tr>\n",
       "      <th>0</th>\n",
       "      <td>1346747</td>\n",
       "      <td>1</td>\n",
       "      <td>13</td>\n",
       "      <td>4</td>\n",
       "      <td>1</td>\n",
       "      <td>1</td>\n",
       "      <td>1209.000</td>\n",
       "      <td>NaN</td>\n",
       "      <td>1002</td>\n",
       "      <td>False</td>\n",
       "      <td>False</td>\n",
       "      <td>False</td>\n",
       "    </tr>\n",
       "    <tr>\n",
       "      <th>1</th>\n",
       "      <td>1346748</td>\n",
       "      <td>1</td>\n",
       "      <td>11</td>\n",
       "      <td>12</td>\n",
       "      <td>1</td>\n",
       "      <td>1</td>\n",
       "      <td>NaN</td>\n",
       "      <td>141.000</td>\n",
       "      <td>1500</td>\n",
       "      <td>False</td>\n",
       "      <td>False</td>\n",
       "      <td>False</td>\n",
       "    </tr>\n",
       "    <tr>\n",
       "      <th>2</th>\n",
       "      <td>1346754</td>\n",
       "      <td>0</td>\n",
       "      <td>20</td>\n",
       "      <td>17</td>\n",
       "      <td>1</td>\n",
       "      <td>1</td>\n",
       "      <td>2248.000</td>\n",
       "      <td>NaN</td>\n",
       "      <td>1025</td>\n",
       "      <td>False</td>\n",
       "      <td>False</td>\n",
       "      <td>False</td>\n",
       "    </tr>\n",
       "    <tr>\n",
       "      <th>3</th>\n",
       "      <td>1346754</td>\n",
       "      <td>1</td>\n",
       "      <td>11</td>\n",
       "      <td>12</td>\n",
       "      <td>0</td>\n",
       "      <td>1</td>\n",
       "      <td>NaN</td>\n",
       "      <td>122.000</td>\n",
       "      <td>1025</td>\n",
       "      <td>False</td>\n",
       "      <td>False</td>\n",
       "      <td>False</td>\n",
       "    </tr>\n",
       "    <tr>\n",
       "      <th>4</th>\n",
       "      <td>1346756</td>\n",
       "      <td>1</td>\n",
       "      <td>19</td>\n",
       "      <td>17</td>\n",
       "      <td>1</td>\n",
       "      <td>1</td>\n",
       "      <td>406.000</td>\n",
       "      <td>2737.000</td>\n",
       "      <td>2500</td>\n",
       "      <td>False</td>\n",
       "      <td>False</td>\n",
       "      <td>False</td>\n",
       "    </tr>\n",
       "  </tbody>\n",
       "</table>\n",
       "</div>"
      ],
      "text/plain": [
       "   analytics_matchkey  industry_code_kind_of_business  \\\n",
       "0             1346747                               1   \n",
       "1             1346748                               1   \n",
       "2             1346754                               0   \n",
       "3             1346754                               1   \n",
       "4             1346756                               1   \n",
       "\n",
       "   public_record_type_code  public_record_source_type_code  \\\n",
       "0                       13                               4   \n",
       "1                       11                              12   \n",
       "2                       20                              17   \n",
       "3                       11                              12   \n",
       "4                       19                              17   \n",
       "\n",
       "   equal_credit_opportunity_act_code  legislative_prohibited_code   amount  \\\n",
       "0                                  1                            1 1209.000   \n",
       "1                                  1                            1      NaN   \n",
       "2                                  1                            1 2248.000   \n",
       "3                                  0                            1      NaN   \n",
       "4                                  1                            1  406.000   \n",
       "\n",
       "   days_to_pay  max_loan_amount  late_30_days  late_60_days  late_90_days  \n",
       "0          NaN             1002         False         False         False  \n",
       "1      141.000             1500         False         False         False  \n",
       "2          NaN             1025         False         False         False  \n",
       "3      122.000             1025         False         False         False  \n",
       "4     2737.000             2500         False         False         False  "
      ]
     },
     "execution_count": 86,
     "metadata": {},
     "output_type": "execute_result"
    }
   ],
   "source": [
    "final_table.head()"
   ]
  },
  {
   "cell_type": "code",
   "execution_count": 87,
   "id": "f003c9d1-51cc-4d0d-86ff-619d67975f8c",
   "metadata": {
    "tags": []
   },
   "outputs": [],
   "source": [
    "final_table_temp = final_table.drop(['days_to_pay'], axis = 1 )"
   ]
  },
  {
   "cell_type": "code",
   "execution_count": 88,
   "id": "3217d0d4-658b-44b2-955a-fd752b99a2fa",
   "metadata": {
    "tags": []
   },
   "outputs": [],
   "source": [
    "final_table_temp.dropna(inplace = True)"
   ]
  },
  {
   "cell_type": "code",
   "execution_count": 89,
   "id": "1edf37a4-f2ab-4a82-bad4-00f52e9846b7",
   "metadata": {
    "tags": []
   },
   "outputs": [],
   "source": [
    "final_table.dtypes\n",
    "\n",
    "X = final_table_temp.loc[:,('industry_code_kind_of_business',\n",
    "                       'public_record_type_code',\n",
    "                       'public_record_source_type_code', \n",
    "                       'equal_credit_opportunity_act_code',\n",
    "                       'legislative_prohibited_code',\n",
    "                       'amount',\n",
    "                            )\n",
    "                        ]"
   ]
  },
  {
   "cell_type": "code",
   "execution_count": 90,
   "id": "45d1ea77-1afb-4018-a665-7c5ed15288ca",
   "metadata": {},
   "outputs": [],
   "source": [
    "#Remove NaNs to preprocess the feature matrix as model inputs \n",
    "X.dropna(inplace = True) "
   ]
  },
  {
   "cell_type": "markdown",
   "id": "b5e868e3-4640-4f77-b7c5-0f2bba6ab4c1",
   "metadata": {},
   "source": [
    "## Model for late payments \n",
    "In this section, we implement logistic regression and random forest models in scikit learn framework and train the data on the labels for loan payments that are **30 days late**.  "
   ]
  },
  {
   "cell_type": "code",
   "execution_count": 91,
   "id": "44433eb4-5f9d-4f96-88e4-d11205541aa4",
   "metadata": {
    "tags": []
   },
   "outputs": [],
   "source": [
    "#Use the label encoder to transform the labels\n",
    "Y = final_table_temp.late_30_days\n",
    "Y = encoder.fit_transform(Y) "
   ]
  },
  {
   "cell_type": "markdown",
   "id": "7a9b8667-e1c6-4241-9e73-5fea7c257cb8",
   "metadata": {},
   "source": [
    "Assuming that the features do not highly correlate with each other, one can resort to univariate feature selection using selectKBest method in scikit-learn library. \n",
    "\n",
    "The input features will be numerical. "
   ]
  },
  {
   "cell_type": "code",
   "execution_count": 92,
   "id": "d0cbb481-88a7-407a-a12b-54ad6e16ce1f",
   "metadata": {
    "tags": []
   },
   "outputs": [
    {
     "name": "stdout",
     "output_type": "stream",
     "text": [
      "['public_record_type_code' 'equal_credit_opportunity_act_code'\n",
      " 'legislative_prohibited_code' 'amount']\n"
     ]
    }
   ],
   "source": [
    "#Select the best four features based on ANOVA F-value (f_classif) \n",
    "from sklearn.feature_selection import SelectKBest, f_classif\n",
    "\n",
    "KBest = SelectKBest(score_func = f_classif, k = 4)\n",
    "X_final = KBest.fit_transform(X, Y)\n",
    "\n",
    "selected_features = KBest.get_feature_names_out()\n",
    "print(selected_features) "
   ]
  },
  {
   "cell_type": "code",
   "execution_count": 93,
   "id": "e61601bb-0410-4764-b45b-6ecf26cf6696",
   "metadata": {
    "tags": []
   },
   "outputs": [],
   "source": [
    "from sklearn.model_selection import GridSearchCV, ShuffleSplit\n",
    "from sklearn.ensemble import RandomForestClassifier\n",
    "from sklearn.linear_model import LogisticRegression\n",
    "\n",
    "#Shuffle-split the training and test data\n",
    "def shuffle_data(x,y):\n",
    "    shuffle_split = ShuffleSplit(n_splits = 2, test_size = .25, random_state = 42)\n",
    "    for i,j in shuffle_split.split(x):\n",
    "        x_train = x[i] \n",
    "        y_train = y[i]\n",
    "        x_test = x[j]\n",
    "        y_test = y[j]\n",
    "        \n",
    "    return x_train, y_train, x_test, y_test\n",
    "    \n",
    "\n",
    "X_train, Y_train, X_test, Y_test = shuffle_data(X_final,Y) \n",
    "\n",
    "\n",
    "lr_param = {\"max_iter\": [1e2,1e3,1e4],\n",
    "            \"penalty\" : ['l2'],\n",
    "            \"C\" : [0.25, 0.5, 1],\n",
    "            \"tol\": [1e-6, 1e-5, 1e-4] \n",
    "           }\n",
    "\n",
    "rf_param = {\"n_estimators\":  [1, 5, 10],                 \n",
    "            \"min_samples_split\": [2, 4, 6], \n",
    "            \"max_depth\": [1, 5, 10, 20, 40]\n",
    "              }\n",
    "\n",
    "\n",
    "log_regres = GridSearchCV(LogisticRegression(), \n",
    "                          lr_param, \n",
    "                          n_jobs = 2,\n",
    "                          cv = 5,\n",
    "                          verbose = 1)\n",
    "\n",
    "\n",
    "random_forest = GridSearchCV(RandomForestClassifier(), \n",
    "                             rf_param, \n",
    "                             n_jobs = 2,\n",
    "                             cv = 5,\n",
    "                             verbose = 1)"
   ]
  },
  {
   "cell_type": "code",
   "execution_count": 94,
   "id": "70f576cb-073d-452c-ba0a-28bcb9b77152",
   "metadata": {
    "tags": []
   },
   "outputs": [
    {
     "name": "stdout",
     "output_type": "stream",
     "text": [
      "Fitting 5 folds for each of 27 candidates, totalling 135 fits\n",
      "Fitting 5 folds for each of 45 candidates, totalling 225 fits\n"
     ]
    },
    {
     "data": {
      "text/html": [
       "<style>#sk-container-id-1 {color: black;background-color: white;}#sk-container-id-1 pre{padding: 0;}#sk-container-id-1 div.sk-toggleable {background-color: white;}#sk-container-id-1 label.sk-toggleable__label {cursor: pointer;display: block;width: 100%;margin-bottom: 0;padding: 0.3em;box-sizing: border-box;text-align: center;}#sk-container-id-1 label.sk-toggleable__label-arrow:before {content: \"▸\";float: left;margin-right: 0.25em;color: #696969;}#sk-container-id-1 label.sk-toggleable__label-arrow:hover:before {color: black;}#sk-container-id-1 div.sk-estimator:hover label.sk-toggleable__label-arrow:before {color: black;}#sk-container-id-1 div.sk-toggleable__content {max-height: 0;max-width: 0;overflow: hidden;text-align: left;background-color: #f0f8ff;}#sk-container-id-1 div.sk-toggleable__content pre {margin: 0.2em;color: black;border-radius: 0.25em;background-color: #f0f8ff;}#sk-container-id-1 input.sk-toggleable__control:checked~div.sk-toggleable__content {max-height: 200px;max-width: 100%;overflow: auto;}#sk-container-id-1 input.sk-toggleable__control:checked~label.sk-toggleable__label-arrow:before {content: \"▾\";}#sk-container-id-1 div.sk-estimator input.sk-toggleable__control:checked~label.sk-toggleable__label {background-color: #d4ebff;}#sk-container-id-1 div.sk-label input.sk-toggleable__control:checked~label.sk-toggleable__label {background-color: #d4ebff;}#sk-container-id-1 input.sk-hidden--visually {border: 0;clip: rect(1px 1px 1px 1px);clip: rect(1px, 1px, 1px, 1px);height: 1px;margin: -1px;overflow: hidden;padding: 0;position: absolute;width: 1px;}#sk-container-id-1 div.sk-estimator {font-family: monospace;background-color: #f0f8ff;border: 1px dotted black;border-radius: 0.25em;box-sizing: border-box;margin-bottom: 0.5em;}#sk-container-id-1 div.sk-estimator:hover {background-color: #d4ebff;}#sk-container-id-1 div.sk-parallel-item::after {content: \"\";width: 100%;border-bottom: 1px solid gray;flex-grow: 1;}#sk-container-id-1 div.sk-label:hover label.sk-toggleable__label {background-color: #d4ebff;}#sk-container-id-1 div.sk-serial::before {content: \"\";position: absolute;border-left: 1px solid gray;box-sizing: border-box;top: 0;bottom: 0;left: 50%;z-index: 0;}#sk-container-id-1 div.sk-serial {display: flex;flex-direction: column;align-items: center;background-color: white;padding-right: 0.2em;padding-left: 0.2em;position: relative;}#sk-container-id-1 div.sk-item {position: relative;z-index: 1;}#sk-container-id-1 div.sk-parallel {display: flex;align-items: stretch;justify-content: center;background-color: white;position: relative;}#sk-container-id-1 div.sk-item::before, #sk-container-id-1 div.sk-parallel-item::before {content: \"\";position: absolute;border-left: 1px solid gray;box-sizing: border-box;top: 0;bottom: 0;left: 50%;z-index: -1;}#sk-container-id-1 div.sk-parallel-item {display: flex;flex-direction: column;z-index: 1;position: relative;background-color: white;}#sk-container-id-1 div.sk-parallel-item:first-child::after {align-self: flex-end;width: 50%;}#sk-container-id-1 div.sk-parallel-item:last-child::after {align-self: flex-start;width: 50%;}#sk-container-id-1 div.sk-parallel-item:only-child::after {width: 0;}#sk-container-id-1 div.sk-dashed-wrapped {border: 1px dashed gray;margin: 0 0.4em 0.5em 0.4em;box-sizing: border-box;padding-bottom: 0.4em;background-color: white;}#sk-container-id-1 div.sk-label label {font-family: monospace;font-weight: bold;display: inline-block;line-height: 1.2em;}#sk-container-id-1 div.sk-label-container {text-align: center;}#sk-container-id-1 div.sk-container {/* jupyter's `normalize.less` sets `[hidden] { display: none; }` but bootstrap.min.css set `[hidden] { display: none !important; }` so we also need the `!important` here to be able to override the default hidden behavior on the sphinx rendered scikit-learn.org. See: https://github.com/scikit-learn/scikit-learn/issues/21755 */display: inline-block !important;position: relative;}#sk-container-id-1 div.sk-text-repr-fallback {display: none;}</style><div id=\"sk-container-id-1\" class=\"sk-top-container\"><div class=\"sk-text-repr-fallback\"><pre>GridSearchCV(cv=5, estimator=RandomForestClassifier(), n_jobs=2,\n",
       "             param_grid={&#x27;max_depth&#x27;: [1, 5, 10, 20, 40],\n",
       "                         &#x27;min_samples_split&#x27;: [2, 4, 6],\n",
       "                         &#x27;n_estimators&#x27;: [1, 5, 10]},\n",
       "             verbose=1)</pre><b>In a Jupyter environment, please rerun this cell to show the HTML representation or trust the notebook. <br />On GitHub, the HTML representation is unable to render, please try loading this page with nbviewer.org.</b></div><div class=\"sk-container\" hidden><div class=\"sk-item sk-dashed-wrapped\"><div class=\"sk-label-container\"><div class=\"sk-label sk-toggleable\"><input class=\"sk-toggleable__control sk-hidden--visually\" id=\"sk-estimator-id-1\" type=\"checkbox\" ><label for=\"sk-estimator-id-1\" class=\"sk-toggleable__label sk-toggleable__label-arrow\">GridSearchCV</label><div class=\"sk-toggleable__content\"><pre>GridSearchCV(cv=5, estimator=RandomForestClassifier(), n_jobs=2,\n",
       "             param_grid={&#x27;max_depth&#x27;: [1, 5, 10, 20, 40],\n",
       "                         &#x27;min_samples_split&#x27;: [2, 4, 6],\n",
       "                         &#x27;n_estimators&#x27;: [1, 5, 10]},\n",
       "             verbose=1)</pre></div></div></div><div class=\"sk-parallel\"><div class=\"sk-parallel-item\"><div class=\"sk-item\"><div class=\"sk-label-container\"><div class=\"sk-label sk-toggleable\"><input class=\"sk-toggleable__control sk-hidden--visually\" id=\"sk-estimator-id-2\" type=\"checkbox\" ><label for=\"sk-estimator-id-2\" class=\"sk-toggleable__label sk-toggleable__label-arrow\">estimator: RandomForestClassifier</label><div class=\"sk-toggleable__content\"><pre>RandomForestClassifier()</pre></div></div></div><div class=\"sk-serial\"><div class=\"sk-item\"><div class=\"sk-estimator sk-toggleable\"><input class=\"sk-toggleable__control sk-hidden--visually\" id=\"sk-estimator-id-3\" type=\"checkbox\" ><label for=\"sk-estimator-id-3\" class=\"sk-toggleable__label sk-toggleable__label-arrow\">RandomForestClassifier</label><div class=\"sk-toggleable__content\"><pre>RandomForestClassifier()</pre></div></div></div></div></div></div></div></div></div></div>"
      ],
      "text/plain": [
       "GridSearchCV(cv=5, estimator=RandomForestClassifier(), n_jobs=2,\n",
       "             param_grid={'max_depth': [1, 5, 10, 20, 40],\n",
       "                         'min_samples_split': [2, 4, 6],\n",
       "                         'n_estimators': [1, 5, 10]},\n",
       "             verbose=1)"
      ]
     },
     "execution_count": 94,
     "metadata": {},
     "output_type": "execute_result"
    }
   ],
   "source": [
    "log_regres.fit(X_train,Y_train)\n",
    "random_forest.fit(X_train,Y_train)"
   ]
  },
  {
   "cell_type": "code",
   "execution_count": 95,
   "id": "36b6d5fc-dfd6-46fd-ac79-62fce73b65ed",
   "metadata": {
    "tags": []
   },
   "outputs": [
    {
     "name": "stdout",
     "output_type": "stream",
     "text": [
      "Logistic Regression Score : 0.8442496094725165\n",
      "Random Forest Score : 0.8442921290102625\n"
     ]
    }
   ],
   "source": [
    "#Find the model scores \n",
    "print(\"Logistic Regression Score :\",log_regres.best_score_)\n",
    "print(\"Random Forest Score :\" ,random_forest.best_score_)"
   ]
  },
  {
   "cell_type": "code",
   "execution_count": 96,
   "id": "7592f026-904f-47a6-9175-ab8742a852e2",
   "metadata": {
    "tags": []
   },
   "outputs": [
    {
     "data": {
      "text/plain": [
       "{'C': 0.25, 'max_iter': 100.0, 'penalty': 'l2', 'tol': 1e-06}"
      ]
     },
     "execution_count": 96,
     "metadata": {},
     "output_type": "execute_result"
    }
   ],
   "source": [
    "log_regres.best_params_"
   ]
  },
  {
   "cell_type": "code",
   "execution_count": 97,
   "id": "ee9f8e6c-e13e-4055-a321-a2cb15418a3c",
   "metadata": {
    "tags": []
   },
   "outputs": [
    {
     "data": {
      "text/plain": [
       "{'max_depth': 5, 'min_samples_split': 4, 'n_estimators': 5}"
      ]
     },
     "execution_count": 97,
     "metadata": {},
     "output_type": "execute_result"
    }
   ],
   "source": [
    "random_forest.best_params_"
   ]
  },
  {
   "cell_type": "code",
   "execution_count": 98,
   "id": "3e55a009-c078-4bc9-b6d0-b7bda1bab8a4",
   "metadata": {
    "tags": []
   },
   "outputs": [
    {
     "data": {
      "image/png": "[encoded data removed]",
      "text/plain": [
       "<Figure size 432x432 with 1 Axes>"
      ]
     },
     "metadata": {},
     "output_type": "display_data"
    }
   ],
   "source": [
    "#Plot ROC curves for both models \n",
    "from sklearn import metrics\n",
    "\n",
    "plt.figure(figsize = (6, 6)) \n",
    "\n",
    "Y_pred = log_regres.predict_proba(X_test)[:, 1]\n",
    "fpr, tpr, _ = metrics.roc_curve(Y_test, Y_pred)\n",
    "auc = round(metrics.roc_auc_score(Y_test, Y_pred), 3)\n",
    "plt.plot(fpr,tpr,label=\"Logistic Regression, AUC=\"+str(auc))\n",
    "\n",
    "Y_pred = random_forest.predict_proba(X_test)[:, 1]\n",
    "fpr, tpr, _ = metrics.roc_curve(Y_test, Y_pred)\n",
    "auc = round(metrics.roc_auc_score(Y_test, Y_pred), 3)\n",
    "plt.plot(fpr,tpr,label=\"Random Forest, AUC=\"+str(auc))\n",
    "\n",
    "plt.legend()\n",
    "plt.title('ROC curves of two models on 30-days data')\n",
    "plt.xlabel('False Positive Rate')\n",
    "plt.ylabel('True Positive Rate') \n",
    "plt.show()"
   ]
  },
  {
   "cell_type": "markdown",
   "id": "70a2226c-0b09-4779-a635-f6e459f8007f",
   "metadata": {},
   "source": [
    "Applying the same model to the labels for **60 days late payments** "
   ]
  },
  {
   "cell_type": "code",
   "execution_count": 99,
   "id": "37dfc2cd-5e04-4f77-971a-a514bcadce69",
   "metadata": {
    "tags": []
   },
   "outputs": [],
   "source": [
    "#Labels for 60 days late payments \n",
    "\n",
    "Y_sixty = final_table_temp.late_60_days\n",
    "Y_sixty = encoder.fit_transform(Y_sixty) "
   ]
  },
  {
   "cell_type": "code",
   "execution_count": 100,
   "id": "ce5a7deb-d30a-4d88-8a42-4435bcf144b5",
   "metadata": {
    "tags": []
   },
   "outputs": [],
   "source": [
    "#Select the best four features based on ANOVA F-value (f_classif()) \n",
    "X_final_sixty = KBest.fit_transform(X, Y_sixty)"
   ]
  },
  {
   "cell_type": "code",
   "execution_count": 101,
   "id": "4440135a-f853-452d-8ca1-81759bae14d7",
   "metadata": {
    "tags": []
   },
   "outputs": [],
   "source": [
    "#Shuffle-split the data\n",
    "XX_train, YY_train, XX_test, YY_test = shuffle_data(X_final_sixty,Y_sixty)"
   ]
  },
  {
   "cell_type": "code",
   "execution_count": 102,
   "id": "cf9351b0-e574-4894-843b-e5f9d47cd248",
   "metadata": {
    "tags": []
   },
   "outputs": [
    {
     "name": "stdout",
     "output_type": "stream",
     "text": [
      "Fitting 5 folds for each of 27 candidates, totalling 135 fits\n",
      "Fitting 5 folds for each of 45 candidates, totalling 225 fits\n"
     ]
    },
    {
     "data": {
      "text/html": [
       "<style>#sk-container-id-2 {color: black;background-color: white;}#sk-container-id-2 pre{padding: 0;}#sk-container-id-2 div.sk-toggleable {background-color: white;}#sk-container-id-2 label.sk-toggleable__label {cursor: pointer;display: block;width: 100%;margin-bottom: 0;padding: 0.3em;box-sizing: border-box;text-align: center;}#sk-container-id-2 label.sk-toggleable__label-arrow:before {content: \"▸\";float: left;margin-right: 0.25em;color: #696969;}#sk-container-id-2 label.sk-toggleable__label-arrow:hover:before {color: black;}#sk-container-id-2 div.sk-estimator:hover label.sk-toggleable__label-arrow:before {color: black;}#sk-container-id-2 div.sk-toggleable__content {max-height: 0;max-width: 0;overflow: hidden;text-align: left;background-color: #f0f8ff;}#sk-container-id-2 div.sk-toggleable__content pre {margin: 0.2em;color: black;border-radius: 0.25em;background-color: #f0f8ff;}#sk-container-id-2 input.sk-toggleable__control:checked~div.sk-toggleable__content {max-height: 200px;max-width: 100%;overflow: auto;}#sk-container-id-2 input.sk-toggleable__control:checked~label.sk-toggleable__label-arrow:before {content: \"▾\";}#sk-container-id-2 div.sk-estimator input.sk-toggleable__control:checked~label.sk-toggleable__label {background-color: #d4ebff;}#sk-container-id-2 div.sk-label input.sk-toggleable__control:checked~label.sk-toggleable__label {background-color: #d4ebff;}#sk-container-id-2 input.sk-hidden--visually {border: 0;clip: rect(1px 1px 1px 1px);clip: rect(1px, 1px, 1px, 1px);height: 1px;margin: -1px;overflow: hidden;padding: 0;position: absolute;width: 1px;}#sk-container-id-2 div.sk-estimator {font-family: monospace;background-color: #f0f8ff;border: 1px dotted black;border-radius: 0.25em;box-sizing: border-box;margin-bottom: 0.5em;}#sk-container-id-2 div.sk-estimator:hover {background-color: #d4ebff;}#sk-container-id-2 div.sk-parallel-item::after {content: \"\";width: 100%;border-bottom: 1px solid gray;flex-grow: 1;}#sk-container-id-2 div.sk-label:hover label.sk-toggleable__label {background-color: #d4ebff;}#sk-container-id-2 div.sk-serial::before {content: \"\";position: absolute;border-left: 1px solid gray;box-sizing: border-box;top: 0;bottom: 0;left: 50%;z-index: 0;}#sk-container-id-2 div.sk-serial {display: flex;flex-direction: column;align-items: center;background-color: white;padding-right: 0.2em;padding-left: 0.2em;position: relative;}#sk-container-id-2 div.sk-item {position: relative;z-index: 1;}#sk-container-id-2 div.sk-parallel {display: flex;align-items: stretch;justify-content: center;background-color: white;position: relative;}#sk-container-id-2 div.sk-item::before, #sk-container-id-2 div.sk-parallel-item::before {content: \"\";position: absolute;border-left: 1px solid gray;box-sizing: border-box;top: 0;bottom: 0;left: 50%;z-index: -1;}#sk-container-id-2 div.sk-parallel-item {display: flex;flex-direction: column;z-index: 1;position: relative;background-color: white;}#sk-container-id-2 div.sk-parallel-item:first-child::after {align-self: flex-end;width: 50%;}#sk-container-id-2 div.sk-parallel-item:last-child::after {align-self: flex-start;width: 50%;}#sk-container-id-2 div.sk-parallel-item:only-child::after {width: 0;}#sk-container-id-2 div.sk-dashed-wrapped {border: 1px dashed gray;margin: 0 0.4em 0.5em 0.4em;box-sizing: border-box;padding-bottom: 0.4em;background-color: white;}#sk-container-id-2 div.sk-label label {font-family: monospace;font-weight: bold;display: inline-block;line-height: 1.2em;}#sk-container-id-2 div.sk-label-container {text-align: center;}#sk-container-id-2 div.sk-container {/* jupyter's `normalize.less` sets `[hidden] { display: none; }` but bootstrap.min.css set `[hidden] { display: none !important; }` so we also need the `!important` here to be able to override the default hidden behavior on the sphinx rendered scikit-learn.org. See: https://github.com/scikit-learn/scikit-learn/issues/21755 */display: inline-block !important;position: relative;}#sk-container-id-2 div.sk-text-repr-fallback {display: none;}</style><div id=\"sk-container-id-2\" class=\"sk-top-container\"><div class=\"sk-text-repr-fallback\"><pre>GridSearchCV(cv=5, estimator=RandomForestClassifier(), n_jobs=2,\n",
       "             param_grid={&#x27;max_depth&#x27;: [1, 5, 10, 20, 40],\n",
       "                         &#x27;min_samples_split&#x27;: [2, 4, 6],\n",
       "                         &#x27;n_estimators&#x27;: [1, 5, 10]},\n",
       "             verbose=1)</pre><b>In a Jupyter environment, please rerun this cell to show the HTML representation or trust the notebook. <br />On GitHub, the HTML representation is unable to render, please try loading this page with nbviewer.org.</b></div><div class=\"sk-container\" hidden><div class=\"sk-item sk-dashed-wrapped\"><div class=\"sk-label-container\"><div class=\"sk-label sk-toggleable\"><input class=\"sk-toggleable__control sk-hidden--visually\" id=\"sk-estimator-id-4\" type=\"checkbox\" ><label for=\"sk-estimator-id-4\" class=\"sk-toggleable__label sk-toggleable__label-arrow\">GridSearchCV</label><div class=\"sk-toggleable__content\"><pre>GridSearchCV(cv=5, estimator=RandomForestClassifier(), n_jobs=2,\n",
       "             param_grid={&#x27;max_depth&#x27;: [1, 5, 10, 20, 40],\n",
       "                         &#x27;min_samples_split&#x27;: [2, 4, 6],\n",
       "                         &#x27;n_estimators&#x27;: [1, 5, 10]},\n",
       "             verbose=1)</pre></div></div></div><div class=\"sk-parallel\"><div class=\"sk-parallel-item\"><div class=\"sk-item\"><div class=\"sk-label-container\"><div class=\"sk-label sk-toggleable\"><input class=\"sk-toggleable__control sk-hidden--visually\" id=\"sk-estimator-id-5\" type=\"checkbox\" ><label for=\"sk-estimator-id-5\" class=\"sk-toggleable__label sk-toggleable__label-arrow\">estimator: RandomForestClassifier</label><div class=\"sk-toggleable__content\"><pre>RandomForestClassifier()</pre></div></div></div><div class=\"sk-serial\"><div class=\"sk-item\"><div class=\"sk-estimator sk-toggleable\"><input class=\"sk-toggleable__control sk-hidden--visually\" id=\"sk-estimator-id-6\" type=\"checkbox\" ><label for=\"sk-estimator-id-6\" class=\"sk-toggleable__label sk-toggleable__label-arrow\">RandomForestClassifier</label><div class=\"sk-toggleable__content\"><pre>RandomForestClassifier()</pre></div></div></div></div></div></div></div></div></div></div>"
      ],
      "text/plain": [
       "GridSearchCV(cv=5, estimator=RandomForestClassifier(), n_jobs=2,\n",
       "             param_grid={'max_depth': [1, 5, 10, 20, 40],\n",
       "                         'min_samples_split': [2, 4, 6],\n",
       "                         'n_estimators': [1, 5, 10]},\n",
       "             verbose=1)"
      ]
     },
     "execution_count": 102,
     "metadata": {},
     "output_type": "execute_result"
    }
   ],
   "source": [
    "#Fit the same model \n",
    "log_regres.fit(XX_train,YY_train)\n",
    "random_forest.fit(XX_train,YY_train)"
   ]
  },
  {
   "cell_type": "code",
   "execution_count": 103,
   "id": "c0f1b449-1681-437c-a039-2fe3b54de00f",
   "metadata": {
    "tags": []
   },
   "outputs": [
    {
     "name": "stdout",
     "output_type": "stream",
     "text": [
      "Logistic Regression Score : 0.87829104131108\n",
      "Random Forest Score : 0.8783505683746562\n"
     ]
    }
   ],
   "source": [
    "#Find the model scores for late-60 days data \n",
    "print(\"Logistic Regression Score :\",log_regres.best_score_)\n",
    "print(\"Random Forest Score :\" ,random_forest.best_score_)"
   ]
  },
  {
   "cell_type": "code",
   "execution_count": 104,
   "id": "8885c8cd-8fe7-487d-bcf8-b8d6df613ec9",
   "metadata": {
    "tags": []
   },
   "outputs": [
    {
     "data": {
      "image/png": "[encoded data removed]",
      "text/plain": [
       "<Figure size 432x432 with 1 Axes>"
      ]
     },
     "metadata": {},
     "output_type": "display_data"
    }
   ],
   "source": [
    "#Plot ROC curves for both models \n",
    "plt.figure(figsize = (6, 6)) \n",
    "\n",
    "YY_pred = log_regres.predict_proba(XX_test)[:, 1]\n",
    "fpr, tpr, _ = metrics.roc_curve(YY_test, YY_pred)\n",
    "auc = round(metrics.roc_auc_score(YY_test, YY_pred), 3)\n",
    "plt.plot(fpr,tpr,label = \"Logistic Regression, AUC = \"+str(auc))\n",
    "\n",
    "YY_pred = random_forest.predict_proba(XX_test)[:, 1]\n",
    "fpr, tpr, _ = metrics.roc_curve(YY_test, YY_pred)\n",
    "auc = round(metrics.roc_auc_score(YY_test, YY_pred), 3)\n",
    "plt.plot(fpr,tpr,label = \"Random Forest, AUC = \"+str(auc))\n",
    "\n",
    "plt.legend()\n",
    "plt.title('ROC curves of two models on 60-days data')\n",
    "plt.xlabel('False Positive Rate')\n",
    "plt.ylabel('True Positive Rate') \n",
    "plt.show()"
   ]
  },
  {
   "cell_type": "markdown",
   "id": "6d93c875-77d6-47a5-83d2-84d2c13fa5b9",
   "metadata": {},
   "source": [
    "The model score becomes marginally higher. We finalize the classification with fitting the model to late-90 days data"
   ]
  },
  {
   "cell_type": "code",
   "execution_count": 105,
   "id": "d11e48e4-b2e0-4d40-950e-a0c15f637d8f",
   "metadata": {
    "tags": []
   },
   "outputs": [],
   "source": [
    "#Labels for 90-days late payments \n",
    "Y_ninety = final_table_temp.late_90_days\n",
    "Y_ninety = encoder.fit_transform(Y_ninety) "
   ]
  },
  {
   "cell_type": "code",
   "execution_count": 106,
   "id": "567ab7f3-79a1-40ef-9474-5b7a24813704",
   "metadata": {
    "tags": []
   },
   "outputs": [],
   "source": [
    "#Select the best four features based on ANOVA F-value (f_classif()) \n",
    "X_final_ninety = KBest.fit_transform(X, Y_ninety)"
   ]
  },
  {
   "cell_type": "code",
   "execution_count": 107,
   "id": "855055d1-5125-41e7-860a-b0f0680b0f56",
   "metadata": {
    "tags": []
   },
   "outputs": [],
   "source": [
    "#Shuffle-split the data\n",
    "XXX_train, YYY_train, XXX_test, YYY_test = shuffle_data(X_final_ninety,Y_ninety)"
   ]
  },
  {
   "cell_type": "code",
   "execution_count": 108,
   "id": "b5f3c981-2d2d-411e-84f2-968b67e1bcd1",
   "metadata": {
    "tags": []
   },
   "outputs": [
    {
     "name": "stdout",
     "output_type": "stream",
     "text": [
      "Fitting 5 folds for each of 27 candidates, totalling 135 fits\n",
      "Fitting 5 folds for each of 45 candidates, totalling 225 fits\n"
     ]
    },
    {
     "data": {
      "text/html": [
       "<style>#sk-container-id-3 {color: black;background-color: white;}#sk-container-id-3 pre{padding: 0;}#sk-container-id-3 div.sk-toggleable {background-color: white;}#sk-container-id-3 label.sk-toggleable__label {cursor: pointer;display: block;width: 100%;margin-bottom: 0;padding: 0.3em;box-sizing: border-box;text-align: center;}#sk-container-id-3 label.sk-toggleable__label-arrow:before {content: \"▸\";float: left;margin-right: 0.25em;color: #696969;}#sk-container-id-3 label.sk-toggleable__label-arrow:hover:before {color: black;}#sk-container-id-3 div.sk-estimator:hover label.sk-toggleable__label-arrow:before {color: black;}#sk-container-id-3 div.sk-toggleable__content {max-height: 0;max-width: 0;overflow: hidden;text-align: left;background-color: #f0f8ff;}#sk-container-id-3 div.sk-toggleable__content pre {margin: 0.2em;color: black;border-radius: 0.25em;background-color: #f0f8ff;}#sk-container-id-3 input.sk-toggleable__control:checked~div.sk-toggleable__content {max-height: 200px;max-width: 100%;overflow: auto;}#sk-container-id-3 input.sk-toggleable__control:checked~label.sk-toggleable__label-arrow:before {content: \"▾\";}#sk-container-id-3 div.sk-estimator input.sk-toggleable__control:checked~label.sk-toggleable__label {background-color: #d4ebff;}#sk-container-id-3 div.sk-label input.sk-toggleable__control:checked~label.sk-toggleable__label {background-color: #d4ebff;}#sk-container-id-3 input.sk-hidden--visually {border: 0;clip: rect(1px 1px 1px 1px);clip: rect(1px, 1px, 1px, 1px);height: 1px;margin: -1px;overflow: hidden;padding: 0;position: absolute;width: 1px;}#sk-container-id-3 div.sk-estimator {font-family: monospace;background-color: #f0f8ff;border: 1px dotted black;border-radius: 0.25em;box-sizing: border-box;margin-bottom: 0.5em;}#sk-container-id-3 div.sk-estimator:hover {background-color: #d4ebff;}#sk-container-id-3 div.sk-parallel-item::after {content: \"\";width: 100%;border-bottom: 1px solid gray;flex-grow: 1;}#sk-container-id-3 div.sk-label:hover label.sk-toggleable__label {background-color: #d4ebff;}#sk-container-id-3 div.sk-serial::before {content: \"\";position: absolute;border-left: 1px solid gray;box-sizing: border-box;top: 0;bottom: 0;left: 50%;z-index: 0;}#sk-container-id-3 div.sk-serial {display: flex;flex-direction: column;align-items: center;background-color: white;padding-right: 0.2em;padding-left: 0.2em;position: relative;}#sk-container-id-3 div.sk-item {position: relative;z-index: 1;}#sk-container-id-3 div.sk-parallel {display: flex;align-items: stretch;justify-content: center;background-color: white;position: relative;}#sk-container-id-3 div.sk-item::before, #sk-container-id-3 div.sk-parallel-item::before {content: \"\";position: absolute;border-left: 1px solid gray;box-sizing: border-box;top: 0;bottom: 0;left: 50%;z-index: -1;}#sk-container-id-3 div.sk-parallel-item {display: flex;flex-direction: column;z-index: 1;position: relative;background-color: white;}#sk-container-id-3 div.sk-parallel-item:first-child::after {align-self: flex-end;width: 50%;}#sk-container-id-3 div.sk-parallel-item:last-child::after {align-self: flex-start;width: 50%;}#sk-container-id-3 div.sk-parallel-item:only-child::after {width: 0;}#sk-container-id-3 div.sk-dashed-wrapped {border: 1px dashed gray;margin: 0 0.4em 0.5em 0.4em;box-sizing: border-box;padding-bottom: 0.4em;background-color: white;}#sk-container-id-3 div.sk-label label {font-family: monospace;font-weight: bold;display: inline-block;line-height: 1.2em;}#sk-container-id-3 div.sk-label-container {text-align: center;}#sk-container-id-3 div.sk-container {/* jupyter's `normalize.less` sets `[hidden] { display: none; }` but bootstrap.min.css set `[hidden] { display: none !important; }` so we also need the `!important` here to be able to override the default hidden behavior on the sphinx rendered scikit-learn.org. See: https://github.com/scikit-learn/scikit-learn/issues/21755 */display: inline-block !important;position: relative;}#sk-container-id-3 div.sk-text-repr-fallback {display: none;}</style><div id=\"sk-container-id-3\" class=\"sk-top-container\"><div class=\"sk-text-repr-fallback\"><pre>GridSearchCV(cv=5, estimator=RandomForestClassifier(), n_jobs=2,\n",
       "             param_grid={&#x27;max_depth&#x27;: [1, 5, 10, 20, 40],\n",
       "                         &#x27;min_samples_split&#x27;: [2, 4, 6],\n",
       "                         &#x27;n_estimators&#x27;: [1, 5, 10]},\n",
       "             verbose=1)</pre><b>In a Jupyter environment, please rerun this cell to show the HTML representation or trust the notebook. <br />On GitHub, the HTML representation is unable to render, please try loading this page with nbviewer.org.</b></div><div class=\"sk-container\" hidden><div class=\"sk-item sk-dashed-wrapped\"><div class=\"sk-label-container\"><div class=\"sk-label sk-toggleable\"><input class=\"sk-toggleable__control sk-hidden--visually\" id=\"sk-estimator-id-7\" type=\"checkbox\" ><label for=\"sk-estimator-id-7\" class=\"sk-toggleable__label sk-toggleable__label-arrow\">GridSearchCV</label><div class=\"sk-toggleable__content\"><pre>GridSearchCV(cv=5, estimator=RandomForestClassifier(), n_jobs=2,\n",
       "             param_grid={&#x27;max_depth&#x27;: [1, 5, 10, 20, 40],\n",
       "                         &#x27;min_samples_split&#x27;: [2, 4, 6],\n",
       "                         &#x27;n_estimators&#x27;: [1, 5, 10]},\n",
       "             verbose=1)</pre></div></div></div><div class=\"sk-parallel\"><div class=\"sk-parallel-item\"><div class=\"sk-item\"><div class=\"sk-label-container\"><div class=\"sk-label sk-toggleable\"><input class=\"sk-toggleable__control sk-hidden--visually\" id=\"sk-estimator-id-8\" type=\"checkbox\" ><label for=\"sk-estimator-id-8\" class=\"sk-toggleable__label sk-toggleable__label-arrow\">estimator: RandomForestClassifier</label><div class=\"sk-toggleable__content\"><pre>RandomForestClassifier()</pre></div></div></div><div class=\"sk-serial\"><div class=\"sk-item\"><div class=\"sk-estimator sk-toggleable\"><input class=\"sk-toggleable__control sk-hidden--visually\" id=\"sk-estimator-id-9\" type=\"checkbox\" ><label for=\"sk-estimator-id-9\" class=\"sk-toggleable__label sk-toggleable__label-arrow\">RandomForestClassifier</label><div class=\"sk-toggleable__content\"><pre>RandomForestClassifier()</pre></div></div></div></div></div></div></div></div></div></div>"
      ],
      "text/plain": [
       "GridSearchCV(cv=5, estimator=RandomForestClassifier(), n_jobs=2,\n",
       "             param_grid={'max_depth': [1, 5, 10, 20, 40],\n",
       "                         'min_samples_split': [2, 4, 6],\n",
       "                         'n_estimators': [1, 5, 10]},\n",
       "             verbose=1)"
      ]
     },
     "execution_count": 108,
     "metadata": {},
     "output_type": "execute_result"
    }
   ],
   "source": [
    "#Fit the same model \n",
    "log_regres.fit(XXX_train,YYY_train)\n",
    "random_forest.fit(XXX_train,YYY_train)"
   ]
  },
  {
   "cell_type": "code",
   "execution_count": 109,
   "id": "06cb0996-7455-405e-8bec-22864e14e9bc",
   "metadata": {
    "tags": []
   },
   "outputs": [
    {
     "name": "stdout",
     "output_type": "stream",
     "text": [
      "Logistic Regression Score : 0.8884532972512671\n",
      "Random Forest Score : 0.888529832202259\n"
     ]
    }
   ],
   "source": [
    "#Find the model scores for late-60 days data \n",
    "print(\"Logistic Regression Score :\",log_regres.best_score_)\n",
    "print(\"Random Forest Score :\" ,random_forest.best_score_)"
   ]
  },
  {
   "cell_type": "code",
   "execution_count": 110,
   "id": "667c4148-1842-460a-8fe9-4fe01cdd4228",
   "metadata": {
    "tags": []
   },
   "outputs": [
    {
     "data": {
      "image/png": "[encoded data removed]",
      "text/plain": [
       "<Figure size 432x432 with 1 Axes>"
      ]
     },
     "metadata": {},
     "output_type": "display_data"
    }
   ],
   "source": [
    "#Plot the ROC curve of both models on 90-days data\n",
    "plt.figure(figsize = (6, 6)) \n",
    "\n",
    "YYY_pred = log_regres.predict_proba(XXX_test)[:, 1]\n",
    "fpr, tpr, _ = metrics.roc_curve(YYY_test, YYY_pred)\n",
    "auc = round(metrics.roc_auc_score(YYY_test, YYY_pred), 3)\n",
    "plt.plot(fpr,tpr,label = \"Logistic Regression, AUC = \"+str(auc))\n",
    "\n",
    "YYY_pred = random_forest.predict_proba(XXX_test)[:, 1]\n",
    "fpr, tpr, _ = metrics.roc_curve(YYY_test, YYY_pred)\n",
    "auc = round(metrics.roc_auc_score(YYY_test, YYY_pred), 3)\n",
    "plt.plot(fpr,tpr,label = \"Random Forest, AUC = \"+str(auc))\n",
    "\n",
    "plt.legend()\n",
    "plt.title('ROC curves of two models on 90-days data')\n",
    "plt.xlabel('False Positive Rate')\n",
    "plt.ylabel('True Positive Rate') \n",
    "plt.show()"
   ]
  },
  {
   "cell_type": "markdown",
   "id": "dc04150a-2a9c-4a59-9c8d-37e202b7eb2e",
   "metadata": {},
   "source": [
    "### Comments on the model output and future models\n",
    "- The ROC curves of both models are close to the diagonal, which designates a line for any random classifier. Based on this outcome, we can conclude that models performances are not ideal. This may be a result of feature encoding or the lack of feature engineering. Both options can be explored to improve the model scores, and ideally, decrease false positive rates. \n",
    "- Another possible model one could consider is a regressor to predict the maximum amount of the loan given as a function of the features defined above. Such prediction may give us a measure of the risk that the creditor is taking based on the customer's background and past loan deliquencies. "
   ]
  }
 ],
 "metadata": {
  "kernelspec": {
   "display_name": "Python 3 (ipykernel)",
   "language": "python",
   "name": "python3"
  },
  "language_info": {
   "codemirror_mode": {
    "name": "ipython",
    "version": 3
   },
   "file_extension": ".py",
   "mimetype": "text/x-python",
   "name": "python",
   "nbconvert_exporter": "python",
   "pygments_lexer": "ipython3",
   "version": "3.9.17"
  }
 },
 "nbformat": 4,
 "nbformat_minor": 5
}
